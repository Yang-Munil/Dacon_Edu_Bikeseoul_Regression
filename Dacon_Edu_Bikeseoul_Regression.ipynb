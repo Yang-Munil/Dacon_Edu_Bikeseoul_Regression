{
 "cells": [
  {
   "cell_type": "code",
   "execution_count": 1,
   "metadata": {},
   "outputs": [],
   "source": [
    "# Importing libraries\n",
    "\n",
    "import numpy as np \n",
    "import pandas as pd \n",
    "import matplotlib.pyplot as plt\n",
    "import seaborn as sns\n",
    "from sklearn.linear_model import LinearRegression\n",
    "from sklearn.ensemble import RandomForestRegressor, BaggingRegressor, GradientBoostingRegressor\n",
    "from sklearn.tree import DecisionTreeRegressor\n",
    "from sklearn.svm import SVR\n",
    "import sklearn.linear_model as linear_model\n",
    "from sklearn.linear_model import Lasso\n",
    "from scipy import stats\n",
    "from xgboost import XGBRegressor # 부스팅-XGBoost회귀\n",
    "from lightgbm import LGBMRegressor # 부스팅-LightGBM 회귀\n",
    "import xgboost as xgb\n",
    "from sklearn.model_selection import KFold, cross_val_score, GridSearchCV, RandomizedSearchCV\n",
    "from sklearn.model_selection import train_test_split\n",
    "from sklearn.preprocessing import LabelEncoder\n",
    "from sklearn.preprocessing import StandardScaler, MinMaxScaler, RobustScaler, Normalizer\n",
    "from sklearn.metrics import mean_squared_error\n",
    "from sklearn.metrics import make_scorer, r2_score\n",
    "import warnings         # warnings : 버전 충돌 및 특정 예외 처리를 위해 불러온 내장 모듈\n",
    "warnings.filterwarnings(\"ignore\", category=RuntimeWarning)"
   ]
  },
  {
   "cell_type": "markdown",
   "metadata": {},
   "source": [
    "# 1. EDA"
   ]
  },
  {
   "cell_type": "code",
   "execution_count": 2,
   "metadata": {},
   "outputs": [],
   "source": [
    "train = pd.read_csv('./train.csv')"
   ]
  },
  {
   "cell_type": "code",
   "execution_count": 3,
   "metadata": {},
   "outputs": [
    {
     "data": {
      "text/html": [
       "<div>\n",
       "<style scoped>\n",
       "    .dataframe tbody tr th:only-of-type {\n",
       "        vertical-align: middle;\n",
       "    }\n",
       "\n",
       "    .dataframe tbody tr th {\n",
       "        vertical-align: top;\n",
       "    }\n",
       "\n",
       "    .dataframe thead th {\n",
       "        text-align: right;\n",
       "    }\n",
       "</style>\n",
       "<table border=\"1\" class=\"dataframe\">\n",
       "  <thead>\n",
       "    <tr style=\"text-align: right;\">\n",
       "      <th></th>\n",
       "      <th>id</th>\n",
       "      <th>hour</th>\n",
       "      <th>hour_bef_temperature</th>\n",
       "      <th>hour_bef_precipitation</th>\n",
       "      <th>hour_bef_windspeed</th>\n",
       "      <th>hour_bef_humidity</th>\n",
       "      <th>hour_bef_visibility</th>\n",
       "      <th>hour_bef_ozone</th>\n",
       "      <th>hour_bef_pm10</th>\n",
       "      <th>hour_bef_pm2.5</th>\n",
       "      <th>count</th>\n",
       "    </tr>\n",
       "  </thead>\n",
       "  <tbody>\n",
       "    <tr>\n",
       "      <th>0</th>\n",
       "      <td>3</td>\n",
       "      <td>20</td>\n",
       "      <td>16.3</td>\n",
       "      <td>1.0</td>\n",
       "      <td>1.5</td>\n",
       "      <td>89.0</td>\n",
       "      <td>576.0</td>\n",
       "      <td>0.027</td>\n",
       "      <td>76.0</td>\n",
       "      <td>33.0</td>\n",
       "      <td>49.0</td>\n",
       "    </tr>\n",
       "    <tr>\n",
       "      <th>1</th>\n",
       "      <td>6</td>\n",
       "      <td>13</td>\n",
       "      <td>20.1</td>\n",
       "      <td>0.0</td>\n",
       "      <td>1.4</td>\n",
       "      <td>48.0</td>\n",
       "      <td>916.0</td>\n",
       "      <td>0.042</td>\n",
       "      <td>73.0</td>\n",
       "      <td>40.0</td>\n",
       "      <td>159.0</td>\n",
       "    </tr>\n",
       "    <tr>\n",
       "      <th>2</th>\n",
       "      <td>7</td>\n",
       "      <td>6</td>\n",
       "      <td>13.9</td>\n",
       "      <td>0.0</td>\n",
       "      <td>0.7</td>\n",
       "      <td>79.0</td>\n",
       "      <td>1382.0</td>\n",
       "      <td>0.033</td>\n",
       "      <td>32.0</td>\n",
       "      <td>19.0</td>\n",
       "      <td>26.0</td>\n",
       "    </tr>\n",
       "    <tr>\n",
       "      <th>3</th>\n",
       "      <td>8</td>\n",
       "      <td>23</td>\n",
       "      <td>8.1</td>\n",
       "      <td>0.0</td>\n",
       "      <td>2.7</td>\n",
       "      <td>54.0</td>\n",
       "      <td>946.0</td>\n",
       "      <td>0.040</td>\n",
       "      <td>75.0</td>\n",
       "      <td>64.0</td>\n",
       "      <td>57.0</td>\n",
       "    </tr>\n",
       "    <tr>\n",
       "      <th>4</th>\n",
       "      <td>9</td>\n",
       "      <td>18</td>\n",
       "      <td>29.5</td>\n",
       "      <td>0.0</td>\n",
       "      <td>4.8</td>\n",
       "      <td>7.0</td>\n",
       "      <td>2000.0</td>\n",
       "      <td>0.057</td>\n",
       "      <td>27.0</td>\n",
       "      <td>11.0</td>\n",
       "      <td>431.0</td>\n",
       "    </tr>\n",
       "  </tbody>\n",
       "</table>\n",
       "</div>"
      ],
      "text/plain": [
       "   id  hour  hour_bef_temperature  hour_bef_precipitation  hour_bef_windspeed  \\\n",
       "0   3    20                  16.3                     1.0                 1.5   \n",
       "1   6    13                  20.1                     0.0                 1.4   \n",
       "2   7     6                  13.9                     0.0                 0.7   \n",
       "3   8    23                   8.1                     0.0                 2.7   \n",
       "4   9    18                  29.5                     0.0                 4.8   \n",
       "\n",
       "   hour_bef_humidity  hour_bef_visibility  hour_bef_ozone  hour_bef_pm10  \\\n",
       "0               89.0                576.0           0.027           76.0   \n",
       "1               48.0                916.0           0.042           73.0   \n",
       "2               79.0               1382.0           0.033           32.0   \n",
       "3               54.0                946.0           0.040           75.0   \n",
       "4                7.0               2000.0           0.057           27.0   \n",
       "\n",
       "   hour_bef_pm2.5  count  \n",
       "0            33.0   49.0  \n",
       "1            40.0  159.0  \n",
       "2            19.0   26.0  \n",
       "3            64.0   57.0  \n",
       "4            11.0  431.0  "
      ]
     },
     "execution_count": 3,
     "metadata": {},
     "output_type": "execute_result"
    }
   ],
   "source": [
    "train.head()"
   ]
  },
  {
   "cell_type": "code",
   "execution_count": 4,
   "metadata": {},
   "outputs": [
    {
     "data": {
      "text/html": [
       "<div>\n",
       "<style scoped>\n",
       "    .dataframe tbody tr th:only-of-type {\n",
       "        vertical-align: middle;\n",
       "    }\n",
       "\n",
       "    .dataframe tbody tr th {\n",
       "        vertical-align: top;\n",
       "    }\n",
       "\n",
       "    .dataframe thead th {\n",
       "        text-align: right;\n",
       "    }\n",
       "</style>\n",
       "<table border=\"1\" class=\"dataframe\">\n",
       "  <thead>\n",
       "    <tr style=\"text-align: right;\">\n",
       "      <th></th>\n",
       "      <th>id</th>\n",
       "      <th>hour</th>\n",
       "      <th>hour_bef_temperature</th>\n",
       "      <th>hour_bef_precipitation</th>\n",
       "      <th>hour_bef_windspeed</th>\n",
       "      <th>hour_bef_humidity</th>\n",
       "      <th>hour_bef_visibility</th>\n",
       "      <th>hour_bef_ozone</th>\n",
       "      <th>hour_bef_pm10</th>\n",
       "      <th>hour_bef_pm2.5</th>\n",
       "      <th>count</th>\n",
       "    </tr>\n",
       "  </thead>\n",
       "  <tbody>\n",
       "    <tr>\n",
       "      <th>count</th>\n",
       "      <td>1459.000000</td>\n",
       "      <td>1459.000000</td>\n",
       "      <td>1457.000000</td>\n",
       "      <td>1457.000000</td>\n",
       "      <td>1450.000000</td>\n",
       "      <td>1457.000000</td>\n",
       "      <td>1457.000000</td>\n",
       "      <td>1383.000000</td>\n",
       "      <td>1369.000000</td>\n",
       "      <td>1342.000000</td>\n",
       "      <td>1459.000000</td>\n",
       "    </tr>\n",
       "    <tr>\n",
       "      <th>mean</th>\n",
       "      <td>1105.914325</td>\n",
       "      <td>11.493489</td>\n",
       "      <td>16.717433</td>\n",
       "      <td>0.031572</td>\n",
       "      <td>2.479034</td>\n",
       "      <td>52.231297</td>\n",
       "      <td>1405.216884</td>\n",
       "      <td>0.039149</td>\n",
       "      <td>57.168736</td>\n",
       "      <td>30.327124</td>\n",
       "      <td>108.563400</td>\n",
       "    </tr>\n",
       "    <tr>\n",
       "      <th>std</th>\n",
       "      <td>631.338681</td>\n",
       "      <td>6.922790</td>\n",
       "      <td>5.239150</td>\n",
       "      <td>0.174917</td>\n",
       "      <td>1.378265</td>\n",
       "      <td>20.370387</td>\n",
       "      <td>583.131708</td>\n",
       "      <td>0.019509</td>\n",
       "      <td>31.771019</td>\n",
       "      <td>14.713252</td>\n",
       "      <td>82.631733</td>\n",
       "    </tr>\n",
       "    <tr>\n",
       "      <th>min</th>\n",
       "      <td>3.000000</td>\n",
       "      <td>0.000000</td>\n",
       "      <td>3.100000</td>\n",
       "      <td>0.000000</td>\n",
       "      <td>0.000000</td>\n",
       "      <td>7.000000</td>\n",
       "      <td>78.000000</td>\n",
       "      <td>0.003000</td>\n",
       "      <td>9.000000</td>\n",
       "      <td>8.000000</td>\n",
       "      <td>1.000000</td>\n",
       "    </tr>\n",
       "    <tr>\n",
       "      <th>25%</th>\n",
       "      <td>555.500000</td>\n",
       "      <td>5.500000</td>\n",
       "      <td>12.800000</td>\n",
       "      <td>0.000000</td>\n",
       "      <td>1.400000</td>\n",
       "      <td>36.000000</td>\n",
       "      <td>879.000000</td>\n",
       "      <td>0.025500</td>\n",
       "      <td>36.000000</td>\n",
       "      <td>20.000000</td>\n",
       "      <td>37.000000</td>\n",
       "    </tr>\n",
       "    <tr>\n",
       "      <th>50%</th>\n",
       "      <td>1115.000000</td>\n",
       "      <td>11.000000</td>\n",
       "      <td>16.600000</td>\n",
       "      <td>0.000000</td>\n",
       "      <td>2.300000</td>\n",
       "      <td>51.000000</td>\n",
       "      <td>1577.000000</td>\n",
       "      <td>0.039000</td>\n",
       "      <td>51.000000</td>\n",
       "      <td>26.000000</td>\n",
       "      <td>96.000000</td>\n",
       "    </tr>\n",
       "    <tr>\n",
       "      <th>75%</th>\n",
       "      <td>1651.000000</td>\n",
       "      <td>17.500000</td>\n",
       "      <td>20.100000</td>\n",
       "      <td>0.000000</td>\n",
       "      <td>3.400000</td>\n",
       "      <td>69.000000</td>\n",
       "      <td>1994.000000</td>\n",
       "      <td>0.052000</td>\n",
       "      <td>69.000000</td>\n",
       "      <td>37.000000</td>\n",
       "      <td>150.000000</td>\n",
       "    </tr>\n",
       "    <tr>\n",
       "      <th>max</th>\n",
       "      <td>2179.000000</td>\n",
       "      <td>23.000000</td>\n",
       "      <td>30.000000</td>\n",
       "      <td>1.000000</td>\n",
       "      <td>8.000000</td>\n",
       "      <td>99.000000</td>\n",
       "      <td>2000.000000</td>\n",
       "      <td>0.125000</td>\n",
       "      <td>269.000000</td>\n",
       "      <td>90.000000</td>\n",
       "      <td>431.000000</td>\n",
       "    </tr>\n",
       "  </tbody>\n",
       "</table>\n",
       "</div>"
      ],
      "text/plain": [
       "                id         hour  hour_bef_temperature  hour_bef_precipitation  \\\n",
       "count  1459.000000  1459.000000           1457.000000             1457.000000   \n",
       "mean   1105.914325    11.493489             16.717433                0.031572   \n",
       "std     631.338681     6.922790              5.239150                0.174917   \n",
       "min       3.000000     0.000000              3.100000                0.000000   \n",
       "25%     555.500000     5.500000             12.800000                0.000000   \n",
       "50%    1115.000000    11.000000             16.600000                0.000000   \n",
       "75%    1651.000000    17.500000             20.100000                0.000000   \n",
       "max    2179.000000    23.000000             30.000000                1.000000   \n",
       "\n",
       "       hour_bef_windspeed  hour_bef_humidity  hour_bef_visibility  \\\n",
       "count         1450.000000        1457.000000          1457.000000   \n",
       "mean             2.479034          52.231297          1405.216884   \n",
       "std              1.378265          20.370387           583.131708   \n",
       "min              0.000000           7.000000            78.000000   \n",
       "25%              1.400000          36.000000           879.000000   \n",
       "50%              2.300000          51.000000          1577.000000   \n",
       "75%              3.400000          69.000000          1994.000000   \n",
       "max              8.000000          99.000000          2000.000000   \n",
       "\n",
       "       hour_bef_ozone  hour_bef_pm10  hour_bef_pm2.5        count  \n",
       "count     1383.000000    1369.000000     1342.000000  1459.000000  \n",
       "mean         0.039149      57.168736       30.327124   108.563400  \n",
       "std          0.019509      31.771019       14.713252    82.631733  \n",
       "min          0.003000       9.000000        8.000000     1.000000  \n",
       "25%          0.025500      36.000000       20.000000    37.000000  \n",
       "50%          0.039000      51.000000       26.000000    96.000000  \n",
       "75%          0.052000      69.000000       37.000000   150.000000  \n",
       "max          0.125000     269.000000       90.000000   431.000000  "
      ]
     },
     "execution_count": 4,
     "metadata": {},
     "output_type": "execute_result"
    }
   ],
   "source": [
    "# 수치형 변수\n",
    "\n",
    "train.describe()"
   ]
  },
  {
   "cell_type": "markdown",
   "metadata": {},
   "source": [
    "## 독립변수, 종속변수 정리\n",
    "\n",
    "- Feature(X, 독립 변수)\n",
    "\n",
    "    1. id - 고유id\n",
    "    1. hour - 시간\n",
    "    1. temperature - 기온\n",
    "    1. precipitation - 비가 오지 않았으면 0, 비가 왔으면 1\n",
    "    1. windspeed - 풍속\n",
    "    1. humidity - 습도\n",
    "    1. visibility - 가시성\n",
    "    1 .ozone - 오존\n",
    "    1 .pm10 - 미세먼지\n",
    "    1. pm2.5 - 미세먼지\n",
    "\n",
    "    \n",
    "\n",
    "- Target\n",
    "\n",
    "    1. count = 시간당 따릉이 대여 수"
   ]
  },
  {
   "cell_type": "code",
   "execution_count": 5,
   "metadata": {},
   "outputs": [
    {
     "data": {
      "text/plain": [
       "Index(['id', 'hour', 'hour_bef_temperature', 'hour_bef_precipitation',\n",
       "       'hour_bef_windspeed', 'hour_bef_humidity', 'hour_bef_visibility',\n",
       "       'hour_bef_ozone', 'hour_bef_pm10', 'hour_bef_pm2.5', 'count'],\n",
       "      dtype='object')"
      ]
     },
     "execution_count": 5,
     "metadata": {},
     "output_type": "execute_result"
    }
   ],
   "source": [
    "train.columns"
   ]
  },
  {
   "cell_type": "code",
   "execution_count": 6,
   "metadata": {},
   "outputs": [
    {
     "name": "stdout",
     "output_type": "stream",
     "text": [
      "<class 'pandas.core.frame.DataFrame'>\n",
      "RangeIndex: 1459 entries, 0 to 1458\n",
      "Data columns (total 11 columns):\n",
      " #   Column                  Non-Null Count  Dtype  \n",
      "---  ------                  --------------  -----  \n",
      " 0   id                      1459 non-null   int64  \n",
      " 1   hour                    1459 non-null   int64  \n",
      " 2   hour_bef_temperature    1457 non-null   float64\n",
      " 3   hour_bef_precipitation  1457 non-null   float64\n",
      " 4   hour_bef_windspeed      1450 non-null   float64\n",
      " 5   hour_bef_humidity       1457 non-null   float64\n",
      " 6   hour_bef_visibility     1457 non-null   float64\n",
      " 7   hour_bef_ozone          1383 non-null   float64\n",
      " 8   hour_bef_pm10           1369 non-null   float64\n",
      " 9   hour_bef_pm2.5          1342 non-null   float64\n",
      " 10  count                   1459 non-null   float64\n",
      "dtypes: float64(9), int64(2)\n",
      "memory usage: 125.5 KB\n"
     ]
    }
   ],
   "source": [
    "train.info()"
   ]
  },
  {
   "cell_type": "code",
   "execution_count": 7,
   "metadata": {},
   "outputs": [
    {
     "data": {
      "text/plain": [
       "id                          0\n",
       "hour                        0\n",
       "hour_bef_temperature        2\n",
       "hour_bef_precipitation      2\n",
       "hour_bef_windspeed          9\n",
       "hour_bef_humidity           2\n",
       "hour_bef_visibility         2\n",
       "hour_bef_ozone             76\n",
       "hour_bef_pm10              90\n",
       "hour_bef_pm2.5            117\n",
       "count                       0\n",
       "dtype: int64"
      ]
     },
     "execution_count": 7,
     "metadata": {},
     "output_type": "execute_result"
    }
   ],
   "source": [
    "train.isna().sum()"
   ]
  },
  {
   "cell_type": "code",
   "execution_count": 8,
   "metadata": {},
   "outputs": [
    {
     "data": {
      "text/html": [
       "<div>\n",
       "<style scoped>\n",
       "    .dataframe tbody tr th:only-of-type {\n",
       "        vertical-align: middle;\n",
       "    }\n",
       "\n",
       "    .dataframe tbody tr th {\n",
       "        vertical-align: top;\n",
       "    }\n",
       "\n",
       "    .dataframe thead th {\n",
       "        text-align: right;\n",
       "    }\n",
       "</style>\n",
       "<table border=\"1\" class=\"dataframe\">\n",
       "  <thead>\n",
       "    <tr style=\"text-align: right;\">\n",
       "      <th></th>\n",
       "      <th>Missing Value Ratio</th>\n",
       "    </tr>\n",
       "  </thead>\n",
       "  <tbody>\n",
       "    <tr>\n",
       "      <th>hour_bef_pm2.5</th>\n",
       "      <td>8.019191</td>\n",
       "    </tr>\n",
       "    <tr>\n",
       "      <th>hour_bef_pm10</th>\n",
       "      <td>6.168609</td>\n",
       "    </tr>\n",
       "    <tr>\n",
       "      <th>hour_bef_ozone</th>\n",
       "      <td>5.209047</td>\n",
       "    </tr>\n",
       "    <tr>\n",
       "      <th>hour_bef_windspeed</th>\n",
       "      <td>0.616861</td>\n",
       "    </tr>\n",
       "    <tr>\n",
       "      <th>hour_bef_visibility</th>\n",
       "      <td>0.137080</td>\n",
       "    </tr>\n",
       "    <tr>\n",
       "      <th>hour_bef_humidity</th>\n",
       "      <td>0.137080</td>\n",
       "    </tr>\n",
       "    <tr>\n",
       "      <th>hour_bef_precipitation</th>\n",
       "      <td>0.137080</td>\n",
       "    </tr>\n",
       "    <tr>\n",
       "      <th>hour_bef_temperature</th>\n",
       "      <td>0.137080</td>\n",
       "    </tr>\n",
       "  </tbody>\n",
       "</table>\n",
       "</div>"
      ],
      "text/plain": [
       "                        Missing Value Ratio\n",
       "hour_bef_pm2.5                     8.019191\n",
       "hour_bef_pm10                      6.168609\n",
       "hour_bef_ozone                     5.209047\n",
       "hour_bef_windspeed                 0.616861\n",
       "hour_bef_visibility                0.137080\n",
       "hour_bef_humidity                  0.137080\n",
       "hour_bef_precipitation             0.137080\n",
       "hour_bef_temperature               0.137080"
      ]
     },
     "execution_count": 8,
     "metadata": {},
     "output_type": "execute_result"
    }
   ],
   "source": [
    "train_na = (train.isnull().sum() / len(train)) * 100\n",
    "train_na = train_na.drop(train_na[train_na == 0].index).sort_values(ascending=False)[:30]\n",
    "missing_data = pd.DataFrame({'Missing Value Ratio' :train_na})\n",
    "missing_data.head(20)"
   ]
  },
  {
   "cell_type": "code",
   "execution_count": 9,
   "metadata": {
    "scrolled": false
   },
   "outputs": [
    {
     "data": {
      "text/plain": [
       "Text(0.5, 1.0, 'Ratio of missing values')"
      ]
     },
     "execution_count": 9,
     "metadata": {},
     "output_type": "execute_result"
    },
    {
     "data": {
      "image/png": "[encoded data removed]",
      "text/plain": [
       "<Figure size 576x360 with 1 Axes>"
      ]
     },
     "metadata": {
      "needs_background": "light"
     },
     "output_type": "display_data"
    }
   ],
   "source": [
    "f, ax = plt.subplots(figsize=(8, 5))\n",
    "plt.xticks(rotation='90')\n",
    "sns.barplot(x=train_na.index, y=train_na)\n",
    "plt.xlabel('Columns', fontsize=15)\n",
    "plt.ylabel('Percent of missing values', fontsize=15)\n",
    "plt.title('Ratio of missing values', fontsize=15)"
   ]
  },
  {
   "cell_type": "markdown",
   "metadata": {},
   "source": [
    "# 2. 데이터 전처리"
   ]
  },
  {
   "cell_type": "markdown",
   "metadata": {},
   "source": [
    "## 2-1. 결측치 처리"
   ]
  },
  {
   "cell_type": "code",
   "execution_count": 10,
   "metadata": {},
   "outputs": [
    {
     "data": {
      "text/plain": [
       "count    1342.000000\n",
       "mean       30.327124\n",
       "std        14.713252\n",
       "min         8.000000\n",
       "25%        20.000000\n",
       "50%        26.000000\n",
       "75%        37.000000\n",
       "max        90.000000\n",
       "Name: hour_bef_pm2.5, dtype: float64"
      ]
     },
     "execution_count": 10,
     "metadata": {},
     "output_type": "execute_result"
    }
   ],
   "source": [
    "train['hour_bef_pm2.5'].describe()"
   ]
  },
  {
   "cell_type": "code",
   "execution_count": 11,
   "metadata": {},
   "outputs": [
    {
     "name": "stdout",
     "output_type": "stream",
     "text": [
      "[27 32 44 43 36 44 28 35 37 21 32 26 42 30 16 36 24 37 37 22 29 26 36 27\n",
      " 31 33 28 42 25 37 42 16 44 36 17 26 37 23 27 44 34 16 19 22 18 16 29 42\n",
      " 40 22 44 40 15 37 19 18 40 37 20 25 25 44 33 24 39 24 22 21 21 36 31 42\n",
      " 40 42 22 30 25 17 36 43 43 22 32 39 31 31 34 38 17 18 27 36 23 17 20 16\n",
      " 26 25 44 37 44 40 22 29 38 18 31 21 33 17 38 33 31 31 24 36 33]\n"
     ]
    }
   ],
   "source": [
    "# 분포에 맞는 난수를 생성하여 결측치 처리.\n",
    "\n",
    "import numpy as np\n",
    "\n",
    "mean = train['hour_bef_pm2.5'].mean()        # age 의 mean 값을 구함\n",
    "std =  train['hour_bef_pm2.5'].std()        # age 의 std 값을 구함\n",
    "size = train['hour_bef_pm2.5'].isna().sum()        # age 에 nan 값이 몇개인지를 구함 \n",
    "\n",
    "\n",
    "rand_pm2 = np.random.randint(mean-std, mean+std, size)    # mean 에서 std 만큼 떨어져 있는 랜덤한 값들을 size 만큼 반환\n",
    "\n",
    "print(rand_pm2)"
   ]
  },
  {
   "cell_type": "code",
   "execution_count": 12,
   "metadata": {},
   "outputs": [
    {
     "name": "stderr",
     "output_type": "stream",
     "text": [
      "C:\\ProgramData\\Anaconda3\\lib\\site-packages\\pandas\\core\\indexing.py:671: SettingWithCopyWarning: \n",
      "A value is trying to be set on a copy of a slice from a DataFrame\n",
      "\n",
      "See the caveats in the documentation: https://pandas.pydata.org/pandas-docs/stable/user_guide/indexing.html#returning-a-view-versus-a-copy\n",
      "  self._setitem_with_indexer(indexer, value)\n"
     ]
    }
   ],
   "source": [
    "# 기존 'Age'열 중 비어있는 값에 난수생성으로 만든 rand_age를 차례로 넣기\n",
    "\n",
    "train['hour_bef_pm2.5'].loc[train['hour_bef_pm2.5'].isna()] = rand_pm2"
   ]
  },
  {
   "cell_type": "code",
   "execution_count": 13,
   "metadata": {},
   "outputs": [
    {
     "data": {
      "text/plain": [
       "count    1369.000000\n",
       "mean       57.168736\n",
       "std        31.771019\n",
       "min         9.000000\n",
       "25%        36.000000\n",
       "50%        51.000000\n",
       "75%        69.000000\n",
       "max       269.000000\n",
       "Name: hour_bef_pm10, dtype: float64"
      ]
     },
     "execution_count": 13,
     "metadata": {},
     "output_type": "execute_result"
    }
   ],
   "source": [
    "train['hour_bef_pm10'].describe()"
   ]
  },
  {
   "cell_type": "code",
   "execution_count": 14,
   "metadata": {},
   "outputs": [
    {
     "name": "stdout",
     "output_type": "stream",
     "text": [
      "[69 30 26 45 35 85 29 49 66 64 39 53 56 72 80 87 70 28 31 51 50 70 79 53\n",
      " 66 58 79 47 34 27 39 34 81 52 48 86 75 31 35 52 61 56 44 70 55 82 42 37\n",
      " 38 46 69 27 51 55 69 74 40 29 52 47 63 28 73 40 75 57 26 31 31 30 42 28\n",
      " 33 25 82 73 85 76 71 37 79 52 60 38 86 55 30 49 53 80]\n"
     ]
    }
   ],
   "source": [
    "# 분포에 맞는 난수를 생성하여 결측치 처리.\n",
    "\n",
    "import numpy as np\n",
    "\n",
    "mean = train['hour_bef_pm10'].mean()        # age 의 mean 값을 구함\n",
    "std =  train['hour_bef_pm10'].std()        # age 의 std 값을 구함\n",
    "size = train['hour_bef_pm10'].isna().sum()        # age 에 nan 값이 몇개인지를 구함 \n",
    "\n",
    "\n",
    "rand_pm10 = np.random.randint(mean-std, mean+std, size)    # mean 에서 std 만큼 떨어져 있는 랜덤한 값들을 size 만큼 반환\n",
    "\n",
    "print(rand_pm10)"
   ]
  },
  {
   "cell_type": "code",
   "execution_count": 15,
   "metadata": {},
   "outputs": [],
   "source": [
    "# 기존 'Age'열 중 비어있는 값에 난수생성으로 만든 rand_age를 차례로 넣기\n",
    "\n",
    "train['hour_bef_pm10'].loc[train['hour_bef_pm10'].isna()] = rand_pm10"
   ]
  },
  {
   "cell_type": "code",
   "execution_count": 16,
   "metadata": {},
   "outputs": [
    {
     "data": {
      "text/plain": [
       "count    1383.000000\n",
       "mean        0.039149\n",
       "std         0.019509\n",
       "min         0.003000\n",
       "25%         0.025500\n",
       "50%         0.039000\n",
       "75%         0.052000\n",
       "max         0.125000\n",
       "Name: hour_bef_ozone, dtype: float64"
      ]
     },
     "execution_count": 16,
     "metadata": {},
     "output_type": "execute_result"
    }
   ],
   "source": [
    "train['hour_bef_ozone'].describe()"
   ]
  },
  {
   "cell_type": "code",
   "execution_count": 17,
   "metadata": {},
   "outputs": [],
   "source": [
    "# 기존 'Age'열 중 비어있는 값에 난수생성으로 만든 rand_age를 차례로 넣기\n",
    "\n",
    "train['hour_bef_ozone'] = train['hour_bef_ozone'].fillna(0.039)"
   ]
  },
  {
   "cell_type": "code",
   "execution_count": 18,
   "metadata": {},
   "outputs": [
    {
     "data": {
      "text/plain": [
       "count    1450.000000\n",
       "mean        2.479034\n",
       "std         1.378265\n",
       "min         0.000000\n",
       "25%         1.400000\n",
       "50%         2.300000\n",
       "75%         3.400000\n",
       "max         8.000000\n",
       "Name: hour_bef_windspeed, dtype: float64"
      ]
     },
     "execution_count": 18,
     "metadata": {},
     "output_type": "execute_result"
    }
   ],
   "source": [
    "train['hour_bef_windspeed'].describe()"
   ]
  },
  {
   "cell_type": "code",
   "execution_count": 19,
   "metadata": {},
   "outputs": [],
   "source": [
    "train['hour_bef_windspeed'] = train['hour_bef_windspeed'].fillna(1.4)"
   ]
  },
  {
   "cell_type": "code",
   "execution_count": 20,
   "metadata": {},
   "outputs": [
    {
     "data": {
      "text/plain": [
       "count    1457.000000\n",
       "mean     1405.216884\n",
       "std       583.131708\n",
       "min        78.000000\n",
       "25%       879.000000\n",
       "50%      1577.000000\n",
       "75%      1994.000000\n",
       "max      2000.000000\n",
       "Name: hour_bef_visibility, dtype: float64"
      ]
     },
     "execution_count": 20,
     "metadata": {},
     "output_type": "execute_result"
    }
   ],
   "source": [
    "train['hour_bef_visibility'].describe()"
   ]
  },
  {
   "cell_type": "code",
   "execution_count": 21,
   "metadata": {},
   "outputs": [],
   "source": [
    "train['hour_bef_visibility'] = train['hour_bef_visibility'].fillna(1405)"
   ]
  },
  {
   "cell_type": "code",
   "execution_count": 22,
   "metadata": {},
   "outputs": [
    {
     "data": {
      "text/plain": [
       "count    1457.000000\n",
       "mean       52.231297\n",
       "std        20.370387\n",
       "min         7.000000\n",
       "25%        36.000000\n",
       "50%        51.000000\n",
       "75%        69.000000\n",
       "max        99.000000\n",
       "Name: hour_bef_humidity, dtype: float64"
      ]
     },
     "execution_count": 22,
     "metadata": {},
     "output_type": "execute_result"
    }
   ],
   "source": [
    "train['hour_bef_humidity'].describe()"
   ]
  },
  {
   "cell_type": "code",
   "execution_count": 23,
   "metadata": {},
   "outputs": [],
   "source": [
    "train['hour_bef_humidity'] = train['hour_bef_humidity'].fillna(52)"
   ]
  },
  {
   "cell_type": "code",
   "execution_count": 24,
   "metadata": {},
   "outputs": [
    {
     "data": {
      "text/plain": [
       "0.0    1411\n",
       "1.0      46\n",
       "Name: hour_bef_precipitation, dtype: int64"
      ]
     },
     "execution_count": 24,
     "metadata": {},
     "output_type": "execute_result"
    }
   ],
   "source": [
    "train['hour_bef_precipitation'].value_counts()"
   ]
  },
  {
   "cell_type": "code",
   "execution_count": 25,
   "metadata": {},
   "outputs": [],
   "source": [
    "train['hour_bef_precipitation'] = train['hour_bef_precipitation'].fillna(0)"
   ]
  },
  {
   "cell_type": "code",
   "execution_count": 26,
   "metadata": {},
   "outputs": [
    {
     "data": {
      "text/plain": [
       "count    1457.000000\n",
       "mean       16.717433\n",
       "std         5.239150\n",
       "min         3.100000\n",
       "25%        12.800000\n",
       "50%        16.600000\n",
       "75%        20.100000\n",
       "max        30.000000\n",
       "Name: hour_bef_temperature, dtype: float64"
      ]
     },
     "execution_count": 26,
     "metadata": {},
     "output_type": "execute_result"
    }
   ],
   "source": [
    "train['hour_bef_temperature'].describe()"
   ]
  },
  {
   "cell_type": "code",
   "execution_count": 27,
   "metadata": {},
   "outputs": [],
   "source": [
    "train['hour_bef_temperature'] = train['hour_bef_temperature'].fillna(16)"
   ]
  },
  {
   "cell_type": "code",
   "execution_count": 28,
   "metadata": {},
   "outputs": [
    {
     "data": {
      "text/html": [
       "<div>\n",
       "<style scoped>\n",
       "    .dataframe tbody tr th:only-of-type {\n",
       "        vertical-align: middle;\n",
       "    }\n",
       "\n",
       "    .dataframe tbody tr th {\n",
       "        vertical-align: top;\n",
       "    }\n",
       "\n",
       "    .dataframe thead th {\n",
       "        text-align: right;\n",
       "    }\n",
       "</style>\n",
       "<table border=\"1\" class=\"dataframe\">\n",
       "  <thead>\n",
       "    <tr style=\"text-align: right;\">\n",
       "      <th></th>\n",
       "      <th>Missing Value Ratio</th>\n",
       "    </tr>\n",
       "  </thead>\n",
       "  <tbody>\n",
       "  </tbody>\n",
       "</table>\n",
       "</div>"
      ],
      "text/plain": [
       "Empty DataFrame\n",
       "Columns: [Missing Value Ratio]\n",
       "Index: []"
      ]
     },
     "execution_count": 28,
     "metadata": {},
     "output_type": "execute_result"
    }
   ],
   "source": [
    "# 모든 결측치 처리 완료\n",
    "\n",
    "train_na = (train.isnull().sum() / len(train)) * 100\n",
    "train_na = train_na.drop(train_na[train_na == 0].index).sort_values(ascending=False)[:30]\n",
    "missing_data = pd.DataFrame({'Missing Value Ratio' :train_na})\n",
    "missing_data.head(20)"
   ]
  },
  {
   "cell_type": "markdown",
   "metadata": {},
   "source": [
    "## 2-2. 변수별 시각화 및 전처리 방식 결정"
   ]
  },
  {
   "cell_type": "markdown",
   "metadata": {},
   "source": [
    "#### count (target 변수)"
   ]
  },
  {
   "cell_type": "code",
   "execution_count": 29,
   "metadata": {},
   "outputs": [
    {
     "data": {
      "image/png": "[encoded data removed]",
      "text/plain": [
       "<Figure size 432x288 with 1 Axes>"
      ]
     },
     "metadata": {
      "needs_background": "light"
     },
     "output_type": "display_data"
    }
   ],
   "source": [
    "# 전처리 x\n",
    "\n",
    "sns.distplot(train['count']);"
   ]
  },
  {
   "cell_type": "markdown",
   "metadata": {},
   "source": [
    "#### 습도(비 o,x)"
   ]
  },
  {
   "cell_type": "code",
   "execution_count": 30,
   "metadata": {},
   "outputs": [
    {
     "data": {
      "text/plain": [
       "<matplotlib.axes._subplots.AxesSubplot at 0x249d26ed0c8>"
      ]
     },
     "execution_count": 30,
     "metadata": {},
     "output_type": "execute_result"
    },
    {
     "data": {
      "image/png": "[encoded data removed]",
      "text/plain": [
       "<Figure size 432x288 with 1 Axes>"
      ]
     },
     "metadata": {
      "needs_background": "light"
     },
     "output_type": "display_data"
    }
   ],
   "source": [
    "sns.distplot(train.hour_bef_humidity.loc[train['hour_bef_precipitation'] == 0], kde = False)"
   ]
  },
  {
   "cell_type": "code",
   "execution_count": 31,
   "metadata": {},
   "outputs": [
    {
     "data": {
      "text/plain": [
       "<matplotlib.axes._subplots.AxesSubplot at 0x249d2774288>"
      ]
     },
     "execution_count": 31,
     "metadata": {},
     "output_type": "execute_result"
    },
    {
     "data": {
      "image/png": "[encoded data removed]",
      "text/plain": [
       "<Figure size 432x288 with 1 Axes>"
      ]
     },
     "metadata": {
      "needs_background": "light"
     },
     "output_type": "display_data"
    }
   ],
   "source": [
    "sns.distplot(train.hour_bef_humidity.loc[train['hour_bef_precipitation'] == 1], kde = False)"
   ]
  },
  {
   "cell_type": "markdown",
   "metadata": {},
   "source": [
    "#### 가시성(비 o,x)"
   ]
  },
  {
   "cell_type": "code",
   "execution_count": 32,
   "metadata": {},
   "outputs": [
    {
     "data": {
      "text/plain": [
       "<matplotlib.axes._subplots.AxesSubplot at 0x249d27f0308>"
      ]
     },
     "execution_count": 32,
     "metadata": {},
     "output_type": "execute_result"
    },
    {
     "data": {
      "image/png": "[encoded data removed]",
      "text/plain": [
       "<Figure size 432x288 with 1 Axes>"
      ]
     },
     "metadata": {
      "needs_background": "light"
     },
     "output_type": "display_data"
    }
   ],
   "source": [
    "sns.distplot(train.hour_bef_visibility.loc[train['hour_bef_precipitation'] == 0], kde = False)"
   ]
  },
  {
   "cell_type": "code",
   "execution_count": 33,
   "metadata": {},
   "outputs": [
    {
     "data": {
      "text/plain": [
       "<matplotlib.axes._subplots.AxesSubplot at 0x249d2896208>"
      ]
     },
     "execution_count": 33,
     "metadata": {},
     "output_type": "execute_result"
    },
    {
     "data": {
      "image/png": "[encoded data removed]",
      "text/plain": [
       "<Figure size 432x288 with 1 Axes>"
      ]
     },
     "metadata": {
      "needs_background": "light"
     },
     "output_type": "display_data"
    }
   ],
   "source": [
    "sns.distplot(train.hour_bef_visibility.loc[train['hour_bef_precipitation'] == 1], kde = False)"
   ]
  },
  {
   "cell_type": "markdown",
   "metadata": {},
   "source": [
    "#### 오존"
   ]
  },
  {
   "cell_type": "code",
   "execution_count": 34,
   "metadata": {},
   "outputs": [
    {
     "data": {
      "text/plain": [
       "<matplotlib.axes._subplots.AxesSubplot at 0x249d28cc608>"
      ]
     },
     "execution_count": 34,
     "metadata": {},
     "output_type": "execute_result"
    },
    {
     "data": {
      "image/png": "[encoded data removed]",
      "text/plain": [
       "<Figure size 432x288 with 1 Axes>"
      ]
     },
     "metadata": {
      "needs_background": "light"
     },
     "output_type": "display_data"
    }
   ],
   "source": [
    "sns.distplot(train.hour_bef_ozone.loc[train['hour_bef_precipitation'] == 0], kde = False)"
   ]
  },
  {
   "cell_type": "code",
   "execution_count": 35,
   "metadata": {},
   "outputs": [
    {
     "data": {
      "text/plain": [
       "<matplotlib.axes._subplots.AxesSubplot at 0x249d3981888>"
      ]
     },
     "execution_count": 35,
     "metadata": {},
     "output_type": "execute_result"
    },
    {
     "data": {
      "image/png": "[encoded data removed]",
      "text/plain": [
       "<Figure size 432x288 with 1 Axes>"
      ]
     },
     "metadata": {
      "needs_background": "light"
     },
     "output_type": "display_data"
    }
   ],
   "source": [
    "sns.distplot(train.hour_bef_ozone.loc[train['hour_bef_precipitation'] == 1], kde = False)"
   ]
  },
  {
   "cell_type": "code",
   "execution_count": 36,
   "metadata": {},
   "outputs": [],
   "source": [
    "# 오존은 값도 범위가 작고, 크게 영향X. 따라서 드랍."
   ]
  },
  {
   "cell_type": "code",
   "execution_count": 37,
   "metadata": {},
   "outputs": [
    {
     "data": {
      "text/plain": [
       "(1459, 10)"
      ]
     },
     "execution_count": 37,
     "metadata": {},
     "output_type": "execute_result"
    }
   ],
   "source": [
    "train.drop('hour_bef_ozone', axis=1, inplace = True)\n",
    "train.shape"
   ]
  },
  {
   "cell_type": "markdown",
   "metadata": {},
   "source": [
    "#### 미세먼지"
   ]
  },
  {
   "cell_type": "code",
   "execution_count": 38,
   "metadata": {},
   "outputs": [
    {
     "data": {
      "image/png": "[encoded data removed]",
      "text/plain": [
       "<Figure size 432x288 with 1 Axes>"
      ]
     },
     "metadata": {
      "needs_background": "light"
     },
     "output_type": "display_data"
    }
   ],
   "source": [
    "sns.distplot(train['hour_bef_pm10']);"
   ]
  },
  {
   "cell_type": "code",
   "execution_count": 39,
   "metadata": {},
   "outputs": [
    {
     "data": {
      "image/png": "[encoded data removed]",
      "text/plain": [
       "<Figure size 432x288 with 1 Axes>"
      ]
     },
     "metadata": {
      "needs_background": "light"
     },
     "output_type": "display_data"
    }
   ],
   "source": [
    "sns.distplot(train['hour_bef_pm2.5']);"
   ]
  },
  {
   "cell_type": "code",
   "execution_count": 40,
   "metadata": {},
   "outputs": [
    {
     "data": {
      "text/html": [
       "<div>\n",
       "<style scoped>\n",
       "    .dataframe tbody tr th:only-of-type {\n",
       "        vertical-align: middle;\n",
       "    }\n",
       "\n",
       "    .dataframe tbody tr th {\n",
       "        vertical-align: top;\n",
       "    }\n",
       "\n",
       "    .dataframe thead th {\n",
       "        text-align: right;\n",
       "    }\n",
       "</style>\n",
       "<table border=\"1\" class=\"dataframe\">\n",
       "  <thead>\n",
       "    <tr style=\"text-align: right;\">\n",
       "      <th></th>\n",
       "      <th>id</th>\n",
       "      <th>hour</th>\n",
       "      <th>hour_bef_temperature</th>\n",
       "      <th>hour_bef_precipitation</th>\n",
       "      <th>hour_bef_windspeed</th>\n",
       "      <th>hour_bef_humidity</th>\n",
       "      <th>hour_bef_visibility</th>\n",
       "      <th>hour_bef_pm10</th>\n",
       "      <th>hour_bef_pm2.5</th>\n",
       "      <th>count</th>\n",
       "      <th>hour_bef_pm</th>\n",
       "    </tr>\n",
       "  </thead>\n",
       "  <tbody>\n",
       "    <tr>\n",
       "      <th>0</th>\n",
       "      <td>3</td>\n",
       "      <td>20</td>\n",
       "      <td>16.3</td>\n",
       "      <td>1.0</td>\n",
       "      <td>1.5</td>\n",
       "      <td>89.0</td>\n",
       "      <td>576.0</td>\n",
       "      <td>76.0</td>\n",
       "      <td>33.0</td>\n",
       "      <td>49.0</td>\n",
       "      <td>109.0</td>\n",
       "    </tr>\n",
       "    <tr>\n",
       "      <th>1</th>\n",
       "      <td>6</td>\n",
       "      <td>13</td>\n",
       "      <td>20.1</td>\n",
       "      <td>0.0</td>\n",
       "      <td>1.4</td>\n",
       "      <td>48.0</td>\n",
       "      <td>916.0</td>\n",
       "      <td>73.0</td>\n",
       "      <td>40.0</td>\n",
       "      <td>159.0</td>\n",
       "      <td>113.0</td>\n",
       "    </tr>\n",
       "    <tr>\n",
       "      <th>2</th>\n",
       "      <td>7</td>\n",
       "      <td>6</td>\n",
       "      <td>13.9</td>\n",
       "      <td>0.0</td>\n",
       "      <td>0.7</td>\n",
       "      <td>79.0</td>\n",
       "      <td>1382.0</td>\n",
       "      <td>32.0</td>\n",
       "      <td>19.0</td>\n",
       "      <td>26.0</td>\n",
       "      <td>51.0</td>\n",
       "    </tr>\n",
       "    <tr>\n",
       "      <th>3</th>\n",
       "      <td>8</td>\n",
       "      <td>23</td>\n",
       "      <td>8.1</td>\n",
       "      <td>0.0</td>\n",
       "      <td>2.7</td>\n",
       "      <td>54.0</td>\n",
       "      <td>946.0</td>\n",
       "      <td>75.0</td>\n",
       "      <td>64.0</td>\n",
       "      <td>57.0</td>\n",
       "      <td>139.0</td>\n",
       "    </tr>\n",
       "    <tr>\n",
       "      <th>4</th>\n",
       "      <td>9</td>\n",
       "      <td>18</td>\n",
       "      <td>29.5</td>\n",
       "      <td>0.0</td>\n",
       "      <td>4.8</td>\n",
       "      <td>7.0</td>\n",
       "      <td>2000.0</td>\n",
       "      <td>27.0</td>\n",
       "      <td>11.0</td>\n",
       "      <td>431.0</td>\n",
       "      <td>38.0</td>\n",
       "    </tr>\n",
       "  </tbody>\n",
       "</table>\n",
       "</div>"
      ],
      "text/plain": [
       "   id  hour  hour_bef_temperature  hour_bef_precipitation  hour_bef_windspeed  \\\n",
       "0   3    20                  16.3                     1.0                 1.5   \n",
       "1   6    13                  20.1                     0.0                 1.4   \n",
       "2   7     6                  13.9                     0.0                 0.7   \n",
       "3   8    23                   8.1                     0.0                 2.7   \n",
       "4   9    18                  29.5                     0.0                 4.8   \n",
       "\n",
       "   hour_bef_humidity  hour_bef_visibility  hour_bef_pm10  hour_bef_pm2.5  \\\n",
       "0               89.0                576.0           76.0            33.0   \n",
       "1               48.0                916.0           73.0            40.0   \n",
       "2               79.0               1382.0           32.0            19.0   \n",
       "3               54.0                946.0           75.0            64.0   \n",
       "4                7.0               2000.0           27.0            11.0   \n",
       "\n",
       "   count  hour_bef_pm  \n",
       "0   49.0        109.0  \n",
       "1  159.0        113.0  \n",
       "2   26.0         51.0  \n",
       "3   57.0        139.0  \n",
       "4  431.0         38.0  "
      ]
     },
     "execution_count": 40,
     "metadata": {},
     "output_type": "execute_result"
    }
   ],
   "source": [
    "# 미세먼지 크기별 분포의 형태가 같기때문에 두개를 더한후 하나의 변수로 만들기\n",
    "\n",
    "train['hour_bef_pm'] = train['hour_bef_pm10'] + train['hour_bef_pm2.5']\n",
    "train.head()"
   ]
  },
  {
   "cell_type": "code",
   "execution_count": 41,
   "metadata": {
    "scrolled": true
   },
   "outputs": [
    {
     "data": {
      "image/png": "[encoded data removed]",
      "text/plain": [
       "<Figure size 432x288 with 1 Axes>"
      ]
     },
     "metadata": {
      "needs_background": "light"
     },
     "output_type": "display_data"
    }
   ],
   "source": [
    "sns.distplot(train['hour_bef_pm']);"
   ]
  },
  {
   "cell_type": "code",
   "execution_count": 42,
   "metadata": {},
   "outputs": [
    {
     "data": {
      "text/plain": [
       "(1459, 9)"
      ]
     },
     "execution_count": 42,
     "metadata": {},
     "output_type": "execute_result"
    }
   ],
   "source": [
    "# 미세먼지 2.5, 10 변수 제거\n",
    "\n",
    "train.drop(['hour_bef_pm10','hour_bef_pm2.5'], axis=1, inplace = True)\n",
    "train.shape"
   ]
  },
  {
   "cell_type": "markdown",
   "metadata": {},
   "source": [
    "#### 풍속(비 o,x)"
   ]
  },
  {
   "cell_type": "code",
   "execution_count": 43,
   "metadata": {},
   "outputs": [
    {
     "data": {
      "image/png": "[encoded data removed]",
      "text/plain": [
       "<Figure size 432x288 with 1 Axes>"
      ]
     },
     "metadata": {
      "needs_background": "light"
     },
     "output_type": "display_data"
    }
   ],
   "source": [
    "sns.distplot(train['hour_bef_windspeed']);"
   ]
  },
  {
   "cell_type": "code",
   "execution_count": 44,
   "metadata": {},
   "outputs": [
    {
     "data": {
      "text/plain": [
       "<matplotlib.axes._subplots.AxesSubplot at 0x249d1d15048>"
      ]
     },
     "execution_count": 44,
     "metadata": {},
     "output_type": "execute_result"
    },
    {
     "data": {
      "image/png": "[encoded data removed]",
      "text/plain": [
       "<Figure size 432x288 with 1 Axes>"
      ]
     },
     "metadata": {
      "needs_background": "light"
     },
     "output_type": "display_data"
    }
   ],
   "source": [
    "sns.distplot(train.hour_bef_windspeed.loc[train['hour_bef_precipitation'] == 0], kde = True)"
   ]
  },
  {
   "cell_type": "code",
   "execution_count": 45,
   "metadata": {},
   "outputs": [
    {
     "data": {
      "text/plain": [
       "<matplotlib.axes._subplots.AxesSubplot at 0x249d3caaf88>"
      ]
     },
     "execution_count": 45,
     "metadata": {},
     "output_type": "execute_result"
    },
    {
     "data": {
      "image/png": "[encoded data removed]",
      "text/plain": [
       "<Figure size 432x288 with 1 Axes>"
      ]
     },
     "metadata": {
      "needs_background": "light"
     },
     "output_type": "display_data"
    }
   ],
   "source": [
    "sns.distplot(train.hour_bef_windspeed.loc[train['hour_bef_precipitation'] == 1], kde = True)"
   ]
  },
  {
   "cell_type": "markdown",
   "metadata": {},
   "source": [
    "#### 온도(비 o,x)"
   ]
  },
  {
   "cell_type": "code",
   "execution_count": 46,
   "metadata": {},
   "outputs": [
    {
     "data": {
      "image/png": "[encoded data removed]",
      "text/plain": [
       "<Figure size 432x288 with 1 Axes>"
      ]
     },
     "metadata": {
      "needs_background": "light"
     },
     "output_type": "display_data"
    }
   ],
   "source": [
    "sns.distplot(train['hour_bef_temperature']);"
   ]
  },
  {
   "cell_type": "code",
   "execution_count": 47,
   "metadata": {},
   "outputs": [
    {
     "data": {
      "text/plain": [
       "<matplotlib.axes._subplots.AxesSubplot at 0x249d3e23ec8>"
      ]
     },
     "execution_count": 47,
     "metadata": {},
     "output_type": "execute_result"
    },
    {
     "data": {
      "image/png": "[encoded data removed]",
      "text/plain": [
       "<Figure size 432x288 with 1 Axes>"
      ]
     },
     "metadata": {
      "needs_background": "light"
     },
     "output_type": "display_data"
    }
   ],
   "source": [
    "sns.distplot(train.hour_bef_temperature.loc[train['hour_bef_precipitation'] == 0], kde = True)"
   ]
  },
  {
   "cell_type": "code",
   "execution_count": 48,
   "metadata": {},
   "outputs": [
    {
     "data": {
      "text/plain": [
       "<matplotlib.axes._subplots.AxesSubplot at 0x249d3ed3b88>"
      ]
     },
     "execution_count": 48,
     "metadata": {},
     "output_type": "execute_result"
    },
    {
     "data": {
      "image/png": "[encoded data removed]",
      "text/plain": [
       "<Figure size 432x288 with 1 Axes>"
      ]
     },
     "metadata": {
      "needs_background": "light"
     },
     "output_type": "display_data"
    }
   ],
   "source": [
    "sns.distplot(train.hour_bef_temperature.loc[train['hour_bef_precipitation'] == 1], kde = True)"
   ]
  },
  {
   "cell_type": "markdown",
   "metadata": {},
   "source": [
    "#### 시간대별 대여 수"
   ]
  },
  {
   "cell_type": "code",
   "execution_count": 49,
   "metadata": {},
   "outputs": [
    {
     "data": {
      "text/plain": [
       "(array([ 0,  1,  2,  3,  4,  5,  6,  7,  8,  9, 10, 11, 12, 13, 14, 15, 16,\n",
       "        17, 18, 19, 20, 21, 22, 23]),\n",
       " <a list of 24 Text major ticklabel objects>)"
      ]
     },
     "execution_count": 49,
     "metadata": {},
     "output_type": "execute_result"
    },
    {
     "data": {
      "image/png": "[encoded data removed]",
      "text/plain": [
       "<Figure size 720x720 with 1 Axes>"
      ]
     },
     "metadata": {
      "needs_background": "light"
     },
     "output_type": "display_data"
    }
   ],
   "source": [
    "sns.catplot(y = 'count', x = 'hour', data = train, kind = 'box', height = 10)\n",
    "plt.xticks(rotation = 45)"
   ]
  },
  {
   "cell_type": "markdown",
   "metadata": {},
   "source": [
    "#### 대여수 박스플롯비교(비 o,x)"
   ]
  },
  {
   "cell_type": "code",
   "execution_count": 50,
   "metadata": {},
   "outputs": [
    {
     "data": {
      "text/plain": [
       "(array([0, 1]), <a list of 2 Text major ticklabel objects>)"
      ]
     },
     "execution_count": 50,
     "metadata": {},
     "output_type": "execute_result"
    },
    {
     "data": {
      "image/png": "[encoded data removed]",
      "text/plain": [
       "<Figure size 720x720 with 1 Axes>"
      ]
     },
     "metadata": {
      "needs_background": "light"
     },
     "output_type": "display_data"
    }
   ],
   "source": [
    "sns.catplot(y = 'count', x = 'hour_bef_precipitation', data = train, kind = 'box', height = 10)\n",
    "plt.xticks(rotation = 45)"
   ]
  },
  {
   "cell_type": "code",
   "execution_count": 51,
   "metadata": {},
   "outputs": [
    {
     "data": {
      "text/html": [
       "<div>\n",
       "<style scoped>\n",
       "    .dataframe tbody tr th:only-of-type {\n",
       "        vertical-align: middle;\n",
       "    }\n",
       "\n",
       "    .dataframe tbody tr th {\n",
       "        vertical-align: top;\n",
       "    }\n",
       "\n",
       "    .dataframe thead th {\n",
       "        text-align: right;\n",
       "    }\n",
       "</style>\n",
       "<table border=\"1\" class=\"dataframe\">\n",
       "  <thead>\n",
       "    <tr style=\"text-align: right;\">\n",
       "      <th></th>\n",
       "      <th>id</th>\n",
       "      <th>hour</th>\n",
       "      <th>hour_bef_temperature</th>\n",
       "      <th>hour_bef_precipitation</th>\n",
       "      <th>hour_bef_windspeed</th>\n",
       "      <th>hour_bef_humidity</th>\n",
       "      <th>hour_bef_visibility</th>\n",
       "      <th>count</th>\n",
       "      <th>hour_bef_pm</th>\n",
       "      <th>precipitation__0.0</th>\n",
       "      <th>precipitation__1.0</th>\n",
       "    </tr>\n",
       "  </thead>\n",
       "  <tbody>\n",
       "    <tr>\n",
       "      <th>0</th>\n",
       "      <td>3</td>\n",
       "      <td>20</td>\n",
       "      <td>16.3</td>\n",
       "      <td>1.0</td>\n",
       "      <td>1.5</td>\n",
       "      <td>89.0</td>\n",
       "      <td>576.0</td>\n",
       "      <td>49.0</td>\n",
       "      <td>109.0</td>\n",
       "      <td>0</td>\n",
       "      <td>1</td>\n",
       "    </tr>\n",
       "    <tr>\n",
       "      <th>1</th>\n",
       "      <td>6</td>\n",
       "      <td>13</td>\n",
       "      <td>20.1</td>\n",
       "      <td>0.0</td>\n",
       "      <td>1.4</td>\n",
       "      <td>48.0</td>\n",
       "      <td>916.0</td>\n",
       "      <td>159.0</td>\n",
       "      <td>113.0</td>\n",
       "      <td>1</td>\n",
       "      <td>0</td>\n",
       "    </tr>\n",
       "    <tr>\n",
       "      <th>2</th>\n",
       "      <td>7</td>\n",
       "      <td>6</td>\n",
       "      <td>13.9</td>\n",
       "      <td>0.0</td>\n",
       "      <td>0.7</td>\n",
       "      <td>79.0</td>\n",
       "      <td>1382.0</td>\n",
       "      <td>26.0</td>\n",
       "      <td>51.0</td>\n",
       "      <td>1</td>\n",
       "      <td>0</td>\n",
       "    </tr>\n",
       "    <tr>\n",
       "      <th>3</th>\n",
       "      <td>8</td>\n",
       "      <td>23</td>\n",
       "      <td>8.1</td>\n",
       "      <td>0.0</td>\n",
       "      <td>2.7</td>\n",
       "      <td>54.0</td>\n",
       "      <td>946.0</td>\n",
       "      <td>57.0</td>\n",
       "      <td>139.0</td>\n",
       "      <td>1</td>\n",
       "      <td>0</td>\n",
       "    </tr>\n",
       "    <tr>\n",
       "      <th>4</th>\n",
       "      <td>9</td>\n",
       "      <td>18</td>\n",
       "      <td>29.5</td>\n",
       "      <td>0.0</td>\n",
       "      <td>4.8</td>\n",
       "      <td>7.0</td>\n",
       "      <td>2000.0</td>\n",
       "      <td>431.0</td>\n",
       "      <td>38.0</td>\n",
       "      <td>1</td>\n",
       "      <td>0</td>\n",
       "    </tr>\n",
       "  </tbody>\n",
       "</table>\n",
       "</div>"
      ],
      "text/plain": [
       "   id  hour  hour_bef_temperature  hour_bef_precipitation  hour_bef_windspeed  \\\n",
       "0   3    20                  16.3                     1.0                 1.5   \n",
       "1   6    13                  20.1                     0.0                 1.4   \n",
       "2   7     6                  13.9                     0.0                 0.7   \n",
       "3   8    23                   8.1                     0.0                 2.7   \n",
       "4   9    18                  29.5                     0.0                 4.8   \n",
       "\n",
       "   hour_bef_humidity  hour_bef_visibility  count  hour_bef_pm  \\\n",
       "0               89.0                576.0   49.0        109.0   \n",
       "1               48.0                916.0  159.0        113.0   \n",
       "2               79.0               1382.0   26.0         51.0   \n",
       "3               54.0                946.0   57.0        139.0   \n",
       "4                7.0               2000.0  431.0         38.0   \n",
       "\n",
       "   precipitation__0.0  precipitation__1.0  \n",
       "0                   0                   1  \n",
       "1                   1                   0  \n",
       "2                   1                   0  \n",
       "3                   1                   0  \n",
       "4                   1                   0  "
      ]
     },
     "execution_count": 51,
     "metadata": {},
     "output_type": "execute_result"
    }
   ],
   "source": [
    "# 비 o,x 더미변수로 나누기.\n",
    "\n",
    "df1 = pd.get_dummies(train['hour_bef_precipitation'], prefix = 'precipitation_' ,drop_first=False)\n",
    "train = pd.concat([train, df1], axis=1 )\n",
    "train.head()"
   ]
  },
  {
   "cell_type": "code",
   "execution_count": 52,
   "metadata": {},
   "outputs": [
    {
     "data": {
      "text/plain": [
       "(1459, 10)"
      ]
     },
     "execution_count": 52,
     "metadata": {},
     "output_type": "execute_result"
    }
   ],
   "source": [
    "train.drop('hour_bef_precipitation', axis=1, inplace = True)\n",
    "train.shape"
   ]
  },
  {
   "cell_type": "code",
   "execution_count": 54,
   "metadata": {
    "scrolled": false
   },
   "outputs": [
    {
     "data": {
      "text/html": [
       "<div>\n",
       "<style scoped>\n",
       "    .dataframe tbody tr th:only-of-type {\n",
       "        vertical-align: middle;\n",
       "    }\n",
       "\n",
       "    .dataframe tbody tr th {\n",
       "        vertical-align: top;\n",
       "    }\n",
       "\n",
       "    .dataframe thead th {\n",
       "        text-align: right;\n",
       "    }\n",
       "</style>\n",
       "<table border=\"1\" class=\"dataframe\">\n",
       "  <thead>\n",
       "    <tr style=\"text-align: right;\">\n",
       "      <th></th>\n",
       "      <th>hour</th>\n",
       "      <th>hour_bef_temperature</th>\n",
       "      <th>hour_bef_windspeed</th>\n",
       "      <th>hour_bef_humidity</th>\n",
       "      <th>hour_bef_visibility</th>\n",
       "      <th>count</th>\n",
       "      <th>hour_bef_pm</th>\n",
       "      <th>precipitation__0.0</th>\n",
       "      <th>precipitation__1.0</th>\n",
       "    </tr>\n",
       "  </thead>\n",
       "  <tbody>\n",
       "    <tr>\n",
       "      <th>0</th>\n",
       "      <td>20</td>\n",
       "      <td>16.3</td>\n",
       "      <td>1.5</td>\n",
       "      <td>89.0</td>\n",
       "      <td>576.0</td>\n",
       "      <td>49.0</td>\n",
       "      <td>109.0</td>\n",
       "      <td>0</td>\n",
       "      <td>1</td>\n",
       "    </tr>\n",
       "    <tr>\n",
       "      <th>1</th>\n",
       "      <td>13</td>\n",
       "      <td>20.1</td>\n",
       "      <td>1.4</td>\n",
       "      <td>48.0</td>\n",
       "      <td>916.0</td>\n",
       "      <td>159.0</td>\n",
       "      <td>113.0</td>\n",
       "      <td>1</td>\n",
       "      <td>0</td>\n",
       "    </tr>\n",
       "    <tr>\n",
       "      <th>2</th>\n",
       "      <td>6</td>\n",
       "      <td>13.9</td>\n",
       "      <td>0.7</td>\n",
       "      <td>79.0</td>\n",
       "      <td>1382.0</td>\n",
       "      <td>26.0</td>\n",
       "      <td>51.0</td>\n",
       "      <td>1</td>\n",
       "      <td>0</td>\n",
       "    </tr>\n",
       "    <tr>\n",
       "      <th>3</th>\n",
       "      <td>23</td>\n",
       "      <td>8.1</td>\n",
       "      <td>2.7</td>\n",
       "      <td>54.0</td>\n",
       "      <td>946.0</td>\n",
       "      <td>57.0</td>\n",
       "      <td>139.0</td>\n",
       "      <td>1</td>\n",
       "      <td>0</td>\n",
       "    </tr>\n",
       "    <tr>\n",
       "      <th>4</th>\n",
       "      <td>18</td>\n",
       "      <td>29.5</td>\n",
       "      <td>4.8</td>\n",
       "      <td>7.0</td>\n",
       "      <td>2000.0</td>\n",
       "      <td>431.0</td>\n",
       "      <td>38.0</td>\n",
       "      <td>1</td>\n",
       "      <td>0</td>\n",
       "    </tr>\n",
       "  </tbody>\n",
       "</table>\n",
       "</div>"
      ],
      "text/plain": [
       "   hour  hour_bef_temperature  hour_bef_windspeed  hour_bef_humidity  \\\n",
       "0    20                  16.3                 1.5               89.0   \n",
       "1    13                  20.1                 1.4               48.0   \n",
       "2     6                  13.9                 0.7               79.0   \n",
       "3    23                   8.1                 2.7               54.0   \n",
       "4    18                  29.5                 4.8                7.0   \n",
       "\n",
       "   hour_bef_visibility  count  hour_bef_pm  precipitation__0.0  \\\n",
       "0                576.0   49.0        109.0                   0   \n",
       "1                916.0  159.0        113.0                   1   \n",
       "2               1382.0   26.0         51.0                   1   \n",
       "3                946.0   57.0        139.0                   1   \n",
       "4               2000.0  431.0         38.0                   1   \n",
       "\n",
       "   precipitation__1.0  \n",
       "0                   1  \n",
       "1                   0  \n",
       "2                   0  \n",
       "3                   0  \n",
       "4                   0  "
      ]
     },
     "execution_count": 54,
     "metadata": {},
     "output_type": "execute_result"
    }
   ],
   "source": [
    "train.drop('id', axis = 1, inplace=True)\n",
    "train.head()"
   ]
  },
  {
   "cell_type": "code",
   "execution_count": 53,
   "metadata": {
    "scrolled": false
   },
   "outputs": [
    {
     "name": "stdout",
     "output_type": "stream",
     "text": [
      "<class 'pandas.core.frame.DataFrame'>\n",
      "RangeIndex: 1459 entries, 0 to 1458\n",
      "Data columns (total 10 columns):\n",
      " #   Column                Non-Null Count  Dtype  \n",
      "---  ------                --------------  -----  \n",
      " 0   id                    1459 non-null   int64  \n",
      " 1   hour                  1459 non-null   int64  \n",
      " 2   hour_bef_temperature  1459 non-null   float64\n",
      " 3   hour_bef_windspeed    1459 non-null   float64\n",
      " 4   hour_bef_humidity     1459 non-null   float64\n",
      " 5   hour_bef_visibility   1459 non-null   float64\n",
      " 6   count                 1459 non-null   float64\n",
      " 7   hour_bef_pm           1459 non-null   float64\n",
      " 8   precipitation__0.0    1459 non-null   uint8  \n",
      " 9   precipitation__1.0    1459 non-null   uint8  \n",
      "dtypes: float64(6), int64(2), uint8(2)\n",
      "memory usage: 94.2 KB\n"
     ]
    }
   ],
   "source": [
    "train.info()"
   ]
  },
  {
   "cell_type": "markdown",
   "metadata": {},
   "source": [
    "## 전처리 완료"
   ]
  },
  {
   "cell_type": "markdown",
   "metadata": {},
   "source": [
    "# 3. 모델링"
   ]
  },
  {
   "cell_type": "code",
   "execution_count": 55,
   "metadata": {},
   "outputs": [
    {
     "data": {
      "text/plain": [
       "(1459,)"
      ]
     },
     "execution_count": 55,
     "metadata": {},
     "output_type": "execute_result"
    }
   ],
   "source": [
    "y = train['count']\n",
    "y.shape"
   ]
  },
  {
   "cell_type": "code",
   "execution_count": 56,
   "metadata": {},
   "outputs": [
    {
     "data": {
      "text/plain": [
       "(1459, 8)"
      ]
     },
     "execution_count": 56,
     "metadata": {},
     "output_type": "execute_result"
    }
   ],
   "source": [
    "X = train.drop('count', axis=1)\n",
    "X.shape"
   ]
  },
  {
   "cell_type": "code",
   "execution_count": 57,
   "metadata": {},
   "outputs": [],
   "source": [
    "from sklearn.model_selection import train_test_split\n",
    "\n",
    "X_train, X_test, y_train, y_test = train_test_split(X, y, \n",
    "                                                    test_size=0.2)"
   ]
  },
  {
   "cell_type": "code",
   "execution_count": 58,
   "metadata": {},
   "outputs": [
    {
     "name": "stdout",
     "output_type": "stream",
     "text": [
      "(1167, 8)\n",
      "(292, 8)\n",
      "(1167,)\n",
      "(292,)\n"
     ]
    }
   ],
   "source": [
    "print(X_train.shape)\n",
    "print(X_test.shape)\n",
    "print(y_train.shape)\n",
    "print(y_test.shape)"
   ]
  },
  {
   "cell_type": "code",
   "execution_count": 59,
   "metadata": {},
   "outputs": [],
   "source": [
    "def test_model(model, X_train, y_train):\n",
    "    cv = KFold(n_splits = 10, shuffle=True)\n",
    "    r2 = make_scorer(r2_score)\n",
    "    r2_val_score = cross_val_score(model, X_train, y_train, cv=cv, scoring = r2, n_jobs=-1)\n",
    "    score = [r2_val_score.mean()]\n",
    "    return score"
   ]
  },
  {
   "cell_type": "code",
   "execution_count": 60,
   "metadata": {},
   "outputs": [],
   "source": [
    "def rsme(model, X, y):\n",
    "    cv_scores = -cross_val_score(model, X, y, scoring='neg_mean_squared_error', cv=10, n_jobs=-1)\n",
    "    return np.sqrt(cv_scores)"
   ]
  },
  {
   "cell_type": "markdown",
   "metadata": {},
   "source": [
    "### Lasso회귀를 이용하여 유의미한 변수파악"
   ]
  },
  {
   "cell_type": "code",
   "execution_count": 61,
   "metadata": {
    "scrolled": true
   },
   "outputs": [
    {
     "name": "stdout",
     "output_type": "stream",
     "text": [
      "Lasso -> Train RSME: 52.89914| alpha 0.01450\n"
     ]
    }
   ],
   "source": [
    "## Tuning parameters\n",
    "\n",
    "param_grid = {'alpha':[0.0001,0.001,0.01,1.,5.,10.,25.],'max_iter':[50000]}\n",
    "lasso = GridSearchCV(Lasso(), cv=5, param_grid=param_grid, scoring='neg_mean_squared_error', n_jobs=-1)\n",
    "lasso.fit(X_train, y_train)\n",
    "alpha = lasso.best_params_['alpha']\n",
    "\n",
    "# Home in\n",
    "param_grid = {'alpha':[x/100. * alpha for x in range(50,150,5)],'max_iter':[50000]}\n",
    "lasso = GridSearchCV(Lasso(), cv=5, param_grid=param_grid, scoring='neg_mean_squared_error', n_jobs=-1)\n",
    "lasso.fit(X_train, y_train)\n",
    "alpha = lasso.best_params_['alpha']\n",
    "lasso = lasso.best_estimator_\n",
    "\n",
    "print('Lasso -> Train RSME: {:,.5f}| alpha {:,.5f}'.format(rsme(lasso, X_train, y_train).mean(),alpha))"
   ]
  },
  {
   "cell_type": "code",
   "execution_count": 62,
   "metadata": {},
   "outputs": [],
   "source": [
    "dfColumns = X_train.columns"
   ]
  },
  {
   "cell_type": "code",
   "execution_count": 63,
   "metadata": {},
   "outputs": [
    {
     "name": "stdout",
     "output_type": "stream",
     "text": [
      "Lasso dropped 0 of 8 features.\n"
     ]
    },
    {
     "data": {
      "image/png": "[encoded data removed]",
      "text/plain": [
       "<Figure size 576x720 with 1 Axes>"
      ]
     },
     "metadata": {
      "needs_background": "light"
     },
     "output_type": "display_data"
    }
   ],
   "source": [
    "coefs = pd.DataFrame({'coefs':lasso.coef_,'Positive':lasso.coef_>0}, index=dfColumns)\n",
    "coefs['coefs_abs'] = np.abs(coefs.coefs)\n",
    "print('Lasso dropped {} of {} features.'.format(sum(coefs.coefs==0), coefs.shape[0]))\n",
    "\n",
    "top_coefs = coefs.sort_values('coefs_abs', ascending=False).head(10) # 상위 10개 유의미한 변수\n",
    "plt.figure(figsize=(8,10))\n",
    "sns.barplot(top_coefs.coefs_abs, top_coefs.index, orient='h', hue=top_coefs.Positive)\n",
    "plt.title=('Lasso Regression: Top Features')\n",
    "plt.xlabel('Absolute Coeficient')\n",
    "plt.show()"
   ]
  },
  {
   "cell_type": "code",
   "execution_count": 64,
   "metadata": {},
   "outputs": [
    {
     "data": {
      "text/html": [
       "<div>\n",
       "<style scoped>\n",
       "    .dataframe tbody tr th:only-of-type {\n",
       "        vertical-align: middle;\n",
       "    }\n",
       "\n",
       "    .dataframe tbody tr th {\n",
       "        vertical-align: top;\n",
       "    }\n",
       "\n",
       "    .dataframe thead th {\n",
       "        text-align: right;\n",
       "    }\n",
       "</style>\n",
       "<table border=\"1\" class=\"dataframe\">\n",
       "  <thead>\n",
       "    <tr style=\"text-align: right;\">\n",
       "      <th></th>\n",
       "      <th>coefs</th>\n",
       "      <th>Positive</th>\n",
       "      <th>coefs_abs</th>\n",
       "    </tr>\n",
       "  </thead>\n",
       "  <tbody>\n",
       "    <tr>\n",
       "      <th>precipitation__0.0</th>\n",
       "      <td>6.414301e+01</td>\n",
       "      <td>True</td>\n",
       "      <td>6.414301e+01</td>\n",
       "    </tr>\n",
       "    <tr>\n",
       "      <th>hour_bef_windspeed</th>\n",
       "      <td>6.113444e+00</td>\n",
       "      <td>True</td>\n",
       "      <td>6.113444e+00</td>\n",
       "    </tr>\n",
       "    <tr>\n",
       "      <th>hour_bef_temperature</th>\n",
       "      <td>5.509353e+00</td>\n",
       "      <td>True</td>\n",
       "      <td>5.509353e+00</td>\n",
       "    </tr>\n",
       "    <tr>\n",
       "      <th>hour</th>\n",
       "      <td>4.861738e+00</td>\n",
       "      <td>True</td>\n",
       "      <td>4.861738e+00</td>\n",
       "    </tr>\n",
       "    <tr>\n",
       "      <th>hour_bef_humidity</th>\n",
       "      <td>-4.026422e-01</td>\n",
       "      <td>False</td>\n",
       "      <td>4.026422e-01</td>\n",
       "    </tr>\n",
       "    <tr>\n",
       "      <th>hour_bef_pm</th>\n",
       "      <td>-2.599275e-01</td>\n",
       "      <td>False</td>\n",
       "      <td>2.599275e-01</td>\n",
       "    </tr>\n",
       "    <tr>\n",
       "      <th>hour_bef_visibility</th>\n",
       "      <td>-3.210739e-03</td>\n",
       "      <td>False</td>\n",
       "      <td>3.210739e-03</td>\n",
       "    </tr>\n",
       "    <tr>\n",
       "      <th>precipitation__1.0</th>\n",
       "      <td>-2.048882e-13</td>\n",
       "      <td>False</td>\n",
       "      <td>2.048882e-13</td>\n",
       "    </tr>\n",
       "  </tbody>\n",
       "</table>\n",
       "</div>"
      ],
      "text/plain": [
       "                             coefs  Positive     coefs_abs\n",
       "precipitation__0.0    6.414301e+01      True  6.414301e+01\n",
       "hour_bef_windspeed    6.113444e+00      True  6.113444e+00\n",
       "hour_bef_temperature  5.509353e+00      True  5.509353e+00\n",
       "hour                  4.861738e+00      True  4.861738e+00\n",
       "hour_bef_humidity    -4.026422e-01     False  4.026422e-01\n",
       "hour_bef_pm          -2.599275e-01     False  2.599275e-01\n",
       "hour_bef_visibility  -3.210739e-03     False  3.210739e-03\n",
       "precipitation__1.0   -2.048882e-13     False  2.048882e-13"
      ]
     },
     "execution_count": 64,
     "metadata": {},
     "output_type": "execute_result"
    }
   ],
   "source": [
    "# 상위 10개 유의미한 변수\n",
    "\n",
    "top_coefs"
   ]
  },
  {
   "cell_type": "code",
   "execution_count": 65,
   "metadata": {},
   "outputs": [
    {
     "name": "stdout",
     "output_type": "stream",
     "text": [
      "Score: 0.58598\n",
      "RSME: 52.89983\n"
     ]
    }
   ],
   "source": [
    "# Linear Regression\n",
    "\n",
    "LR = linear_model.LinearRegression(n_jobs=-1)\n",
    "acc_LR = test_model(LR, X_train, y_train)\n",
    "\n",
    "LR_rsme = rsme(LR, X_train, y_train)\n",
    "\n",
    "print('Score: {:.5f}'.format((acc_LR[0])))\n",
    "print('RSME: {:.5f}'.format(LR_rsme.mean()))"
   ]
  },
  {
   "cell_type": "code",
   "execution_count": 66,
   "metadata": {},
   "outputs": [
    {
     "name": "stdout",
     "output_type": "stream",
     "text": [
      "Score: 0.04459\n",
      "RSME: 80.43802\n"
     ]
    }
   ],
   "source": [
    "# Support Vector Regressor\n",
    "\n",
    "svr_reg = SVR(kernel='rbf')\n",
    "acc_SVR = test_model(svr_reg, X_train, y_train)\n",
    "\n",
    "svr_rsme = rsme(svr_reg, X_train, y_train)\n",
    "print('Score: {:.5f}'.format((acc_SVR[0])))\n",
    "print('RSME: {:.5f}'.format(svr_rsme.mean()))"
   ]
  },
  {
   "cell_type": "code",
   "execution_count": 67,
   "metadata": {},
   "outputs": [
    {
     "name": "stdout",
     "output_type": "stream",
     "text": [
      "Score: 0.55881\n",
      "RSME: 54.05348\n"
     ]
    }
   ],
   "source": [
    "#Decision Tree\n",
    "dt_reg = DecisionTreeRegressor(random_state=21)\n",
    "acc_tree = test_model(dt_reg, X_train, y_train)\n",
    "\n",
    "dt_rsme = rsme(dt_reg, X_train, y_train)\n",
    "print('Score: {:.5f}'.format((acc_tree[0])))\n",
    "print('RSME: {:.5f}'.format(dt_rsme.mean()))"
   ]
  },
  {
   "cell_type": "code",
   "execution_count": 68,
   "metadata": {},
   "outputs": [
    {
     "name": "stdout",
     "output_type": "stream",
     "text": [
      "Score: 0.76982\n",
      "RSME: 38.14555\n"
     ]
    }
   ],
   "source": [
    "# Random Forest\n",
    "rf_reg = RandomForestRegressor(n_estimators = 1000, n_jobs=-1)\n",
    "acc_rf = test_model(rf_reg, X_train, y_train)\n",
    "\n",
    "rf_rsme = rsme(rf_reg, X_train, y_train)\n",
    "print('Score: {:.5f}'.format((acc_rf[0])))\n",
    "print('RSME: {:.5f}'.format(rf_rsme.mean()))"
   ]
  },
  {
   "cell_type": "code",
   "execution_count": 69,
   "metadata": {},
   "outputs": [
    {
     "name": "stdout",
     "output_type": "stream",
     "text": [
      "Score: 0.78218\n",
      "RSME: 38.05748\n"
     ]
    }
   ],
   "source": [
    "# Bagging Regressor\n",
    "br_reg = BaggingRegressor(n_estimators=1000, n_jobs=-1)\n",
    "acc_br = test_model(br_reg, X_train, y_train)\n",
    "\n",
    "br_rsme = rsme(br_reg, X_train, y_train)\n",
    "print('Score: {:.5f}'.format((acc_br[0])))\n",
    "print('RSME: {:.5f}'.format(br_rsme.mean()))"
   ]
  },
  {
   "cell_type": "code",
   "execution_count": 70,
   "metadata": {
    "scrolled": true
   },
   "outputs": [
    {
     "name": "stdout",
     "output_type": "stream",
     "text": [
      "Score: 0.76902\n",
      "RSME: 39.82429\n"
     ]
    }
   ],
   "source": [
    "# Gradient Boosting Regressor\n",
    "gbr_reg = GradientBoostingRegressor(n_estimators=1000, learning_rate=0.05, loss='ls')\n",
    "acc_gbr = test_model(gbr_reg, X_train, y_train)\n",
    "\n",
    "gbr_rsme = rsme(gbr_reg, X_train, y_train)\n",
    "print('Score: {:.5f}'.format((acc_gbr[0])))\n",
    "print('RSME: {:.5f}'.format(gbr_rsme.mean()))"
   ]
  },
  {
   "cell_type": "code",
   "execution_count": 71,
   "metadata": {},
   "outputs": [
    {
     "name": "stdout",
     "output_type": "stream",
     "text": [
      "Score: 0.76077\n",
      "RSME: 39.12618\n"
     ]
    }
   ],
   "source": [
    "# XGBoost\n",
    "\n",
    "xgb_reg = xgb.XGBRegressor()\n",
    "\n",
    "acc_xgb = test_model(xgb_reg, X_train[top_coefs.index], y_train)\n",
    "xgb_rsme = rsme(xgb_reg, X_train[top_coefs.index], y_train)\n",
    "\n",
    "print('Score: {:.5f}'.format((acc_xgb[0])))\n",
    "print('RSME: {:.5f}'.format(xgb_rsme.mean()))"
   ]
  },
  {
   "cell_type": "code",
   "execution_count": 72,
   "metadata": {},
   "outputs": [
    {
     "name": "stdout",
     "output_type": "stream",
     "text": [
      "Score: 0.77434\n",
      "RSME: 38.57915\n"
     ]
    }
   ],
   "source": [
    "# Ligth GBM\n",
    "\n",
    "lgb_reg = LGBMRegressor()\n",
    "\n",
    "acc_lgb = test_model(lgb_reg, X_train[top_coefs.index], y_train)\n",
    "lgb_rsme = rsme(lgb_reg, X_train[top_coefs.index], y_train)\n",
    "\n",
    "print('Score: {:.5f}'.format((acc_lgb[0])))\n",
    "print('RSME: {:.5f}'.format(lgb_rsme.mean()))"
   ]
  },
  {
   "cell_type": "code",
   "execution_count": 73,
   "metadata": {},
   "outputs": [
    {
     "data": {
      "text/html": [
       "<div>\n",
       "<style scoped>\n",
       "    .dataframe tbody tr th:only-of-type {\n",
       "        vertical-align: middle;\n",
       "    }\n",
       "\n",
       "    .dataframe tbody tr th {\n",
       "        vertical-align: top;\n",
       "    }\n",
       "\n",
       "    .dataframe thead th {\n",
       "        text-align: right;\n",
       "    }\n",
       "</style>\n",
       "<table border=\"1\" class=\"dataframe\">\n",
       "  <thead>\n",
       "    <tr style=\"text-align: right;\">\n",
       "      <th></th>\n",
       "      <th>Score</th>\n",
       "      <th>RSME</th>\n",
       "      <th>RMSE_std</th>\n",
       "    </tr>\n",
       "    <tr>\n",
       "      <th>Model</th>\n",
       "      <th></th>\n",
       "      <th></th>\n",
       "      <th></th>\n",
       "    </tr>\n",
       "  </thead>\n",
       "  <tbody>\n",
       "    <tr>\n",
       "      <th>Bagging Regressor</th>\n",
       "      <td>0.782179</td>\n",
       "      <td>38.057475</td>\n",
       "      <td>5.134619</td>\n",
       "    </tr>\n",
       "    <tr>\n",
       "      <th>Random Forest</th>\n",
       "      <td>0.769819</td>\n",
       "      <td>38.145555</td>\n",
       "      <td>5.169938</td>\n",
       "    </tr>\n",
       "    <tr>\n",
       "      <th>Light GBM</th>\n",
       "      <td>0.774344</td>\n",
       "      <td>38.579148</td>\n",
       "      <td>5.197582</td>\n",
       "    </tr>\n",
       "    <tr>\n",
       "      <th>XGBoost</th>\n",
       "      <td>0.760766</td>\n",
       "      <td>39.126184</td>\n",
       "      <td>4.631694</td>\n",
       "    </tr>\n",
       "    <tr>\n",
       "      <th>Gradient Boosting Regressor</th>\n",
       "      <td>0.769016</td>\n",
       "      <td>39.824294</td>\n",
       "      <td>5.286592</td>\n",
       "    </tr>\n",
       "    <tr>\n",
       "      <th>Linear Regression</th>\n",
       "      <td>0.585976</td>\n",
       "      <td>52.899829</td>\n",
       "      <td>4.937410</td>\n",
       "    </tr>\n",
       "    <tr>\n",
       "      <th>Decision Tree</th>\n",
       "      <td>0.558814</td>\n",
       "      <td>54.053484</td>\n",
       "      <td>5.762346</td>\n",
       "    </tr>\n",
       "    <tr>\n",
       "      <th>Support Vector Regressor</th>\n",
       "      <td>0.044590</td>\n",
       "      <td>80.438020</td>\n",
       "      <td>5.928409</td>\n",
       "    </tr>\n",
       "  </tbody>\n",
       "</table>\n",
       "</div>"
      ],
      "text/plain": [
       "                                 Score       RSME  RMSE_std\n",
       "Model                                                      \n",
       "Bagging Regressor             0.782179  38.057475  5.134619\n",
       "Random Forest                 0.769819  38.145555  5.169938\n",
       "Light GBM                     0.774344  38.579148  5.197582\n",
       "XGBoost                       0.760766  39.126184  4.631694\n",
       "Gradient Boosting Regressor   0.769016  39.824294  5.286592\n",
       "Linear Regression             0.585976  52.899829  4.937410\n",
       "Decision Tree                 0.558814  54.053484  5.762346\n",
       "Support Vector Regressor      0.044590  80.438020  5.928409"
      ]
     },
     "metadata": {},
     "output_type": "display_data"
    }
   ],
   "source": [
    "results = pd.DataFrame({\n",
    "    'Model': ['Linear Regression', 'Support Vector Regressor', \n",
    "              'Decision Tree', 'Random Forest', 'Bagging Regressor', 'Gradient Boosting Regressor ','XGBoost','Light GBM'],\n",
    "    'Score': [acc_LR[0], acc_SVR[0], acc_tree[0], acc_rf[0], acc_br[0], acc_gbr[0], acc_xgb[0], acc_lgb[0]],\n",
    "    'RSME': [LR_rsme.mean(), svr_rsme.mean(), dt_rsme.mean(), rf_rsme.mean(), br_rsme.mean(), gbr_rsme.mean(), \n",
    "             xgb_rsme.mean(), lgb_rsme.mean()],\n",
    "    'RMSE_std':[LR_rsme.std(), svr_rsme.std(), dt_rsme.std(), rf_rsme.std(), br_rsme.std(), gbr_rsme.std(), \n",
    "                xgb_rsme.std(), lgb_rsme.std()]\n",
    "})\n",
    "\n",
    "result = results.sort_values(by='RSME', ascending=True)\n",
    "result = result.set_index('Model')\n",
    "display(result.head(9))"
   ]
  },
  {
   "cell_type": "markdown",
   "metadata": {},
   "source": [
    "# 4. 하이퍼파라미터 튜닝"
   ]
  },
  {
   "cell_type": "markdown",
   "metadata": {},
   "source": [
    "## 4-1. 랜덤 포레스트 (RandomizedSearchCV)"
   ]
  },
  {
   "cell_type": "code",
   "execution_count": 74,
   "metadata": {},
   "outputs": [],
   "source": [
    "from sklearn.model_selection import RandomizedSearchCV\n",
    "\n",
    "# Number of trees in random forest\n",
    "\n",
    "n_estimators = [int(x) for x in np.linspace(start = 200, stop = 2000, num = 10)]\n",
    "\n",
    "# Number of features to consider at every split\n",
    "\n",
    "max_features = ['auto', 'sqrt']\n",
    "\n",
    "# Maximum number of levels in tree\n",
    "\n",
    "max_depth = [int(x) for x in np.linspace(10, 110, num = 11)]\n",
    "\n",
    "max_depth.append(None)\n",
    "\n",
    "# Minimum number of samples required to split a node\n",
    "\n",
    "min_samples_split = [2, 5, 10]\n",
    "\n",
    "# Minimum number of samples required at each leaf node\n",
    "\n",
    "min_samples_leaf = [1, 2, 4]\n",
    "\n",
    "# Method of selecting samples for training each tree\n",
    "\n",
    "bootstrap = [True, False]\n",
    "\n",
    "# Create the random grid\n",
    "\n",
    "random_grid = {'n_estimators': n_estimators,\n",
    "               'max_features': max_features,\n",
    "               'max_depth': max_depth,\n",
    "               'min_samples_split': min_samples_split,\n",
    "               'min_samples_leaf': min_samples_leaf,\n",
    "               'bootstrap': bootstrap}\n"
   ]
  },
  {
   "cell_type": "code",
   "execution_count": 75,
   "metadata": {},
   "outputs": [
    {
     "name": "stdout",
     "output_type": "stream",
     "text": [
      "Fitting 3 folds for each of 100 candidates, totalling 300 fits\n"
     ]
    },
    {
     "name": "stderr",
     "output_type": "stream",
     "text": [
      "[Parallel(n_jobs=-1)]: Using backend LokyBackend with 8 concurrent workers.\n",
      "[Parallel(n_jobs=-1)]: Done  25 tasks      | elapsed:   14.5s\n",
      "[Parallel(n_jobs=-1)]: Done 146 tasks      | elapsed:  1.2min\n",
      "[Parallel(n_jobs=-1)]: Done 300 out of 300 | elapsed:  2.7min finished\n"
     ]
    },
    {
     "data": {
      "text/plain": [
       "RandomizedSearchCV(cv=3, estimator=RandomForestRegressor(), n_iter=100,\n",
       "                   n_jobs=-1,\n",
       "                   param_distributions={'bootstrap': [True, False],\n",
       "                                        'max_depth': [10, 20, 30, 40, 50, 60,\n",
       "                                                      70, 80, 90, 100, 110,\n",
       "                                                      None],\n",
       "                                        'max_features': ['auto', 'sqrt'],\n",
       "                                        'min_samples_leaf': [1, 2, 4],\n",
       "                                        'min_samples_split': [2, 5, 10],\n",
       "                                        'n_estimators': [200, 400, 600, 800,\n",
       "                                                         1000, 1200, 1400, 1600,\n",
       "                                                         1800, 2000]},\n",
       "                   verbose=2)"
      ]
     },
     "execution_count": 75,
     "metadata": {},
     "output_type": "execute_result"
    }
   ],
   "source": [
    "# Use the random grid to search for best hyperparameters\n",
    "# First create the base model to tune\n",
    "\n",
    "rf = RandomForestRegressor()\n",
    "\n",
    "# Random search of parameters, using 3 fold cross validation, \n",
    "# search across 100 different combinations, and use all available cores\n",
    "\n",
    "rf_random = RandomizedSearchCV(estimator = rf, param_distributions = random_grid, n_iter = 100, cv = 3, verbose=2, n_jobs = -1)\n",
    "\n",
    "# Fit the random search model\n",
    "\n",
    "rf_random.fit(X_train, y_train)"
   ]
  },
  {
   "cell_type": "code",
   "execution_count": 77,
   "metadata": {},
   "outputs": [
    {
     "data": {
      "text/plain": [
       "RandomForestRegressor(max_depth=100, n_estimators=600)"
      ]
     },
     "execution_count": 77,
     "metadata": {},
     "output_type": "execute_result"
    }
   ],
   "source": [
    "rf_random.best_estimator_"
   ]
  },
  {
   "cell_type": "code",
   "execution_count": 78,
   "metadata": {},
   "outputs": [],
   "source": [
    "rf_best = RandomForestRegressor(max_depth=100, n_estimators=600, n_jobs=-1)"
   ]
  },
  {
   "cell_type": "code",
   "execution_count": 79,
   "metadata": {},
   "outputs": [
    {
     "data": {
      "text/plain": [
       "RandomForestRegressor(max_depth=100, n_estimators=600, n_jobs=-1)"
      ]
     },
     "execution_count": 79,
     "metadata": {},
     "output_type": "execute_result"
    }
   ],
   "source": [
    "rf_best.fit(X_train, y_train)"
   ]
  },
  {
   "cell_type": "code",
   "execution_count": 80,
   "metadata": {},
   "outputs": [
    {
     "name": "stdout",
     "output_type": "stream",
     "text": [
      "Score: 0.77632\n",
      "RSME: 38.20863\n",
      "RSME_std: 4.99932\n"
     ]
    }
   ],
   "source": [
    "acc_rf_best = test_model(rf_best, X_train, y_train)\n",
    "rf_best_rsme = rsme(rf_best, X_train, y_train)\n",
    "\n",
    "print('Score: {:.5f}'.format((acc_rf_best[0])))\n",
    "print('RSME: {:.5f}'.format(rf_best_rsme.mean()))\n",
    "print('RSME_std: {:.5f}'.format(rf_best_rsme.std()))"
   ]
  },
  {
   "cell_type": "markdown",
   "metadata": {},
   "source": [
    "## 4-2. Light GBM(RandomizedSearchCV)"
   ]
  },
  {
   "cell_type": "code",
   "execution_count": 92,
   "metadata": {},
   "outputs": [
    {
     "name": "stdout",
     "output_type": "stream",
     "text": [
      "{'n_estimators': [100, 119, 138, 157, 176, 195, 215, 234, 253, 272, 291, 311, 330, 349, 368, 387, 407, 426, 445, 464, 483, 503, 522, 541, 560, 579, 598, 618, 637, 656, 675, 694, 714, 733, 752, 771, 790, 810, 829, 848, 867, 886, 906, 925, 944, 963, 982, 1002, 1021, 1040, 1059, 1078, 1097, 1117, 1136, 1155, 1174, 1193, 1213, 1232, 1251, 1270, 1289, 1309, 1328, 1347, 1366, 1385, 1405, 1424, 1443, 1462, 1481, 1501, 1520, 1539, 1558, 1577, 1596, 1616, 1635, 1654, 1673, 1692, 1712, 1731, 1750, 1769, 1788, 1808, 1827, 1846, 1865, 1884, 1904, 1923, 1942, 1961, 1980, 2000], 'max_features': ['auto', 'sqrt'], 'max_depth': [10, 15, 21, 27, 33, 38, 44, 50, 56, 62, 67, 73, 79, 85, 91, 96, 102, 108, 114, 120, None], 'min_samples_split': [3, 6, 9, 10], 'min_samples_leaf': [1, 3, 6, 9], 'bootstrap': [True, False]}\n"
     ]
    }
   ],
   "source": [
    "from sklearn.model_selection import RandomizedSearchCV\n",
    "\n",
    "# Number of trees in random forest\n",
    "\n",
    "n_estimators = [int(x) for x in np.linspace(start = 100, stop = 2000, num = 100)]\n",
    "\n",
    "# Number of features to consider at every split\n",
    "\n",
    "max_features = ['auto', 'sqrt']\n",
    "\n",
    "# Maximum number of levels in tree\n",
    "\n",
    "max_depth = [int(x) for x in np.linspace(10, 120, num = 20)]\n",
    "\n",
    "max_depth.append(None)\n",
    "\n",
    "# Minimum number of samples required to split a node\n",
    "\n",
    "min_samples_split = [3,6,9,10]\n",
    "\n",
    "# Minimum number of samples required at each leaf node\n",
    "\n",
    "min_samples_leaf = [ 1, 3, 6, 9 ]\n",
    "\n",
    "# Method of selecting samples for training each tree\n",
    "\n",
    "bootstrap = [True, False]\n",
    "\n",
    "# Create the random grid\n",
    "\n",
    "random_grid = {'n_estimators': n_estimators,\n",
    "               'max_features': max_features,\n",
    "               'max_depth': max_depth,\n",
    "               'min_samples_split': min_samples_split,\n",
    "               'min_samples_leaf': min_samples_leaf,\n",
    "               'bootstrap': bootstrap}\n",
    "\n",
    "print(random_grid)"
   ]
  },
  {
   "cell_type": "code",
   "execution_count": 93,
   "metadata": {
    "scrolled": true
   },
   "outputs": [
    {
     "name": "stdout",
     "output_type": "stream",
     "text": [
      "Fitting 3 folds for each of 100 candidates, totalling 300 fits\n"
     ]
    },
    {
     "name": "stderr",
     "output_type": "stream",
     "text": [
      "[Parallel(n_jobs=-1)]: Using backend LokyBackend with 8 concurrent workers.\n",
      "[Parallel(n_jobs=-1)]: Done  25 tasks      | elapsed:    6.3s\n",
      "[Parallel(n_jobs=-1)]: Done 146 tasks      | elapsed:   25.4s\n"
     ]
    },
    {
     "name": "stdout",
     "output_type": "stream",
     "text": [
      "LGBMRegressor(bootstrap=True, max_depth=44, max_features='auto',\n",
      "              min_samples_leaf=1, min_samples_split=10)\n"
     ]
    },
    {
     "name": "stderr",
     "output_type": "stream",
     "text": [
      "[Parallel(n_jobs=-1)]: Done 300 out of 300 | elapsed:   51.4s finished\n"
     ]
    }
   ],
   "source": [
    "# Use the random grid to search for best hyperparameters\n",
    "# First create the base model to tune\n",
    "\n",
    "lg_cl = LGBMRegressor()\n",
    "\n",
    "# Random search of parameters, using 3 fold cross validation, \n",
    "# search across 100 different combinations, and use all available cores\n",
    "\n",
    "lg_random = RandomizedSearchCV(estimator = lg_cl, param_distributions = random_grid, n_iter = 100, cv = 3, verbose=2, n_jobs = -1)\n",
    "\n",
    "# Fit the random search model\n",
    "\n",
    "lg_random.fit(X_train, y_train)\n",
    "print(lg_random.best_estimator_)"
   ]
  },
  {
   "cell_type": "code",
   "execution_count": 94,
   "metadata": {},
   "outputs": [
    {
     "data": {
      "text/plain": [
       "LGBMRegressor(bootstrap=True, max_depth=44, max_features='auto',\n",
       "              min_samples_leaf=1, min_samples_split=10)"
      ]
     },
     "execution_count": 94,
     "metadata": {},
     "output_type": "execute_result"
    }
   ],
   "source": [
    "lg_random.best_estimator_"
   ]
  },
  {
   "cell_type": "code",
   "execution_count": 95,
   "metadata": {},
   "outputs": [],
   "source": [
    "lg_random_best = LGBMRegressor(bootstrap=True, max_depth=44, max_features='auto',\n",
    "              min_samples_leaf=1, min_samples_split=10)"
   ]
  },
  {
   "cell_type": "code",
   "execution_count": 99,
   "metadata": {},
   "outputs": [
    {
     "name": "stdout",
     "output_type": "stream",
     "text": [
      "Score: 0.77821\n",
      "RSME: 38.57915\n",
      "RSME_std: 5.19758\n"
     ]
    }
   ],
   "source": [
    "acc_lg_random_best = test_model(lg_random_best, X_train, y_train)\n",
    "lg_random_best_rsme = rsme(lg_random_best, X_train, y_train)\n",
    "\n",
    "print('Score: {:.5f}'.format((acc_lg_random_best[0])))\n",
    "print('RSME: {:.5f}'.format(lg_random_best_rsme.mean()))\n",
    "print('RSME_std: {:.5f}'.format(lg_random_best_rsme.std()))"
   ]
  },
  {
   "cell_type": "markdown",
   "metadata": {},
   "source": [
    "## 4-3. Light GBM(Bayesian optimization)"
   ]
  },
  {
   "cell_type": "code",
   "execution_count": 178,
   "metadata": {},
   "outputs": [],
   "source": [
    "bayes_params = {\n",
    "    'num_leaves': (4, 99),\n",
    "    'colsample_bytree':(0.5, 1), \n",
    "    'subsample': (0.5, 1),\n",
    "    'max_depth': (4, 128),\n",
    "    'reg_alpha': (0, 0.9),\n",
    "    'reg_lambda': (0, 0.9), \n",
    "    'min_split_gain': (0.001, 0.1),\n",
    "    'min_child_weight':(1, 99)\n",
    "}"
   ]
  },
  {
   "cell_type": "code",
   "execution_count": 187,
   "metadata": {},
   "outputs": [],
   "source": [
    "from sklearn.metrics import mean_squared_error\n",
    "\n",
    "def lgb_rmse_eval(num_leaves, colsample_bytree, subsample, max_depth, reg_alpha, reg_lambda, min_split_gain, min_child_weight):\n",
    "    \n",
    "    params = {\n",
    "        \"n_estimator\":500,\n",
    "        \"learning_rate\":0.05,\n",
    "        'num_leaves': int(round(num_leaves)),\n",
    "        'colsample_bytree': colsample_bytree, \n",
    "        'subsample': subsample,\n",
    "        'max_depth': int(round(max_depth)),\n",
    "        'reg_alpha': reg_alpha,\n",
    "        'reg_lambda': reg_lambda, \n",
    "        'min_split_gain': min_split_gain,\n",
    "        'min_child_weight': min_child_weight,\n",
    "        'verbosity': -1\n",
    "    }\n",
    "    print(\"params:\", params)\n",
    "    lgb_model = LGBMRegressor(**params)\n",
    "    lgb_model.fit(X_train, y_train, eval_set=[(X_test, y_test)], eval_metric=\"rmse\", verbose=10)\n",
    "    best_iter = lgb_model.best_iteration_\n",
    "    print('best_iter:', best_iter)\n",
    "    \n",
    "    y_preds = lgb_model.predict(X_test)\n",
    "    mse = mean_squared_error(y_test, y_preds)\n",
    "    rmse = np.sqrt(mse) \n",
    "\n",
    "    print('MSE : {0:.3f} , RMSE : {1:.3F}'.format(mse , rmse))\n",
    "    print('Variance score = R제곱 -> 1에 가까울 수록 좋다 (0과 1사이)')\n",
    "    print('Variance score : {0:.3f}'.format(r2_score(y_test, y_preds)))\n",
    "    return rmse\n",
    "    \n",
    "    "
   ]
  },
  {
   "cell_type": "code",
   "execution_count": 188,
   "metadata": {},
   "outputs": [],
   "source": [
    "from bayes_opt import BayesianOptimization\n",
    "\n",
    "BO_lgb = BayesianOptimization(lgb_rmse_eval, bayes_params)"
   ]
  },
  {
   "cell_type": "code",
   "execution_count": 189,
   "metadata": {},
   "outputs": [
    {
     "name": "stdout",
     "output_type": "stream",
     "text": [
      "|   iter    |  target   | colsam... | max_depth | min_ch... | min_sp... | num_le... | reg_alpha | reg_la... | subsample |\n",
      "-------------------------------------------------------------------------------------------------------------------------\n",
      "params: {'n_estimator': 500, 'learning_rate': 0.05, 'num_leaves': 33, 'colsample_bytree': 0.9840560097981954, 'subsample': 0.5433821348549988, 'max_depth': 96, 'reg_alpha': 0.558045651207485, 'reg_lambda': 0.7326806085306032, 'min_split_gain': 0.03189611970699496, 'min_child_weight': 6.694719278426128, 'verbosity': -1}\n",
      "[10]\tvalid_0's rmse: 61.0321\tvalid_0's l2: 3724.92\n",
      "[20]\tvalid_0's rmse: 50.5917\tvalid_0's l2: 2559.52\n",
      "[30]\tvalid_0's rmse: 46.2054\tvalid_0's l2: 2134.94\n",
      "[40]\tvalid_0's rmse: 44.4937\tvalid_0's l2: 1979.69\n",
      "[50]\tvalid_0's rmse: 43.7839\tvalid_0's l2: 1917.03\n",
      "[60]\tvalid_0's rmse: 43.6866\tvalid_0's l2: 1908.52\n",
      "[70]\tvalid_0's rmse: 43.7333\tvalid_0's l2: 1912.6\n",
      "[80]\tvalid_0's rmse: 43.6663\tvalid_0's l2: 1906.74\n",
      "[90]\tvalid_0's rmse: 43.7116\tvalid_0's l2: 1910.71\n",
      "[100]\tvalid_0's rmse: 43.7976\tvalid_0's l2: 1918.23\n",
      "best_iter: None\n",
      "MSE : 1918.229 , RMSE : 43.798\n",
      "Variance score = R제곱 -> 1에 가까울 수록 좋다 (0과 1사이)\n",
      "Variance score : 0.712\n",
      "| \u001b[0m 1       \u001b[0m | \u001b[0m 43.8    \u001b[0m | \u001b[0m 0.9841  \u001b[0m | \u001b[0m 96.23   \u001b[0m | \u001b[0m 6.695   \u001b[0m | \u001b[0m 0.0319  \u001b[0m | \u001b[0m 32.93   \u001b[0m | \u001b[0m 0.558   \u001b[0m | \u001b[0m 0.7327  \u001b[0m | \u001b[0m 0.5434  \u001b[0m |\n",
      "params: {'n_estimator': 500, 'learning_rate': 0.05, 'num_leaves': 78, 'colsample_bytree': 0.7113707288879971, 'subsample': 0.7912971108222098, 'max_depth': 23, 'reg_alpha': 0.8963385694778676, 'reg_lambda': 0.12277692768899, 'min_split_gain': 0.028508872570632844, 'min_child_weight': 81.87852782213966, 'verbosity': -1}\n",
      "[10]\tvalid_0's rmse: 64.5773\tvalid_0's l2: 4170.22\n",
      "[20]\tvalid_0's rmse: 54.3086\tvalid_0's l2: 2949.43\n",
      "[30]\tvalid_0's rmse: 48.4045\tvalid_0's l2: 2342.99\n",
      "[40]\tvalid_0's rmse: 45.1708\tvalid_0's l2: 2040.4\n",
      "[50]\tvalid_0's rmse: 43.1912\tvalid_0's l2: 1865.48\n",
      "[60]\tvalid_0's rmse: 42.3888\tvalid_0's l2: 1796.81\n",
      "[70]\tvalid_0's rmse: 41.8978\tvalid_0's l2: 1755.43\n",
      "[80]\tvalid_0's rmse: 41.6823\tvalid_0's l2: 1737.42\n",
      "[90]\tvalid_0's rmse: 41.5209\tvalid_0's l2: 1723.98\n",
      "[100]\tvalid_0's rmse: 41.3446\tvalid_0's l2: 1709.38\n",
      "best_iter: None\n",
      "MSE : 1709.379 , RMSE : 41.345\n",
      "Variance score = R제곱 -> 1에 가까울 수록 좋다 (0과 1사이)\n",
      "Variance score : 0.743\n",
      "| \u001b[0m 2       \u001b[0m | \u001b[0m 41.34   \u001b[0m | \u001b[0m 0.7114  \u001b[0m | \u001b[0m 22.51   \u001b[0m | \u001b[0m 81.88   \u001b[0m | \u001b[0m 0.02851 \u001b[0m | \u001b[0m 77.88   \u001b[0m | \u001b[0m 0.8963  \u001b[0m | \u001b[0m 0.1228  \u001b[0m | \u001b[0m 0.7913  \u001b[0m |\n",
      "params: {'n_estimator': 500, 'learning_rate': 0.05, 'num_leaves': 52, 'colsample_bytree': 0.8913398778019934, 'subsample': 0.7646908546333384, 'max_depth': 96, 'reg_alpha': 0.8516242534524245, 'reg_lambda': 0.8656289853688492, 'min_split_gain': 0.08656154691252615, 'min_child_weight': 48.27273697387598, 'verbosity': -1}\n",
      "[10]\tvalid_0's rmse: 62.1719\tvalid_0's l2: 3865.35\n",
      "[20]\tvalid_0's rmse: 51.9498\tvalid_0's l2: 2698.79\n",
      "[30]\tvalid_0's rmse: 46.4544\tvalid_0's l2: 2158.01\n",
      "[40]\tvalid_0's rmse: 44.2013\tvalid_0's l2: 1953.76\n",
      "[50]\tvalid_0's rmse: 42.9977\tvalid_0's l2: 1848.8\n",
      "[60]\tvalid_0's rmse: 42.3208\tvalid_0's l2: 1791.05\n",
      "[70]\tvalid_0's rmse: 41.8395\tvalid_0's l2: 1750.54\n",
      "[80]\tvalid_0's rmse: 41.6115\tvalid_0's l2: 1731.51\n",
      "[90]\tvalid_0's rmse: 41.4932\tvalid_0's l2: 1721.69\n",
      "[100]\tvalid_0's rmse: 41.425\tvalid_0's l2: 1716.03\n",
      "best_iter: None\n",
      "MSE : 1716.034 , RMSE : 41.425\n",
      "Variance score = R제곱 -> 1에 가까울 수록 좋다 (0과 1사이)\n",
      "Variance score : 0.742\n",
      "| \u001b[0m 3       \u001b[0m | \u001b[0m 41.43   \u001b[0m | \u001b[0m 0.8913  \u001b[0m | \u001b[0m 96.29   \u001b[0m | \u001b[0m 48.27   \u001b[0m | \u001b[0m 0.08656 \u001b[0m | \u001b[0m 51.93   \u001b[0m | \u001b[0m 0.8516  \u001b[0m | \u001b[0m 0.8656  \u001b[0m | \u001b[0m 0.7647  \u001b[0m |\n",
      "params: {'n_estimator': 500, 'learning_rate': 0.05, 'num_leaves': 95, 'colsample_bytree': 0.6005045949635135, 'subsample': 0.8069619522068636, 'max_depth': 75, 'reg_alpha': 0.10301536260764592, 'reg_lambda': 0.7352679870117752, 'min_split_gain': 0.06454907168017263, 'min_child_weight': 74.34843551217774, 'verbosity': -1}\n",
      "[10]\tvalid_0's rmse: 64.9582\tvalid_0's l2: 4219.57\n",
      "[20]\tvalid_0's rmse: 55.2419\tvalid_0's l2: 3051.67\n",
      "[30]\tvalid_0's rmse: 49.0317\tvalid_0's l2: 2404.11\n",
      "[40]\tvalid_0's rmse: 45.5901\tvalid_0's l2: 2078.45\n",
      "[50]\tvalid_0's rmse: 43.5355\tvalid_0's l2: 1895.34\n",
      "[60]\tvalid_0's rmse: 42.609\tvalid_0's l2: 1815.52\n",
      "[70]\tvalid_0's rmse: 41.9501\tvalid_0's l2: 1759.81\n",
      "[80]\tvalid_0's rmse: 41.5795\tvalid_0's l2: 1728.86\n",
      "[90]\tvalid_0's rmse: 41.3081\tvalid_0's l2: 1706.36\n",
      "[100]\tvalid_0's rmse: 41.12\tvalid_0's l2: 1690.85\n",
      "best_iter: None\n",
      "MSE : 1690.853 , RMSE : 41.120\n",
      "Variance score = R제곱 -> 1에 가까울 수록 좋다 (0과 1사이)\n",
      "Variance score : 0.746\n",
      "| \u001b[0m 4       \u001b[0m | \u001b[0m 41.12   \u001b[0m | \u001b[0m 0.6005  \u001b[0m | \u001b[0m 74.54   \u001b[0m | \u001b[0m 74.35   \u001b[0m | \u001b[0m 0.06455 \u001b[0m | \u001b[0m 94.78   \u001b[0m | \u001b[0m 0.103   \u001b[0m | \u001b[0m 0.7353  \u001b[0m | \u001b[0m 0.807   \u001b[0m |\n",
      "params: {'n_estimator': 500, 'learning_rate': 0.05, 'num_leaves': 34, 'colsample_bytree': 0.5676432149456333, 'subsample': 0.7619925305117068, 'max_depth': 16, 'reg_alpha': 0.23236522649401165, 'reg_lambda': 0.41345996542031654, 'min_split_gain': 0.018154192374610925, 'min_child_weight': 68.77732302011775, 'verbosity': -1}\n",
      "[10]\tvalid_0's rmse: 64.8042\tvalid_0's l2: 4199.59\n",
      "[20]\tvalid_0's rmse: 54.9914\tvalid_0's l2: 3024.05\n",
      "[30]\tvalid_0's rmse: 48.8045\tvalid_0's l2: 2381.88\n",
      "[40]\tvalid_0's rmse: 45.3323\tvalid_0's l2: 2055.02\n",
      "[50]\tvalid_0's rmse: 43.3773\tvalid_0's l2: 1881.59\n",
      "[60]\tvalid_0's rmse: 42.5017\tvalid_0's l2: 1806.4\n",
      "[70]\tvalid_0's rmse: 41.9443\tvalid_0's l2: 1759.32\n",
      "[80]\tvalid_0's rmse: 41.6033\tvalid_0's l2: 1730.83\n",
      "[90]\tvalid_0's rmse: 41.3579\tvalid_0's l2: 1710.48\n",
      "[100]\tvalid_0's rmse: 41.1941\tvalid_0's l2: 1696.95\n",
      "best_iter: None\n",
      "MSE : 1696.954 , RMSE : 41.194\n",
      "Variance score = R제곱 -> 1에 가까울 수록 좋다 (0과 1사이)\n",
      "Variance score : 0.745\n",
      "| \u001b[0m 5       \u001b[0m | \u001b[0m 41.19   \u001b[0m | \u001b[0m 0.5676  \u001b[0m | \u001b[0m 16.12   \u001b[0m | \u001b[0m 68.78   \u001b[0m | \u001b[0m 0.01815 \u001b[0m | \u001b[0m 34.22   \u001b[0m | \u001b[0m 0.2324  \u001b[0m | \u001b[0m 0.4135  \u001b[0m | \u001b[0m 0.762   \u001b[0m |\n",
      "params: {'n_estimator': 500, 'learning_rate': 0.05, 'num_leaves': 36, 'colsample_bytree': 0.7183910926480499, 'subsample': 0.8452013944345205, 'max_depth': 95, 'reg_alpha': 0.5365473323657479, 'reg_lambda': 0.23741483613525052, 'min_split_gain': 0.010850382421815616, 'min_child_weight': 6.329802772517093, 'verbosity': -1}\n",
      "[10]\tvalid_0's rmse: 62.767\tvalid_0's l2: 3939.7\n",
      "[20]\tvalid_0's rmse: 52.4393\tvalid_0's l2: 2749.88\n",
      "[30]\tvalid_0's rmse: 46.8136\tvalid_0's l2: 2191.51\n",
      "[40]\tvalid_0's rmse: 44.1372\tvalid_0's l2: 1948.09\n",
      "[50]\tvalid_0's rmse: 42.9662\tvalid_0's l2: 1846.1\n",
      "[60]\tvalid_0's rmse: 42.7106\tvalid_0's l2: 1824.19\n",
      "[70]\tvalid_0's rmse: 42.4381\tvalid_0's l2: 1800.99\n",
      "[80]\tvalid_0's rmse: 42.4013\tvalid_0's l2: 1797.87\n",
      "[90]\tvalid_0's rmse: 42.3818\tvalid_0's l2: 1796.21\n",
      "[100]\tvalid_0's rmse: 42.3687\tvalid_0's l2: 1795.1\n",
      "best_iter: None\n",
      "MSE : 1795.105 , RMSE : 42.369\n",
      "Variance score = R제곱 -> 1에 가까울 수록 좋다 (0과 1사이)\n",
      "Variance score : 0.730\n",
      "| \u001b[0m 6       \u001b[0m | \u001b[0m 42.37   \u001b[0m | \u001b[0m 0.7184  \u001b[0m | \u001b[0m 95.43   \u001b[0m | \u001b[0m 6.33    \u001b[0m | \u001b[0m 0.01085 \u001b[0m | \u001b[0m 35.6    \u001b[0m | \u001b[0m 0.5365  \u001b[0m | \u001b[0m 0.2374  \u001b[0m | \u001b[0m 0.8452  \u001b[0m |\n",
      "params: {'n_estimator': 500, 'learning_rate': 0.05, 'num_leaves': 31, 'colsample_bytree': 0.6375231537459832, 'subsample': 0.9414148396036337, 'max_depth': 95, 'reg_alpha': 0.5384856649895106, 'reg_lambda': 0.1812922252401049, 'min_split_gain': 0.010603359466324309, 'min_child_weight': 6.511564522928527, 'verbosity': -1}\n",
      "[10]\tvalid_0's rmse: 63.1293\tvalid_0's l2: 3985.31\n",
      "[20]\tvalid_0's rmse: 53.3503\tvalid_0's l2: 2846.25\n",
      "[30]\tvalid_0's rmse: 47.43\tvalid_0's l2: 2249.6\n",
      "[40]\tvalid_0's rmse: 44.336\tvalid_0's l2: 1965.68\n",
      "[50]\tvalid_0's rmse: 42.8161\tvalid_0's l2: 1833.22\n",
      "[60]\tvalid_0's rmse: 42.229\tvalid_0's l2: 1783.29\n",
      "[70]\tvalid_0's rmse: 41.9409\tvalid_0's l2: 1759.04\n",
      "[80]\tvalid_0's rmse: 41.9365\tvalid_0's l2: 1758.67\n",
      "[90]\tvalid_0's rmse: 41.7907\tvalid_0's l2: 1746.46\n",
      "[100]\tvalid_0's rmse: 41.9175\tvalid_0's l2: 1757.07\n",
      "best_iter: None\n",
      "MSE : 1757.075 , RMSE : 41.917\n",
      "Variance score = R제곱 -> 1에 가까울 수록 좋다 (0과 1사이)\n",
      "Variance score : 0.736\n",
      "| \u001b[0m 7       \u001b[0m | \u001b[0m 41.92   \u001b[0m | \u001b[0m 0.6375  \u001b[0m | \u001b[0m 94.88   \u001b[0m | \u001b[0m 6.512   \u001b[0m | \u001b[0m 0.0106  \u001b[0m | \u001b[0m 30.9    \u001b[0m | \u001b[0m 0.5385  \u001b[0m | \u001b[0m 0.1813  \u001b[0m | \u001b[0m 0.9414  \u001b[0m |\n",
      "params: {'n_estimator': 500, 'learning_rate': 0.05, 'num_leaves': 34, 'colsample_bytree': 0.6233123920713836, 'subsample': 0.5182785926318463, 'max_depth': 98, 'reg_alpha': 0.49780595584333803, 'reg_lambda': 0.6593644115454292, 'min_split_gain': 0.06341228584944984, 'min_child_weight': 6.060935344153074, 'verbosity': -1}\n",
      "[10]\tvalid_0's rmse: 63.2838\tvalid_0's l2: 4004.83\n",
      "[20]\tvalid_0's rmse: 53.3802\tvalid_0's l2: 2849.45\n",
      "[30]\tvalid_0's rmse: 47.4393\tvalid_0's l2: 2250.49\n",
      "[40]\tvalid_0's rmse: 44.1779\tvalid_0's l2: 1951.68\n",
      "[50]\tvalid_0's rmse: 42.6638\tvalid_0's l2: 1820.2\n",
      "[60]\tvalid_0's rmse: 42.0325\tvalid_0's l2: 1766.73\n"
     ]
    },
    {
     "name": "stdout",
     "output_type": "stream",
     "text": [
      "[70]\tvalid_0's rmse: 41.6747\tvalid_0's l2: 1736.78\n",
      "[80]\tvalid_0's rmse: 41.7245\tvalid_0's l2: 1740.94\n",
      "[90]\tvalid_0's rmse: 41.7594\tvalid_0's l2: 1743.84\n",
      "[100]\tvalid_0's rmse: 41.7068\tvalid_0's l2: 1739.46\n",
      "best_iter: None\n",
      "MSE : 1739.461 , RMSE : 41.707\n",
      "Variance score = R제곱 -> 1에 가까울 수록 좋다 (0과 1사이)\n",
      "Variance score : 0.739\n",
      "| \u001b[0m 8       \u001b[0m | \u001b[0m 41.71   \u001b[0m | \u001b[0m 0.6233  \u001b[0m | \u001b[0m 98.05   \u001b[0m | \u001b[0m 6.061   \u001b[0m | \u001b[0m 0.06341 \u001b[0m | \u001b[0m 34.23   \u001b[0m | \u001b[0m 0.4978  \u001b[0m | \u001b[0m 0.6594  \u001b[0m | \u001b[0m 0.5183  \u001b[0m |\n",
      "params: {'n_estimator': 500, 'learning_rate': 0.05, 'num_leaves': 80, 'colsample_bytree': 0.7170504051754711, 'subsample': 0.8640145245702969, 'max_depth': 123, 'reg_alpha': 0.03558518582914279, 'reg_lambda': 0.44923139484514524, 'min_split_gain': 0.0035511399620837564, 'min_child_weight': 93.59412895281072, 'verbosity': -1}\n",
      "[10]\tvalid_0's rmse: 65.1932\tvalid_0's l2: 4250.15\n",
      "[20]\tvalid_0's rmse: 55.3269\tvalid_0's l2: 3061.07\n",
      "[30]\tvalid_0's rmse: 49.4754\tvalid_0's l2: 2447.82\n",
      "[40]\tvalid_0's rmse: 46.1814\tvalid_0's l2: 2132.72\n",
      "[50]\tvalid_0's rmse: 44.0349\tvalid_0's l2: 1939.07\n",
      "[60]\tvalid_0's rmse: 42.9705\tvalid_0's l2: 1846.47\n",
      "[70]\tvalid_0's rmse: 42.3513\tvalid_0's l2: 1793.64\n",
      "[80]\tvalid_0's rmse: 41.9112\tvalid_0's l2: 1756.55\n",
      "[90]\tvalid_0's rmse: 41.6874\tvalid_0's l2: 1737.84\n",
      "[100]\tvalid_0's rmse: 41.4817\tvalid_0's l2: 1720.73\n",
      "best_iter: None\n",
      "MSE : 1720.728 , RMSE : 41.482\n",
      "Variance score = R제곱 -> 1에 가까울 수록 좋다 (0과 1사이)\n",
      "Variance score : 0.741\n",
      "| \u001b[0m 9       \u001b[0m | \u001b[0m 41.48   \u001b[0m | \u001b[0m 0.7171  \u001b[0m | \u001b[0m 122.6   \u001b[0m | \u001b[0m 93.59   \u001b[0m | \u001b[0m 0.003551\u001b[0m | \u001b[0m 80.3    \u001b[0m | \u001b[0m 0.03559 \u001b[0m | \u001b[0m 0.4492  \u001b[0m | \u001b[0m 0.864   \u001b[0m |\n",
      "params: {'n_estimator': 500, 'learning_rate': 0.05, 'num_leaves': 32, 'colsample_bytree': 0.5322052324313045, 'subsample': 0.9427604735124657, 'max_depth': 98, 'reg_alpha': 0.33167300365673624, 'reg_lambda': 0.09795425629285077, 'min_split_gain': 0.08980080006795221, 'min_child_weight': 8.808455925130891, 'verbosity': -1}\n",
      "[10]\tvalid_0's rmse: 67.447\tvalid_0's l2: 4549.1\n",
      "[20]\tvalid_0's rmse: 58.6582\tvalid_0's l2: 3440.78\n",
      "[30]\tvalid_0's rmse: 53.1771\tvalid_0's l2: 2827.81\n",
      "[40]\tvalid_0's rmse: 49.9068\tvalid_0's l2: 2490.69\n",
      "[50]\tvalid_0's rmse: 47.7577\tvalid_0's l2: 2280.8\n",
      "[60]\tvalid_0's rmse: 46.3422\tvalid_0's l2: 2147.6\n",
      "[70]\tvalid_0's rmse: 45.5301\tvalid_0's l2: 2072.99\n",
      "[80]\tvalid_0's rmse: 45.012\tvalid_0's l2: 2026.08\n",
      "[90]\tvalid_0's rmse: 44.656\tvalid_0's l2: 1994.16\n",
      "[100]\tvalid_0's rmse: 44.2481\tvalid_0's l2: 1957.9\n",
      "best_iter: None\n",
      "MSE : 1957.896 , RMSE : 44.248\n",
      "Variance score = R제곱 -> 1에 가까울 수록 좋다 (0과 1사이)\n",
      "Variance score : 0.706\n",
      "| \u001b[95m 10      \u001b[0m | \u001b[95m 44.25   \u001b[0m | \u001b[95m 0.5322  \u001b[0m | \u001b[95m 97.6    \u001b[0m | \u001b[95m 8.808   \u001b[0m | \u001b[95m 0.0898  \u001b[0m | \u001b[95m 32.29   \u001b[0m | \u001b[95m 0.3317  \u001b[0m | \u001b[95m 0.09795 \u001b[0m | \u001b[95m 0.9428  \u001b[0m |\n",
      "params: {'n_estimator': 500, 'learning_rate': 0.05, 'num_leaves': 35, 'colsample_bytree': 0.564282495642074, 'subsample': 0.5325386605187452, 'max_depth': 92, 'reg_alpha': 0.33242177522158495, 'reg_lambda': 0.7182211377997648, 'min_split_gain': 0.06829756759043583, 'min_child_weight': 8.830695883604765, 'verbosity': -1}\n",
      "[10]\tvalid_0's rmse: 63.3596\tvalid_0's l2: 4014.44\n",
      "[20]\tvalid_0's rmse: 53.5688\tvalid_0's l2: 2869.62\n",
      "[30]\tvalid_0's rmse: 47.7122\tvalid_0's l2: 2276.45\n",
      "[40]\tvalid_0's rmse: 44.6608\tvalid_0's l2: 1994.58\n",
      "[50]\tvalid_0's rmse: 43.0352\tvalid_0's l2: 1852.03\n",
      "[60]\tvalid_0's rmse: 42.268\tvalid_0's l2: 1786.58\n",
      "[70]\tvalid_0's rmse: 41.8662\tvalid_0's l2: 1752.78\n",
      "[80]\tvalid_0's rmse: 41.8277\tvalid_0's l2: 1749.56\n",
      "[90]\tvalid_0's rmse: 41.8344\tvalid_0's l2: 1750.12\n",
      "[100]\tvalid_0's rmse: 41.7532\tvalid_0's l2: 1743.33\n",
      "best_iter: None\n",
      "MSE : 1743.326 , RMSE : 41.753\n",
      "Variance score = R제곱 -> 1에 가까울 수록 좋다 (0과 1사이)\n",
      "Variance score : 0.738\n",
      "| \u001b[0m 11      \u001b[0m | \u001b[0m 41.75   \u001b[0m | \u001b[0m 0.5643  \u001b[0m | \u001b[0m 91.61   \u001b[0m | \u001b[0m 8.831   \u001b[0m | \u001b[0m 0.0683  \u001b[0m | \u001b[0m 35.25   \u001b[0m | \u001b[0m 0.3324  \u001b[0m | \u001b[0m 0.7182  \u001b[0m | \u001b[0m 0.5325  \u001b[0m |\n",
      "params: {'n_estimator': 500, 'learning_rate': 0.05, 'num_leaves': 33, 'colsample_bytree': 0.5046058087651142, 'subsample': 0.7614367572872995, 'max_depth': 97, 'reg_alpha': 0.13578971249155167, 'reg_lambda': 0.23163482711569314, 'min_split_gain': 0.09087331063235025, 'min_child_weight': 9.515757152248158, 'verbosity': -1}\n",
      "[10]\tvalid_0's rmse: 67.4841\tvalid_0's l2: 4554.1\n",
      "[20]\tvalid_0's rmse: 58.736\tvalid_0's l2: 3449.92\n",
      "[30]\tvalid_0's rmse: 53.2992\tvalid_0's l2: 2840.8\n",
      "[40]\tvalid_0's rmse: 49.8278\tvalid_0's l2: 2482.81\n",
      "[50]\tvalid_0's rmse: 47.6798\tvalid_0's l2: 2273.36\n",
      "[60]\tvalid_0's rmse: 46.2156\tvalid_0's l2: 2135.88\n",
      "[70]\tvalid_0's rmse: 45.2736\tvalid_0's l2: 2049.7\n",
      "[80]\tvalid_0's rmse: 44.7616\tvalid_0's l2: 2003.6\n",
      "[90]\tvalid_0's rmse: 44.3906\tvalid_0's l2: 1970.52\n",
      "[100]\tvalid_0's rmse: 44.0976\tvalid_0's l2: 1944.6\n",
      "best_iter: None\n",
      "MSE : 1944.599 , RMSE : 44.098\n",
      "Variance score = R제곱 -> 1에 가까울 수록 좋다 (0과 1사이)\n",
      "Variance score : 0.708\n",
      "| \u001b[0m 12      \u001b[0m | \u001b[0m 44.1    \u001b[0m | \u001b[0m 0.5046  \u001b[0m | \u001b[0m 97.39   \u001b[0m | \u001b[0m 9.516   \u001b[0m | \u001b[0m 0.09087 \u001b[0m | \u001b[0m 32.63   \u001b[0m | \u001b[0m 0.1358  \u001b[0m | \u001b[0m 0.2316  \u001b[0m | \u001b[0m 0.7614  \u001b[0m |\n",
      "params: {'n_estimator': 500, 'learning_rate': 0.05, 'num_leaves': 31, 'colsample_bytree': 0.8141533620722379, 'subsample': 0.7380097957081049, 'max_depth': 101, 'reg_alpha': 0.12305758511136618, 'reg_lambda': 0.4231074228096607, 'min_split_gain': 0.004766847903980466, 'min_child_weight': 8.150964051923234, 'verbosity': -1}\n",
      "[10]\tvalid_0's rmse: 61.442\tvalid_0's l2: 3775.12\n",
      "[20]\tvalid_0's rmse: 51.2756\tvalid_0's l2: 2629.19\n",
      "[30]\tvalid_0's rmse: 45.8905\tvalid_0's l2: 2105.93\n",
      "[40]\tvalid_0's rmse: 43.3991\tvalid_0's l2: 1883.48\n",
      "[50]\tvalid_0's rmse: 42.3644\tvalid_0's l2: 1794.74\n",
      "[60]\tvalid_0's rmse: 41.9541\tvalid_0's l2: 1760.15\n",
      "[70]\tvalid_0's rmse: 41.8541\tvalid_0's l2: 1751.77\n",
      "[80]\tvalid_0's rmse: 41.7406\tvalid_0's l2: 1742.28\n",
      "[90]\tvalid_0's rmse: 41.7025\tvalid_0's l2: 1739.1\n",
      "[100]\tvalid_0's rmse: 41.7803\tvalid_0's l2: 1745.6\n",
      "best_iter: None\n",
      "MSE : 1745.596 , RMSE : 41.780\n",
      "Variance score = R제곱 -> 1에 가까울 수록 좋다 (0과 1사이)\n",
      "Variance score : 0.738\n",
      "| \u001b[0m 13      \u001b[0m | \u001b[0m 41.78   \u001b[0m | \u001b[0m 0.8142  \u001b[0m | \u001b[0m 100.8   \u001b[0m | \u001b[0m 8.151   \u001b[0m | \u001b[0m 0.004767\u001b[0m | \u001b[0m 30.68   \u001b[0m | \u001b[0m 0.1231  \u001b[0m | \u001b[0m 0.4231  \u001b[0m | \u001b[0m 0.738   \u001b[0m |\n",
      "params: {'n_estimator': 500, 'learning_rate': 0.05, 'num_leaves': 34, 'colsample_bytree': 0.5976960842581005, 'subsample': 0.7844993905151925, 'max_depth': 96, 'reg_alpha': 0.6000226644769807, 'reg_lambda': 0.17737352417508417, 'min_split_gain': 0.05000226111660032, 'min_child_weight': 12.21587222267399, 'verbosity': -1}\n",
      "[10]\tvalid_0's rmse: 63.0682\tvalid_0's l2: 3977.6\n",
      "[20]\tvalid_0's rmse: 53.1819\tvalid_0's l2: 2828.31\n",
      "[30]\tvalid_0's rmse: 47.2637\tvalid_0's l2: 2233.86\n",
      "[40]\tvalid_0's rmse: 44.2969\tvalid_0's l2: 1962.21\n",
      "[50]\tvalid_0's rmse: 42.8351\tvalid_0's l2: 1834.85\n",
      "[60]\tvalid_0's rmse: 42.169\tvalid_0's l2: 1778.22\n",
      "[70]\tvalid_0's rmse: 41.7669\tvalid_0's l2: 1744.47\n",
      "[80]\tvalid_0's rmse: 41.7744\tvalid_0's l2: 1745.1\n",
      "[90]\tvalid_0's rmse: 41.6678\tvalid_0's l2: 1736.2\n",
      "[100]\tvalid_0's rmse: 41.6669\tvalid_0's l2: 1736.13\n",
      "best_iter: None\n",
      "MSE : 1736.133 , RMSE : 41.667\n",
      "Variance score = R제곱 -> 1에 가까울 수록 좋다 (0과 1사이)\n",
      "Variance score : 0.739\n",
      "| \u001b[0m 14      \u001b[0m | \u001b[0m 41.67   \u001b[0m | \u001b[0m 0.5977  \u001b[0m | \u001b[0m 95.88   \u001b[0m | \u001b[0m 12.22   \u001b[0m | \u001b[0m 0.05    \u001b[0m | \u001b[0m 34.48   \u001b[0m | \u001b[0m 0.6     \u001b[0m | \u001b[0m 0.1774  \u001b[0m | \u001b[0m 0.7845  \u001b[0m |\n",
      "params: {'n_estimator': 500, 'learning_rate': 0.05, 'num_leaves': 33, 'colsample_bytree': 0.7575789499973528, 'subsample': 0.8428862131572294, 'max_depth': 97, 'reg_alpha': 0.7870595444071649, 'reg_lambda': 0.06724594499231529, 'min_split_gain': 0.02956712838209269, 'min_child_weight': 4.907635155985563, 'verbosity': -1}\n",
      "[10]\tvalid_0's rmse: 62.8299\tvalid_0's l2: 3947.59\n",
      "[20]\tvalid_0's rmse: 52.5119\tvalid_0's l2: 2757.5\n",
      "[30]\tvalid_0's rmse: 47.0624\tvalid_0's l2: 2214.87\n",
      "[40]\tvalid_0's rmse: 44.3808\tvalid_0's l2: 1969.66\n",
      "[50]\tvalid_0's rmse: 43.1335\tvalid_0's l2: 1860.5\n",
      "[60]\tvalid_0's rmse: 42.8314\tvalid_0's l2: 1834.53\n",
      "[70]\tvalid_0's rmse: 42.5465\tvalid_0's l2: 1810.21\n",
      "[80]\tvalid_0's rmse: 42.5403\tvalid_0's l2: 1809.67\n",
      "[90]\tvalid_0's rmse: 42.5586\tvalid_0's l2: 1811.23\n",
      "[100]\tvalid_0's rmse: 42.4904\tvalid_0's l2: 1805.43\n",
      "best_iter: None\n",
      "MSE : 1805.430 , RMSE : 42.490\n",
      "Variance score = R제곱 -> 1에 가까울 수록 좋다 (0과 1사이)\n",
      "Variance score : 0.729\n",
      "| \u001b[0m 15      \u001b[0m | \u001b[0m 42.49   \u001b[0m | \u001b[0m 0.7576  \u001b[0m | \u001b[0m 96.9    \u001b[0m | \u001b[0m 4.908   \u001b[0m | \u001b[0m 0.02957 \u001b[0m | \u001b[0m 32.88   \u001b[0m | \u001b[0m 0.7871  \u001b[0m | \u001b[0m 0.06725 \u001b[0m | \u001b[0m 0.8429  \u001b[0m |\n",
      "=========================================================================================================================\n"
     ]
    }
   ],
   "source": [
    "BO_lgb.maximize(init_points=5, n_iter=10)"
   ]
  },
  {
   "cell_type": "code",
   "execution_count": 190,
   "metadata": {},
   "outputs": [
    {
     "data": {
      "text/plain": [
       "[{'target': 43.797586854872016,\n",
       "  'params': {'colsample_bytree': 0.9840560097981954,\n",
       "   'max_depth': 96.2345156225822,\n",
       "   'min_child_weight': 6.694719278426128,\n",
       "   'min_split_gain': 0.03189611970699496,\n",
       "   'num_leaves': 32.92776952366905,\n",
       "   'reg_alpha': 0.558045651207485,\n",
       "   'reg_lambda': 0.7326806085306032,\n",
       "   'subsample': 0.5433821348549988}},\n",
       " {'target': 41.34463410396713,\n",
       "  'params': {'colsample_bytree': 0.7113707288879971,\n",
       "   'max_depth': 22.508516002249756,\n",
       "   'min_child_weight': 81.87852782213966,\n",
       "   'min_split_gain': 0.028508872570632844,\n",
       "   'num_leaves': 77.88390084208908,\n",
       "   'reg_alpha': 0.8963385694778676,\n",
       "   'reg_lambda': 0.12277692768899,\n",
       "   'subsample': 0.7912971108222098}},\n",
       " {'target': 41.42504489732053,\n",
       "  'params': {'colsample_bytree': 0.8913398778019934,\n",
       "   'max_depth': 96.29461782277113,\n",
       "   'min_child_weight': 48.27273697387598,\n",
       "   'min_split_gain': 0.08656154691252615,\n",
       "   'num_leaves': 51.934263693889264,\n",
       "   'reg_alpha': 0.8516242534524245,\n",
       "   'reg_lambda': 0.8656289853688492,\n",
       "   'subsample': 0.7646908546333384}},\n",
       " {'target': 41.11997817907455,\n",
       "  'params': {'colsample_bytree': 0.6005045949635135,\n",
       "   'max_depth': 74.53927047313101,\n",
       "   'min_child_weight': 74.34843551217774,\n",
       "   'min_split_gain': 0.06454907168017263,\n",
       "   'num_leaves': 94.78243638150015,\n",
       "   'reg_alpha': 0.10301536260764592,\n",
       "   'reg_lambda': 0.7352679870117752,\n",
       "   'subsample': 0.8069619522068636}},\n",
       " {'target': 41.194102902042275,\n",
       "  'params': {'colsample_bytree': 0.5676432149456333,\n",
       "   'max_depth': 16.117164100048257,\n",
       "   'min_child_weight': 68.77732302011775,\n",
       "   'min_split_gain': 0.018154192374610925,\n",
       "   'num_leaves': 34.22034799010902,\n",
       "   'reg_alpha': 0.23236522649401165,\n",
       "   'reg_lambda': 0.41345996542031654,\n",
       "   'subsample': 0.7619925305117068}},\n",
       " {'target': 42.36867703451991,\n",
       "  'params': {'colsample_bytree': 0.7183910926480499,\n",
       "   'max_depth': 95.4318744266922,\n",
       "   'min_child_weight': 6.329802772517093,\n",
       "   'min_split_gain': 0.010850382421815616,\n",
       "   'num_leaves': 35.60035342919056,\n",
       "   'reg_alpha': 0.5365473323657479,\n",
       "   'reg_lambda': 0.23741483613525052,\n",
       "   'subsample': 0.8452013944345205}},\n",
       " {'target': 41.9174775750752,\n",
       "  'params': {'colsample_bytree': 0.6375231537459832,\n",
       "   'max_depth': 94.88482667912729,\n",
       "   'min_child_weight': 6.511564522928527,\n",
       "   'min_split_gain': 0.010603359466324309,\n",
       "   'num_leaves': 30.90031715323862,\n",
       "   'reg_alpha': 0.5384856649895106,\n",
       "   'reg_lambda': 0.1812922252401049,\n",
       "   'subsample': 0.9414148396036337}},\n",
       " {'target': 41.706849192378904,\n",
       "  'params': {'colsample_bytree': 0.6233123920713836,\n",
       "   'max_depth': 98.04999148654638,\n",
       "   'min_child_weight': 6.060935344153074,\n",
       "   'min_split_gain': 0.06341228584944984,\n",
       "   'num_leaves': 34.231433980007466,\n",
       "   'reg_alpha': 0.49780595584333803,\n",
       "   'reg_lambda': 0.6593644115454292,\n",
       "   'subsample': 0.5182785926318463}},\n",
       " {'target': 41.48165541283161,\n",
       "  'params': {'colsample_bytree': 0.7170504051754711,\n",
       "   'max_depth': 122.57358882179169,\n",
       "   'min_child_weight': 93.59412895281072,\n",
       "   'min_split_gain': 0.0035511399620837564,\n",
       "   'num_leaves': 80.3013877620968,\n",
       "   'reg_alpha': 0.03558518582914279,\n",
       "   'reg_lambda': 0.44923139484514524,\n",
       "   'subsample': 0.8640145245702969}},\n",
       " {'target': 44.24811417104195,\n",
       "  'params': {'colsample_bytree': 0.5322052324313045,\n",
       "   'max_depth': 97.60254519489044,\n",
       "   'min_child_weight': 8.808455925130891,\n",
       "   'min_split_gain': 0.08980080006795221,\n",
       "   'num_leaves': 32.28721276037477,\n",
       "   'reg_alpha': 0.33167300365673624,\n",
       "   'reg_lambda': 0.09795425629285077,\n",
       "   'subsample': 0.9427604735124657}},\n",
       " {'target': 41.75315845892387,\n",
       "  'params': {'colsample_bytree': 0.564282495642074,\n",
       "   'max_depth': 91.60543345312372,\n",
       "   'min_child_weight': 8.830695883604765,\n",
       "   'min_split_gain': 0.06829756759043583,\n",
       "   'num_leaves': 35.246524007847015,\n",
       "   'reg_alpha': 0.33242177522158495,\n",
       "   'reg_lambda': 0.7182211377997648,\n",
       "   'subsample': 0.5325386605187452}},\n",
       " {'target': 44.097610407706554,\n",
       "  'params': {'colsample_bytree': 0.5046058087651142,\n",
       "   'max_depth': 97.3884680545144,\n",
       "   'min_child_weight': 9.515757152248158,\n",
       "   'min_split_gain': 0.09087331063235025,\n",
       "   'num_leaves': 32.62800098351646,\n",
       "   'reg_alpha': 0.13578971249155167,\n",
       "   'reg_lambda': 0.23163482711569314,\n",
       "   'subsample': 0.7614367572872995}},\n",
       " {'target': 41.780326976559664,\n",
       "  'params': {'colsample_bytree': 0.8141533620722379,\n",
       "   'max_depth': 100.84667469654728,\n",
       "   'min_child_weight': 8.150964051923234,\n",
       "   'min_split_gain': 0.004766847903980466,\n",
       "   'num_leaves': 30.67911227848875,\n",
       "   'reg_alpha': 0.12305758511136618,\n",
       "   'reg_lambda': 0.4231074228096607,\n",
       "   'subsample': 0.7380097957081049}},\n",
       " {'target': 41.66693204436093,\n",
       "  'params': {'colsample_bytree': 0.5976960842581005,\n",
       "   'max_depth': 95.88022198629622,\n",
       "   'min_child_weight': 12.21587222267399,\n",
       "   'min_split_gain': 0.05000226111660032,\n",
       "   'num_leaves': 34.47935932289056,\n",
       "   'reg_alpha': 0.6000226644769807,\n",
       "   'reg_lambda': 0.17737352417508417,\n",
       "   'subsample': 0.7844993905151925}},\n",
       " {'target': 42.490355127262944,\n",
       "  'params': {'colsample_bytree': 0.7575789499973528,\n",
       "   'max_depth': 96.89512407916568,\n",
       "   'min_child_weight': 4.907635155985563,\n",
       "   'min_split_gain': 0.02956712838209269,\n",
       "   'num_leaves': 32.8804876358101,\n",
       "   'reg_alpha': 0.7870595444071649,\n",
       "   'reg_lambda': 0.06724594499231529,\n",
       "   'subsample': 0.8428862131572294}}]"
      ]
     },
     "execution_count": 190,
     "metadata": {},
     "output_type": "execute_result"
    }
   ],
   "source": [
    "BO_lgb.res"
   ]
  },
  {
   "cell_type": "code",
   "execution_count": 191,
   "metadata": {},
   "outputs": [
    {
     "data": {
      "text/plain": [
       "{'target': 44.24811417104195,\n",
       " 'params': {'colsample_bytree': 0.5322052324313045,\n",
       "  'max_depth': 97.60254519489044,\n",
       "  'min_child_weight': 8.808455925130891,\n",
       "  'min_split_gain': 0.08980080006795221,\n",
       "  'num_leaves': 32.28721276037477,\n",
       "  'reg_alpha': 0.33167300365673624,\n",
       "  'reg_lambda': 0.09795425629285077,\n",
       "  'subsample': 0.9427604735124657}}"
      ]
     },
     "execution_count": 191,
     "metadata": {},
     "output_type": "execute_result"
    }
   ],
   "source": [
    "BO_lgb.max"
   ]
  },
  {
   "cell_type": "code",
   "execution_count": 192,
   "metadata": {},
   "outputs": [
    {
     "name": "stdout",
     "output_type": "stream",
     "text": [
      "[1]\tvalid_0's rmse: 82.2602\tvalid_0's l2: 6766.75\n",
      "Training until validation scores don't improve for 100 rounds\n",
      "[2]\tvalid_0's rmse: 82.229\tvalid_0's l2: 6761.61\n",
      "[3]\tvalid_0's rmse: 82.214\tvalid_0's l2: 6759.15\n",
      "[4]\tvalid_0's rmse: 82.181\tvalid_0's l2: 6753.72\n",
      "[5]\tvalid_0's rmse: 82.1534\tvalid_0's l2: 6749.18\n",
      "[6]\tvalid_0's rmse: 82.1259\tvalid_0's l2: 6744.66\n",
      "[7]\tvalid_0's rmse: 82.0948\tvalid_0's l2: 6739.55\n",
      "[8]\tvalid_0's rmse: 82.0637\tvalid_0's l2: 6734.45\n",
      "[9]\tvalid_0's rmse: 82.0308\tvalid_0's l2: 6729.05\n",
      "[10]\tvalid_0's rmse: 82.0159\tvalid_0's l2: 6726.61\n",
      "[11]\tvalid_0's rmse: 81.9885\tvalid_0's l2: 6722.12\n",
      "[12]\tvalid_0's rmse: 81.9611\tvalid_0's l2: 6717.63\n",
      "[13]\tvalid_0's rmse: 81.9463\tvalid_0's l2: 6715.2\n",
      "[14]\tvalid_0's rmse: 81.9316\tvalid_0's l2: 6712.78\n",
      "[15]\tvalid_0's rmse: 81.9006\tvalid_0's l2: 6707.71\n",
      "[16]\tvalid_0's rmse: 81.8733\tvalid_0's l2: 6703.24\n",
      "[17]\tvalid_0's rmse: 81.8424\tvalid_0's l2: 6698.18\n",
      "[18]\tvalid_0's rmse: 81.8152\tvalid_0's l2: 6693.72\n",
      "[19]\tvalid_0's rmse: 81.7825\tvalid_0's l2: 6688.38\n",
      "[20]\tvalid_0's rmse: 81.7517\tvalid_0's l2: 6683.35\n",
      "[21]\tvalid_0's rmse: 81.7246\tvalid_0's l2: 6678.9\n",
      "[22]\tvalid_0's rmse: 81.692\tvalid_0's l2: 6673.58\n",
      "[23]\tvalid_0's rmse: 81.6613\tvalid_0's l2: 6668.57\n",
      "[24]\tvalid_0's rmse: 81.6342\tvalid_0's l2: 6664.14\n",
      "[25]\tvalid_0's rmse: 81.6017\tvalid_0's l2: 6658.84\n",
      "[26]\tvalid_0's rmse: 81.5747\tvalid_0's l2: 6654.43\n",
      "[27]\tvalid_0's rmse: 81.5477\tvalid_0's l2: 6650.03\n",
      "[28]\tvalid_0's rmse: 81.5171\tvalid_0's l2: 6645.04\n",
      "[29]\tvalid_0's rmse: 81.4848\tvalid_0's l2: 6639.77\n",
      "[30]\tvalid_0's rmse: 81.4543\tvalid_0's l2: 6634.8\n",
      "[31]\tvalid_0's rmse: 81.422\tvalid_0's l2: 6629.55\n",
      "[32]\tvalid_0's rmse: 81.4075\tvalid_0's l2: 6627.18\n",
      "[33]\tvalid_0's rmse: 81.3771\tvalid_0's l2: 6622.23\n",
      "[34]\tvalid_0's rmse: 81.3626\tvalid_0's l2: 6619.87\n",
      "[35]\tvalid_0's rmse: 81.3357\tvalid_0's l2: 6615.5\n",
      "[36]\tvalid_0's rmse: 81.3089\tvalid_0's l2: 6611.13\n",
      "[37]\tvalid_0's rmse: 81.2786\tvalid_0's l2: 6606.2\n",
      "[38]\tvalid_0's rmse: 81.2465\tvalid_0's l2: 6600.99\n",
      "[39]\tvalid_0's rmse: 81.2162\tvalid_0's l2: 6596.08\n",
      "[40]\tvalid_0's rmse: 81.1842\tvalid_0's l2: 6590.88\n",
      "[41]\tvalid_0's rmse: 81.1541\tvalid_0's l2: 6585.98\n",
      "[42]\tvalid_0's rmse: 81.1274\tvalid_0's l2: 6581.65\n",
      "[43]\tvalid_0's rmse: 81.0955\tvalid_0's l2: 6576.47\n",
      "[44]\tvalid_0's rmse: 81.0688\tvalid_0's l2: 6572.15\n",
      "[45]\tvalid_0's rmse: 81.0388\tvalid_0's l2: 6567.28\n",
      "[46]\tvalid_0's rmse: 81.0087\tvalid_0's l2: 6562.42\n",
      "[47]\tvalid_0's rmse: 80.977\tvalid_0's l2: 6557.27\n",
      "[48]\tvalid_0's rmse: 80.947\tvalid_0's l2: 6552.42\n",
      "[49]\tvalid_0's rmse: 80.9153\tvalid_0's l2: 6547.29\n",
      "[50]\tvalid_0's rmse: 80.8888\tvalid_0's l2: 6543\n",
      "[51]\tvalid_0's rmse: 80.8623\tvalid_0's l2: 6538.72\n",
      "[52]\tvalid_0's rmse: 80.8359\tvalid_0's l2: 6534.44\n",
      "[53]\tvalid_0's rmse: 80.8095\tvalid_0's l2: 6530.18\n",
      "[54]\tvalid_0's rmse: 80.7832\tvalid_0's l2: 6525.92\n",
      "[55]\tvalid_0's rmse: 80.7534\tvalid_0's l2: 6521.11\n",
      "[56]\tvalid_0's rmse: 80.7219\tvalid_0's l2: 6516.02\n",
      "[57]\tvalid_0's rmse: 80.6921\tvalid_0's l2: 6511.22\n",
      "[58]\tvalid_0's rmse: 80.6607\tvalid_0's l2: 6506.15\n",
      "[59]\tvalid_0's rmse: 80.631\tvalid_0's l2: 6501.36\n",
      "[60]\tvalid_0's rmse: 80.5997\tvalid_0's l2: 6496.31\n",
      "[61]\tvalid_0's rmse: 80.5701\tvalid_0's l2: 6491.54\n",
      "[62]\tvalid_0's rmse: 80.5439\tvalid_0's l2: 6487.32\n",
      "[63]\tvalid_0's rmse: 80.5126\tvalid_0's l2: 6482.28\n",
      "[64]\tvalid_0's rmse: 80.4865\tvalid_0's l2: 6478.07\n",
      "[65]\tvalid_0's rmse: 80.457\tvalid_0's l2: 6473.33\n",
      "[66]\tvalid_0's rmse: 80.4309\tvalid_0's l2: 6469.14\n",
      "[67]\tvalid_0's rmse: 80.4015\tvalid_0's l2: 6464.41\n",
      "[68]\tvalid_0's rmse: 80.3704\tvalid_0's l2: 6459.4\n",
      "[69]\tvalid_0's rmse: 80.3444\tvalid_0's l2: 6455.22\n",
      "[70]\tvalid_0's rmse: 80.3151\tvalid_0's l2: 6450.51\n",
      "[71]\tvalid_0's rmse: 80.284\tvalid_0's l2: 6445.53\n",
      "[72]\tvalid_0's rmse: 80.2548\tvalid_0's l2: 6440.83\n",
      "[73]\tvalid_0's rmse: 80.2238\tvalid_0's l2: 6435.86\n",
      "[74]\tvalid_0's rmse: 80.2098\tvalid_0's l2: 6433.61\n",
      "[75]\tvalid_0's rmse: 80.1806\tvalid_0's l2: 6428.93\n",
      "[76]\tvalid_0's rmse: 80.1492\tvalid_0's l2: 6423.9\n",
      "[77]\tvalid_0's rmse: 80.1202\tvalid_0's l2: 6419.24\n",
      "[78]\tvalid_0's rmse: 80.0889\tvalid_0's l2: 6414.23\n",
      "[79]\tvalid_0's rmse: 80.0599\tvalid_0's l2: 6409.58\n",
      "[80]\tvalid_0's rmse: 80.0286\tvalid_0's l2: 6404.58\n",
      "[81]\tvalid_0's rmse: 80.0028\tvalid_0's l2: 6400.45\n",
      "[82]\tvalid_0's rmse: 79.9739\tvalid_0's l2: 6395.82\n",
      "[83]\tvalid_0's rmse: 79.9481\tvalid_0's l2: 6391.7\n",
      "[84]\tvalid_0's rmse: 79.9224\tvalid_0's l2: 6387.59\n",
      "[85]\tvalid_0's rmse: 79.8913\tvalid_0's l2: 6382.62\n",
      "[86]\tvalid_0's rmse: 79.8625\tvalid_0's l2: 6378.02\n",
      "[87]\tvalid_0's rmse: 79.8315\tvalid_0's l2: 6373.06\n",
      "[88]\tvalid_0's rmse: 79.8027\tvalid_0's l2: 6368.47\n",
      "[89]\tvalid_0's rmse: 79.7771\tvalid_0's l2: 6364.38\n",
      "[90]\tvalid_0's rmse: 79.7462\tvalid_0's l2: 6359.45\n",
      "[91]\tvalid_0's rmse: 79.7206\tvalid_0's l2: 6355.38\n",
      "[92]\tvalid_0's rmse: 79.6951\tvalid_0's l2: 6351.31\n",
      "[93]\tvalid_0's rmse: 79.6664\tvalid_0's l2: 6346.74\n",
      "[94]\tvalid_0's rmse: 79.641\tvalid_0's l2: 6342.69\n",
      "[95]\tvalid_0's rmse: 79.6102\tvalid_0's l2: 6337.78\n",
      "[96]\tvalid_0's rmse: 79.5816\tvalid_0's l2: 6333.23\n",
      "[97]\tvalid_0's rmse: 79.5509\tvalid_0's l2: 6328.34\n",
      "[98]\tvalid_0's rmse: 79.5224\tvalid_0's l2: 6323.81\n",
      "[99]\tvalid_0's rmse: 79.497\tvalid_0's l2: 6319.77\n",
      "[100]\tvalid_0's rmse: 79.4664\tvalid_0's l2: 6314.9\n",
      "[101]\tvalid_0's rmse: 79.4411\tvalid_0's l2: 6310.88\n",
      "[102]\tvalid_0's rmse: 79.4158\tvalid_0's l2: 6306.87\n",
      "[103]\tvalid_0's rmse: 79.3874\tvalid_0's l2: 6302.36\n",
      "[104]\tvalid_0's rmse: 79.3569\tvalid_0's l2: 6297.51\n",
      "[105]\tvalid_0's rmse: 79.3317\tvalid_0's l2: 6293.51\n",
      "[106]\tvalid_0's rmse: 79.3034\tvalid_0's l2: 6289.02\n",
      "[107]\tvalid_0's rmse: 79.2782\tvalid_0's l2: 6285.04\n",
      "[108]\tvalid_0's rmse: 79.2478\tvalid_0's l2: 6280.21\n",
      "[109]\tvalid_0's rmse: 79.2196\tvalid_0's l2: 6275.74\n",
      "[110]\tvalid_0's rmse: 79.1892\tvalid_0's l2: 6270.93\n",
      "[111]\tvalid_0's rmse: 79.1611\tvalid_0's l2: 6266.47\n",
      "[112]\tvalid_0's rmse: 79.1308\tvalid_0's l2: 6261.68\n",
      "[113]\tvalid_0's rmse: 79.1027\tvalid_0's l2: 6257.23\n",
      "[114]\tvalid_0's rmse: 79.0891\tvalid_0's l2: 6255.08\n",
      "[115]\tvalid_0's rmse: 79.0641\tvalid_0's l2: 6251.13\n",
      "[116]\tvalid_0's rmse: 79.036\tvalid_0's l2: 6246.7\n",
      "[117]\tvalid_0's rmse: 79.0059\tvalid_0's l2: 6241.93\n",
      "[118]\tvalid_0's rmse: 78.9779\tvalid_0's l2: 6237.52\n",
      "[119]\tvalid_0's rmse: 78.953\tvalid_0's l2: 6233.58\n",
      "[120]\tvalid_0's rmse: 78.9281\tvalid_0's l2: 6229.65\n",
      "[121]\tvalid_0's rmse: 78.9033\tvalid_0's l2: 6225.73\n",
      "[122]\tvalid_0's rmse: 78.8898\tvalid_0's l2: 6223.6\n",
      "[123]\tvalid_0's rmse: 78.8597\tvalid_0's l2: 6218.86\n",
      "[124]\tvalid_0's rmse: 78.8319\tvalid_0's l2: 6214.47\n",
      "[125]\tvalid_0's rmse: 78.802\tvalid_0's l2: 6209.75\n",
      "[126]\tvalid_0's rmse: 78.7885\tvalid_0's l2: 6207.63\n",
      "[127]\tvalid_0's rmse: 78.7638\tvalid_0's l2: 6203.73\n",
      "[128]\tvalid_0's rmse: 78.736\tvalid_0's l2: 6199.36\n",
      "[129]\tvalid_0's rmse: 78.7062\tvalid_0's l2: 6194.67\n",
      "[130]\tvalid_0's rmse: 78.6928\tvalid_0's l2: 6192.56\n",
      "[131]\tvalid_0's rmse: 78.6681\tvalid_0's l2: 6188.67\n",
      "[132]\tvalid_0's rmse: 78.6405\tvalid_0's l2: 6184.33\n",
      "[133]\tvalid_0's rmse: 78.6271\tvalid_0's l2: 6182.23\n",
      "[134]\tvalid_0's rmse: 78.5974\tvalid_0's l2: 6177.55\n",
      "[135]\tvalid_0's rmse: 78.5841\tvalid_0's l2: 6175.46\n",
      "[136]\tvalid_0's rmse: 78.5595\tvalid_0's l2: 6171.6\n",
      "[137]\tvalid_0's rmse: 78.532\tvalid_0's l2: 6167.27\n",
      "[138]\tvalid_0's rmse: 78.5045\tvalid_0's l2: 6162.95\n",
      "[139]\tvalid_0's rmse: 78.4749\tvalid_0's l2: 6158.31\n",
      "[140]\tvalid_0's rmse: 78.4616\tvalid_0's l2: 6156.23\n",
      "[141]\tvalid_0's rmse: 78.4371\tvalid_0's l2: 6152.39\n",
      "[142]\tvalid_0's rmse: 78.4097\tvalid_0's l2: 6148.09\n",
      "[143]\tvalid_0's rmse: 78.3803\tvalid_0's l2: 6143.47\n",
      "[144]\tvalid_0's rmse: 78.3558\tvalid_0's l2: 6139.64\n",
      "[145]\tvalid_0's rmse: 78.3285\tvalid_0's l2: 6135.35\n",
      "[146]\tvalid_0's rmse: 78.2991\tvalid_0's l2: 6130.75\n",
      "[147]\tvalid_0's rmse: 78.2719\tvalid_0's l2: 6126.48\n",
      "[148]\tvalid_0's rmse: 78.2475\tvalid_0's l2: 6122.67\n",
      "[149]\tvalid_0's rmse: 78.2182\tvalid_0's l2: 6118.09\n",
      "[150]\tvalid_0's rmse: 78.191\tvalid_0's l2: 6113.84\n",
      "[151]\tvalid_0's rmse: 78.1618\tvalid_0's l2: 6109.26\n",
      "[152]\tvalid_0's rmse: 78.1347\tvalid_0's l2: 6105.03\n",
      "[153]\tvalid_0's rmse: 78.1055\tvalid_0's l2: 6100.47\n",
      "[154]\tvalid_0's rmse: 78.0785\tvalid_0's l2: 6096.25\n",
      "[155]\tvalid_0's rmse: 78.0494\tvalid_0's l2: 6091.71\n",
      "[156]\tvalid_0's rmse: 78.0252\tvalid_0's l2: 6087.93\n",
      "[157]\tvalid_0's rmse: 78.0121\tvalid_0's l2: 6085.89\n",
      "[158]\tvalid_0's rmse: 77.9852\tvalid_0's l2: 6081.69\n",
      "[159]\tvalid_0's rmse: 77.9555\tvalid_0's l2: 6077.06\n",
      "[160]\tvalid_0's rmse: 77.9313\tvalid_0's l2: 6073.29\n",
      "[161]\tvalid_0's rmse: 77.9173\tvalid_0's l2: 6071.11\n",
      "[162]\tvalid_0's rmse: 77.8905\tvalid_0's l2: 6066.92\n",
      "[163]\tvalid_0's rmse: 77.8609\tvalid_0's l2: 6062.32\n",
      "[164]\tvalid_0's rmse: 77.8341\tvalid_0's l2: 6058.14\n",
      "[165]\tvalid_0's rmse: 77.81\tvalid_0's l2: 6054.4\n",
      "[166]\tvalid_0's rmse: 77.7805\tvalid_0's l2: 6049.81\n",
      "[167]\tvalid_0's rmse: 77.7676\tvalid_0's l2: 6047.8\n",
      "[168]\tvalid_0's rmse: 77.7547\tvalid_0's l2: 6045.79\n",
      "[169]\tvalid_0's rmse: 77.7307\tvalid_0's l2: 6042.06\n",
      "[170]\tvalid_0's rmse: 77.704\tvalid_0's l2: 6037.91\n",
      "[171]\tvalid_0's rmse: 77.6746\tvalid_0's l2: 6033.34\n",
      "[172]\tvalid_0's rmse: 77.648\tvalid_0's l2: 6029.21\n",
      "[173]\tvalid_0's rmse: 77.6187\tvalid_0's l2: 6024.66\n",
      "[174]\tvalid_0's rmse: 77.5921\tvalid_0's l2: 6020.54\n",
      "[175]\tvalid_0's rmse: 77.5682\tvalid_0's l2: 6016.83\n",
      "[176]\tvalid_0's rmse: 77.539\tvalid_0's l2: 6012.29\n",
      "[177]\tvalid_0's rmse: 77.5125\tvalid_0's l2: 6008.19\n",
      "[178]\tvalid_0's rmse: 77.4833\tvalid_0's l2: 6003.67\n",
      "[179]\tvalid_0's rmse: 77.4569\tvalid_0's l2: 5999.58\n",
      "[180]\tvalid_0's rmse: 77.4331\tvalid_0's l2: 5995.89\n",
      "[181]\tvalid_0's rmse: 77.404\tvalid_0's l2: 5991.38\n",
      "[182]\tvalid_0's rmse: 77.3902\tvalid_0's l2: 5989.25\n",
      "[183]\tvalid_0's rmse: 77.3639\tvalid_0's l2: 5985.17\n",
      "[184]\tvalid_0's rmse: 77.3349\tvalid_0's l2: 5980.68\n",
      "[185]\tvalid_0's rmse: 77.3086\tvalid_0's l2: 5976.62\n",
      "[186]\tvalid_0's rmse: 77.2797\tvalid_0's l2: 5972.15\n",
      "[187]\tvalid_0's rmse: 77.267\tvalid_0's l2: 5970.19\n",
      "[188]\tvalid_0's rmse: 77.2408\tvalid_0's l2: 5966.14\n",
      "[189]\tvalid_0's rmse: 77.212\tvalid_0's l2: 5961.69\n",
      "[190]\tvalid_0's rmse: 77.1858\tvalid_0's l2: 5957.65\n",
      "[191]\tvalid_0's rmse: 77.1571\tvalid_0's l2: 5953.21\n",
      "[192]\tvalid_0's rmse: 77.131\tvalid_0's l2: 5949.19\n",
      "[193]\tvalid_0's rmse: 77.1023\tvalid_0's l2: 5944.76\n",
      "[194]\tvalid_0's rmse: 77.0763\tvalid_0's l2: 5940.75\n",
      "[195]\tvalid_0's rmse: 77.0527\tvalid_0's l2: 5937.11\n",
      "[196]\tvalid_0's rmse: 77.024\tvalid_0's l2: 5932.7\n",
      "[197]\tvalid_0's rmse: 76.9981\tvalid_0's l2: 5928.71\n",
      "[198]\tvalid_0's rmse: 76.9696\tvalid_0's l2: 5924.31\n",
      "[199]\tvalid_0's rmse: 76.9437\tvalid_0's l2: 5920.33\n",
      "[200]\tvalid_0's rmse: 76.9202\tvalid_0's l2: 5916.71\n",
      "[201]\tvalid_0's rmse: 76.8917\tvalid_0's l2: 5912.33\n",
      "[202]\tvalid_0's rmse: 76.8633\tvalid_0's l2: 5907.96\n",
      "[203]\tvalid_0's rmse: 76.8375\tvalid_0's l2: 5904\n",
      "[204]\tvalid_0's rmse: 76.8091\tvalid_0's l2: 5899.64\n",
      "[205]\tvalid_0's rmse: 76.7967\tvalid_0's l2: 5897.73\n",
      "[206]\tvalid_0's rmse: 76.771\tvalid_0's l2: 5893.78\n",
      "[207]\tvalid_0's rmse: 76.7475\tvalid_0's l2: 5890.18\n",
      "[208]\tvalid_0's rmse: 76.7193\tvalid_0's l2: 5885.85\n",
      "[209]\tvalid_0's rmse: 76.6937\tvalid_0's l2: 5881.92\n",
      "[210]\tvalid_0's rmse: 76.6655\tvalid_0's l2: 5877.59\n",
      "[211]\tvalid_0's rmse: 76.6421\tvalid_0's l2: 5874.01\n",
      "[212]\tvalid_0's rmse: 76.6286\tvalid_0's l2: 5871.94\n",
      "[213]\tvalid_0's rmse: 76.6053\tvalid_0's l2: 5868.37\n",
      "[214]\tvalid_0's rmse: 76.5797\tvalid_0's l2: 5864.46\n",
      "[215]\tvalid_0's rmse: 76.5516\tvalid_0's l2: 5860.15\n",
      "[216]\tvalid_0's rmse: 76.5262\tvalid_0's l2: 5856.26\n",
      "[217]\tvalid_0's rmse: 76.4982\tvalid_0's l2: 5851.97\n",
      "[218]\tvalid_0's rmse: 76.4749\tvalid_0's l2: 5848.42\n",
      "[219]\tvalid_0's rmse: 76.4495\tvalid_0's l2: 5844.53\n",
      "[220]\tvalid_0's rmse: 76.4264\tvalid_0's l2: 5840.99\n",
      "[221]\tvalid_0's rmse: 76.3984\tvalid_0's l2: 5836.72\n",
      "[222]\tvalid_0's rmse: 76.3731\tvalid_0's l2: 5832.86\n",
      "[223]\tvalid_0's rmse: 76.3453\tvalid_0's l2: 5828.6\n",
      "[224]\tvalid_0's rmse: 76.3222\tvalid_0's l2: 5825.07\n",
      "[225]\tvalid_0's rmse: 76.2991\tvalid_0's l2: 5821.56\n",
      "[226]\tvalid_0's rmse: 76.2761\tvalid_0's l2: 5818.04\n",
      "[227]\tvalid_0's rmse: 76.2509\tvalid_0's l2: 5814.2\n",
      "[228]\tvalid_0's rmse: 76.2279\tvalid_0's l2: 5810.7\n",
      "[229]\tvalid_0's rmse: 76.205\tvalid_0's l2: 5807.2\n",
      "[230]\tvalid_0's rmse: 76.1773\tvalid_0's l2: 5802.98\n",
      "[231]\tvalid_0's rmse: 76.1496\tvalid_0's l2: 5798.76\n",
      "[232]\tvalid_0's rmse: 76.1373\tvalid_0's l2: 5796.9\n",
      "[233]\tvalid_0's rmse: 76.1145\tvalid_0's l2: 5793.42\n",
      "[234]\tvalid_0's rmse: 76.0894\tvalid_0's l2: 5789.6\n",
      "[235]\tvalid_0's rmse: 76.0618\tvalid_0's l2: 5785.4\n",
      "[236]\tvalid_0's rmse: 76.0368\tvalid_0's l2: 5781.59\n",
      "[237]\tvalid_0's rmse: 76.014\tvalid_0's l2: 5778.13\n",
      "[238]\tvalid_0's rmse: 75.9865\tvalid_0's l2: 5773.94\n",
      "[239]\tvalid_0's rmse: 75.9615\tvalid_0's l2: 5770.15\n",
      "[240]\tvalid_0's rmse: 75.9341\tvalid_0's l2: 5765.98\n",
      "[241]\tvalid_0's rmse: 75.9092\tvalid_0's l2: 5762.2\n",
      "[242]\tvalid_0's rmse: 75.8865\tvalid_0's l2: 5758.76\n",
      "[243]\tvalid_0's rmse: 75.8638\tvalid_0's l2: 5755.32\n",
      "[244]\tvalid_0's rmse: 75.8365\tvalid_0's l2: 5751.17\n",
      "[245]\tvalid_0's rmse: 75.8139\tvalid_0's l2: 5747.74\n",
      "[246]\tvalid_0's rmse: 75.7913\tvalid_0's l2: 5744.32\n",
      "[247]\tvalid_0's rmse: 75.7665\tvalid_0's l2: 5740.56\n",
      "[248]\tvalid_0's rmse: 75.7544\tvalid_0's l2: 5738.73\n",
      "[249]\tvalid_0's rmse: 75.7272\tvalid_0's l2: 5734.6\n",
      "[250]\tvalid_0's rmse: 75.7025\tvalid_0's l2: 5730.86\n",
      "[251]\tvalid_0's rmse: 75.6753\tvalid_0's l2: 5726.75\n",
      "[252]\tvalid_0's rmse: 75.6506\tvalid_0's l2: 5723.01\n",
      "[253]\tvalid_0's rmse: 75.6235\tvalid_0's l2: 5718.91\n",
      "[254]\tvalid_0's rmse: 75.601\tvalid_0's l2: 5715.52\n",
      "[255]\tvalid_0's rmse: 75.5764\tvalid_0's l2: 5711.8\n",
      "[256]\tvalid_0's rmse: 75.5494\tvalid_0's l2: 5707.71\n",
      "[257]\tvalid_0's rmse: 75.5249\tvalid_0's l2: 5704.01\n",
      "[258]\tvalid_0's rmse: 75.4979\tvalid_0's l2: 5699.93\n",
      "[259]\tvalid_0's rmse: 75.4755\tvalid_0's l2: 5696.56\n",
      "[260]\tvalid_0's rmse: 75.4532\tvalid_0's l2: 5693.19\n",
      "[261]\tvalid_0's rmse: 75.4309\tvalid_0's l2: 5689.82\n",
      "[262]\tvalid_0's rmse: 75.4065\tvalid_0's l2: 5686.14\n",
      "[263]\tvalid_0's rmse: 75.3842\tvalid_0's l2: 5682.78\n",
      "[264]\tvalid_0's rmse: 75.3574\tvalid_0's l2: 5678.73\n",
      "[265]\tvalid_0's rmse: 75.3305\tvalid_0's l2: 5674.69\n",
      "[266]\tvalid_0's rmse: 75.3084\tvalid_0's l2: 5671.35\n",
      "[267]\tvalid_0's rmse: 75.2965\tvalid_0's l2: 5669.56\n",
      "[268]\tvalid_0's rmse: 75.2722\tvalid_0's l2: 5665.9\n",
      "[269]\tvalid_0's rmse: 75.2454\tvalid_0's l2: 5661.88\n",
      "[270]\tvalid_0's rmse: 75.2212\tvalid_0's l2: 5658.23\n",
      "[271]\tvalid_0's rmse: 75.1991\tvalid_0's l2: 5654.9\n",
      "[272]\tvalid_0's rmse: 75.1873\tvalid_0's l2: 5653.12\n",
      "[273]\tvalid_0's rmse: 75.1606\tvalid_0's l2: 5649.12\n",
      "[274]\tvalid_0's rmse: 75.1386\tvalid_0's l2: 5645.8\n",
      "[275]\tvalid_0's rmse: 75.1144\tvalid_0's l2: 5642.17\n",
      "[276]\tvalid_0's rmse: 75.0878\tvalid_0's l2: 5638.18\n",
      "[277]\tvalid_0's rmse: 75.0659\tvalid_0's l2: 5634.88\n",
      "[278]\tvalid_0's rmse: 75.0418\tvalid_0's l2: 5631.27\n",
      "[279]\tvalid_0's rmse: 75.0153\tvalid_0's l2: 5627.29\n",
      "[280]\tvalid_0's rmse: 74.9933\tvalid_0's l2: 5624\n",
      "[281]\tvalid_0's rmse: 74.9693\tvalid_0's l2: 5620.4\n",
      "[282]\tvalid_0's rmse: 74.9429\tvalid_0's l2: 5616.44\n",
      "[283]\tvalid_0's rmse: 74.9211\tvalid_0's l2: 5613.16\n",
      "[284]\tvalid_0's rmse: 74.8992\tvalid_0's l2: 5609.89\n",
      "[285]\tvalid_0's rmse: 74.8774\tvalid_0's l2: 5606.63\n",
      "[286]\tvalid_0's rmse: 74.8535\tvalid_0's l2: 5603.05\n",
      "[287]\tvalid_0's rmse: 74.8318\tvalid_0's l2: 5599.79\n",
      "[288]\tvalid_0's rmse: 74.8055\tvalid_0's l2: 5595.86\n",
      "[289]\tvalid_0's rmse: 74.7816\tvalid_0's l2: 5592.29\n",
      "[290]\tvalid_0's rmse: 74.7554\tvalid_0's l2: 5588.37\n",
      "[291]\tvalid_0's rmse: 74.7316\tvalid_0's l2: 5584.81\n",
      "[292]\tvalid_0's rmse: 74.7054\tvalid_0's l2: 5580.9\n",
      "[293]\tvalid_0's rmse: 74.6817\tvalid_0's l2: 5577.35\n",
      "[294]\tvalid_0's rmse: 74.66\tvalid_0's l2: 5574.12\n",
      "[295]\tvalid_0's rmse: 74.6384\tvalid_0's l2: 5570.9\n",
      "[296]\tvalid_0's rmse: 74.6169\tvalid_0's l2: 5567.68\n",
      "[297]\tvalid_0's rmse: 74.6041\tvalid_0's l2: 5565.77\n",
      "[298]\tvalid_0's rmse: 74.578\tvalid_0's l2: 5561.88\n",
      "[299]\tvalid_0's rmse: 74.552\tvalid_0's l2: 5558\n",
      "[300]\tvalid_0's rmse: 74.5284\tvalid_0's l2: 5554.48\n",
      "[301]\tvalid_0's rmse: 74.5069\tvalid_0's l2: 5551.27\n",
      "[302]\tvalid_0's rmse: 74.4809\tvalid_0's l2: 5547.41\n",
      "[303]\tvalid_0's rmse: 74.4574\tvalid_0's l2: 5543.9\n",
      "[304]\tvalid_0's rmse: 74.436\tvalid_0's l2: 5540.71\n",
      "[305]\tvalid_0's rmse: 74.4101\tvalid_0's l2: 5536.86\n",
      "[306]\tvalid_0's rmse: 74.3887\tvalid_0's l2: 5533.68\n",
      "[307]\tvalid_0's rmse: 74.3674\tvalid_0's l2: 5530.51\n",
      "[308]\tvalid_0's rmse: 74.3439\tvalid_0's l2: 5527.02\n",
      "[309]\tvalid_0's rmse: 74.3181\tvalid_0's l2: 5523.18\n",
      "[310]\tvalid_0's rmse: 74.2947\tvalid_0's l2: 5519.71\n",
      "[311]\tvalid_0's rmse: 74.2821\tvalid_0's l2: 5517.82\n",
      "[312]\tvalid_0's rmse: 74.2563\tvalid_0's l2: 5514\n",
      "[313]\tvalid_0's rmse: 74.233\tvalid_0's l2: 5510.54\n",
      "[314]\tvalid_0's rmse: 74.2118\tvalid_0's l2: 5507.39\n",
      "[315]\tvalid_0's rmse: 74.1906\tvalid_0's l2: 5504.24\n",
      "[316]\tvalid_0's rmse: 74.1659\tvalid_0's l2: 5500.58\n",
      "[317]\tvalid_0's rmse: 74.1533\tvalid_0's l2: 5498.71\n",
      "[318]\tvalid_0's rmse: 74.1321\tvalid_0's l2: 5495.57\n",
      "[319]\tvalid_0's rmse: 74.1207\tvalid_0's l2: 5493.88\n",
      "[320]\tvalid_0's rmse: 74.0961\tvalid_0's l2: 5490.24\n",
      "[321]\tvalid_0's rmse: 74.0729\tvalid_0's l2: 5486.8\n",
      "[322]\tvalid_0's rmse: 74.0518\tvalid_0's l2: 5483.67\n",
      "[323]\tvalid_0's rmse: 74.0273\tvalid_0's l2: 5480.04\n",
      "[324]\tvalid_0's rmse: 74.0042\tvalid_0's l2: 5476.62\n",
      "[325]\tvalid_0's rmse: 73.9831\tvalid_0's l2: 5473.5\n",
      "[326]\tvalid_0's rmse: 73.9587\tvalid_0's l2: 5469.88\n",
      "[327]\tvalid_0's rmse: 73.9356\tvalid_0's l2: 5466.47\n",
      "[328]\tvalid_0's rmse: 73.9112\tvalid_0's l2: 5462.86\n",
      "[329]\tvalid_0's rmse: 73.8882\tvalid_0's l2: 5459.46\n",
      "[330]\tvalid_0's rmse: 73.8638\tvalid_0's l2: 5455.86\n",
      "[331]\tvalid_0's rmse: 73.8409\tvalid_0's l2: 5452.47\n",
      "[332]\tvalid_0's rmse: 73.8166\tvalid_0's l2: 5448.89\n",
      "[333]\tvalid_0's rmse: 73.7956\tvalid_0's l2: 5445.8\n",
      "[334]\tvalid_0's rmse: 73.7844\tvalid_0's l2: 5444.13\n",
      "[335]\tvalid_0's rmse: 73.7615\tvalid_0's l2: 5440.76\n",
      "[336]\tvalid_0's rmse: 73.7373\tvalid_0's l2: 5437.19\n",
      "[337]\tvalid_0's rmse: 73.7145\tvalid_0's l2: 5433.82\n",
      "[338]\tvalid_0's rmse: 73.6903\tvalid_0's l2: 5430.26\n",
      "[339]\tvalid_0's rmse: 73.6675\tvalid_0's l2: 5426.9\n",
      "[340]\tvalid_0's rmse: 73.6434\tvalid_0's l2: 5423.36\n",
      "[341]\tvalid_0's rmse: 73.6184\tvalid_0's l2: 5419.67\n",
      "[342]\tvalid_0's rmse: 73.5976\tvalid_0's l2: 5416.61\n",
      "[343]\tvalid_0's rmse: 73.5749\tvalid_0's l2: 5413.27\n",
      "[344]\tvalid_0's rmse: 73.5509\tvalid_0's l2: 5409.74\n",
      "[345]\tvalid_0's rmse: 73.5283\tvalid_0's l2: 5406.41\n",
      "[346]\tvalid_0's rmse: 73.5044\tvalid_0's l2: 5402.89\n",
      "[347]\tvalid_0's rmse: 73.4836\tvalid_0's l2: 5399.85\n",
      "[348]\tvalid_0's rmse: 73.4725\tvalid_0's l2: 5398.21\n",
      "[349]\tvalid_0's rmse: 73.45\tvalid_0's l2: 5394.9\n",
      "[350]\tvalid_0's rmse: 73.4389\tvalid_0's l2: 5393.27\n",
      "[351]\tvalid_0's rmse: 73.415\tvalid_0's l2: 5389.77\n",
      "[352]\tvalid_0's rmse: 73.3925\tvalid_0's l2: 5386.47\n",
      "[353]\tvalid_0's rmse: 73.3719\tvalid_0's l2: 5383.43\n",
      "[354]\tvalid_0's rmse: 73.3481\tvalid_0's l2: 5379.95\n",
      "[355]\tvalid_0's rmse: 73.3257\tvalid_0's l2: 5376.66\n",
      "[356]\tvalid_0's rmse: 73.3147\tvalid_0's l2: 5375.04\n",
      "[357]\tvalid_0's rmse: 73.294\tvalid_0's l2: 5372.02\n",
      "[358]\tvalid_0's rmse: 73.2704\tvalid_0's l2: 5368.55\n",
      "[359]\tvalid_0's rmse: 73.2467\tvalid_0's l2: 5365.08\n",
      "[360]\tvalid_0's rmse: 73.2262\tvalid_0's l2: 5362.07\n",
      "[361]\tvalid_0's rmse: 73.2038\tvalid_0's l2: 5358.8\n",
      "[362]\tvalid_0's rmse: 73.1803\tvalid_0's l2: 5355.35\n",
      "[363]\tvalid_0's rmse: 73.1598\tvalid_0's l2: 5352.35\n",
      "[364]\tvalid_0's rmse: 73.1393\tvalid_0's l2: 5349.36\n",
      "[365]\tvalid_0's rmse: 73.1189\tvalid_0's l2: 5346.37\n",
      "[366]\tvalid_0's rmse: 73.0966\tvalid_0's l2: 5343.11\n",
      "[367]\tvalid_0's rmse: 73.0731\tvalid_0's l2: 5339.68\n",
      "[368]\tvalid_0's rmse: 73.0509\tvalid_0's l2: 5336.44\n",
      "[369]\tvalid_0's rmse: 73.04\tvalid_0's l2: 5334.85\n",
      "[370]\tvalid_0's rmse: 73.0197\tvalid_0's l2: 5331.87\n",
      "[371]\tvalid_0's rmse: 72.9962\tvalid_0's l2: 5328.45\n",
      "[372]\tvalid_0's rmse: 72.9729\tvalid_0's l2: 5325.04\n",
      "[373]\tvalid_0's rmse: 72.9526\tvalid_0's l2: 5322.08\n",
      "[374]\tvalid_0's rmse: 72.9305\tvalid_0's l2: 5318.85\n",
      "[375]\tvalid_0's rmse: 72.9102\tvalid_0's l2: 5315.9\n",
      "[376]\tvalid_0's rmse: 72.8869\tvalid_0's l2: 5312.5\n",
      "[377]\tvalid_0's rmse: 72.8667\tvalid_0's l2: 5309.56\n",
      "[378]\tvalid_0's rmse: 72.8465\tvalid_0's l2: 5306.61\n",
      "[379]\tvalid_0's rmse: 72.8245\tvalid_0's l2: 5303.41\n",
      "[380]\tvalid_0's rmse: 72.8137\tvalid_0's l2: 5301.84\n",
      "[381]\tvalid_0's rmse: 72.8029\tvalid_0's l2: 5300.26\n",
      "[382]\tvalid_0's rmse: 72.7797\tvalid_0's l2: 5296.89\n",
      "[383]\tvalid_0's rmse: 72.7578\tvalid_0's l2: 5293.69\n",
      "[384]\tvalid_0's rmse: 72.7346\tvalid_0's l2: 5290.33\n",
      "[385]\tvalid_0's rmse: 72.7128\tvalid_0's l2: 5287.15\n",
      "[386]\tvalid_0's rmse: 72.6927\tvalid_0's l2: 5284.22\n",
      "[387]\tvalid_0's rmse: 72.6726\tvalid_0's l2: 5281.31\n",
      "[388]\tvalid_0's rmse: 72.6526\tvalid_0's l2: 5278.4\n",
      "[389]\tvalid_0's rmse: 72.6419\tvalid_0's l2: 5276.84\n",
      "[390]\tvalid_0's rmse: 72.6219\tvalid_0's l2: 5273.94\n",
      "[391]\tvalid_0's rmse: 72.5989\tvalid_0's l2: 5270.6\n",
      "[392]\tvalid_0's rmse: 72.5759\tvalid_0's l2: 5267.25\n",
      "[393]\tvalid_0's rmse: 72.5541\tvalid_0's l2: 5264.1\n",
      "[394]\tvalid_0's rmse: 72.5342\tvalid_0's l2: 5261.21\n",
      "[395]\tvalid_0's rmse: 72.5112\tvalid_0's l2: 5257.88\n",
      "[396]\tvalid_0's rmse: 72.4914\tvalid_0's l2: 5255\n",
      "[397]\tvalid_0's rmse: 72.4715\tvalid_0's l2: 5252.12\n",
      "[398]\tvalid_0's rmse: 72.4486\tvalid_0's l2: 5248.81\n",
      "[399]\tvalid_0's rmse: 72.4289\tvalid_0's l2: 5245.94\n",
      "[400]\tvalid_0's rmse: 72.4072\tvalid_0's l2: 5242.8\n",
      "[401]\tvalid_0's rmse: 72.3844\tvalid_0's l2: 5239.5\n",
      "[402]\tvalid_0's rmse: 72.3628\tvalid_0's l2: 5236.38\n",
      "[403]\tvalid_0's rmse: 72.3522\tvalid_0's l2: 5234.84\n",
      "[404]\tvalid_0's rmse: 72.3417\tvalid_0's l2: 5233.31\n",
      "[405]\tvalid_0's rmse: 72.3219\tvalid_0's l2: 5230.46\n",
      "[406]\tvalid_0's rmse: 72.2992\tvalid_0's l2: 5227.17\n",
      "[407]\tvalid_0's rmse: 72.2795\tvalid_0's l2: 5224.33\n",
      "[408]\tvalid_0's rmse: 72.258\tvalid_0's l2: 5221.22\n",
      "[409]\tvalid_0's rmse: 72.2384\tvalid_0's l2: 5218.39\n",
      "[410]\tvalid_0's rmse: 72.2188\tvalid_0's l2: 5215.55\n",
      "[411]\tvalid_0's rmse: 72.1992\tvalid_0's l2: 5212.73\n",
      "[412]\tvalid_0's rmse: 72.1887\tvalid_0's l2: 5211.21\n",
      "[413]\tvalid_0's rmse: 72.1661\tvalid_0's l2: 5207.95\n",
      "[414]\tvalid_0's rmse: 72.1466\tvalid_0's l2: 5205.13\n",
      "[415]\tvalid_0's rmse: 72.124\tvalid_0's l2: 5201.87\n",
      "[416]\tvalid_0's rmse: 72.1026\tvalid_0's l2: 5198.79\n",
      "[417]\tvalid_0's rmse: 72.0832\tvalid_0's l2: 5195.98\n",
      "[418]\tvalid_0's rmse: 72.0606\tvalid_0's l2: 5192.74\n",
      "[419]\tvalid_0's rmse: 72.0393\tvalid_0's l2: 5189.66\n",
      "[420]\tvalid_0's rmse: 72.0169\tvalid_0's l2: 5186.43\n",
      "[421]\tvalid_0's rmse: 71.9975\tvalid_0's l2: 5183.63\n",
      "[422]\tvalid_0's rmse: 71.975\tvalid_0's l2: 5180.41\n",
      "[423]\tvalid_0's rmse: 71.9538\tvalid_0's l2: 5177.35\n",
      "[424]\tvalid_0's rmse: 71.9345\tvalid_0's l2: 5174.57\n",
      "[425]\tvalid_0's rmse: 71.9121\tvalid_0's l2: 5171.35\n",
      "[426]\tvalid_0's rmse: 71.8928\tvalid_0's l2: 5168.57\n",
      "[427]\tvalid_0's rmse: 71.8716\tvalid_0's l2: 5165.53\n",
      "[428]\tvalid_0's rmse: 71.8613\tvalid_0's l2: 5164.04\n",
      "[429]\tvalid_0's rmse: 71.839\tvalid_0's l2: 5160.84\n",
      "[430]\tvalid_0's rmse: 71.8179\tvalid_0's l2: 5157.81\n",
      "[431]\tvalid_0's rmse: 71.8076\tvalid_0's l2: 5156.33\n",
      "[432]\tvalid_0's rmse: 71.7883\tvalid_0's l2: 5153.56\n",
      "[433]\tvalid_0's rmse: 71.7661\tvalid_0's l2: 5150.38\n",
      "[434]\tvalid_0's rmse: 71.7451\tvalid_0's l2: 5147.36\n",
      "[435]\tvalid_0's rmse: 71.7348\tvalid_0's l2: 5145.88\n",
      "[436]\tvalid_0's rmse: 71.7127\tvalid_0's l2: 5142.71\n",
      "[437]\tvalid_0's rmse: 71.6917\tvalid_0's l2: 5139.7\n",
      "[438]\tvalid_0's rmse: 71.6725\tvalid_0's l2: 5136.95\n",
      "[439]\tvalid_0's rmse: 71.6534\tvalid_0's l2: 5134.21\n",
      "[440]\tvalid_0's rmse: 71.6343\tvalid_0's l2: 5131.48\n",
      "[441]\tvalid_0's rmse: 71.6153\tvalid_0's l2: 5128.75\n",
      "[442]\tvalid_0's rmse: 71.6051\tvalid_0's l2: 5127.28\n",
      "[443]\tvalid_0's rmse: 71.583\tvalid_0's l2: 5124.13\n",
      "[444]\tvalid_0's rmse: 71.564\tvalid_0's l2: 5121.41\n",
      "[445]\tvalid_0's rmse: 71.542\tvalid_0's l2: 5118.26\n",
      "[446]\tvalid_0's rmse: 71.5318\tvalid_0's l2: 5116.8\n",
      "[447]\tvalid_0's rmse: 71.511\tvalid_0's l2: 5113.82\n",
      "[448]\tvalid_0's rmse: 71.492\tvalid_0's l2: 5111.11\n",
      "[449]\tvalid_0's rmse: 71.4731\tvalid_0's l2: 5108.41\n",
      "[450]\tvalid_0's rmse: 71.4512\tvalid_0's l2: 5105.28\n",
      "[451]\tvalid_0's rmse: 71.4293\tvalid_0's l2: 5102.15\n",
      "[452]\tvalid_0's rmse: 71.4086\tvalid_0's l2: 5099.19\n",
      "[453]\tvalid_0's rmse: 71.3897\tvalid_0's l2: 5096.49\n",
      "[454]\tvalid_0's rmse: 71.3679\tvalid_0's l2: 5093.38\n",
      "[455]\tvalid_0's rmse: 71.3472\tvalid_0's l2: 5090.43\n",
      "[456]\tvalid_0's rmse: 71.3255\tvalid_0's l2: 5087.32\n",
      "[457]\tvalid_0's rmse: 71.3049\tvalid_0's l2: 5084.38\n",
      "[458]\tvalid_0's rmse: 71.2831\tvalid_0's l2: 5081.29\n",
      "[459]\tvalid_0's rmse: 71.2626\tvalid_0's l2: 5078.35\n",
      "[460]\tvalid_0's rmse: 71.2438\tvalid_0's l2: 5075.68\n",
      "[461]\tvalid_0's rmse: 71.2221\tvalid_0's l2: 5072.59\n",
      "[462]\tvalid_0's rmse: 71.2121\tvalid_0's l2: 5071.17\n",
      "[463]\tvalid_0's rmse: 71.1916\tvalid_0's l2: 5068.25\n",
      "[464]\tvalid_0's rmse: 71.17\tvalid_0's l2: 5065.17\n",
      "[465]\tvalid_0's rmse: 71.1513\tvalid_0's l2: 5062.51\n",
      "[466]\tvalid_0's rmse: 71.1309\tvalid_0's l2: 5059.6\n",
      "[467]\tvalid_0's rmse: 71.1094\tvalid_0's l2: 5056.54\n",
      "[468]\tvalid_0's rmse: 71.089\tvalid_0's l2: 5053.64\n",
      "[469]\tvalid_0's rmse: 71.0675\tvalid_0's l2: 5050.59\n",
      "[470]\tvalid_0's rmse: 71.0471\tvalid_0's l2: 5047.7\n",
      "[471]\tvalid_0's rmse: 71.0257\tvalid_0's l2: 5044.66\n",
      "[472]\tvalid_0's rmse: 71.0158\tvalid_0's l2: 5043.24\n",
      "[473]\tvalid_0's rmse: 70.9972\tvalid_0's l2: 5040.6\n",
      "[474]\tvalid_0's rmse: 70.9786\tvalid_0's l2: 5037.96\n",
      "[475]\tvalid_0's rmse: 70.96\tvalid_0's l2: 5035.33\n",
      "[476]\tvalid_0's rmse: 70.9387\tvalid_0's l2: 5032.3\n",
      "[477]\tvalid_0's rmse: 70.9185\tvalid_0's l2: 5029.43\n",
      "[478]\tvalid_0's rmse: 70.8972\tvalid_0's l2: 5026.41\n",
      "[479]\tvalid_0's rmse: 70.8787\tvalid_0's l2: 5023.79\n",
      "[480]\tvalid_0's rmse: 70.8585\tvalid_0's l2: 5020.93\n",
      "[481]\tvalid_0's rmse: 70.8373\tvalid_0's l2: 5017.92\n",
      "[482]\tvalid_0's rmse: 70.8171\tvalid_0's l2: 5015.07\n",
      "[483]\tvalid_0's rmse: 70.796\tvalid_0's l2: 5012.07\n",
      "[484]\tvalid_0's rmse: 70.7759\tvalid_0's l2: 5009.23\n",
      "[485]\tvalid_0's rmse: 70.7548\tvalid_0's l2: 5006.24\n"
     ]
    },
    {
     "name": "stdout",
     "output_type": "stream",
     "text": [
      "[486]\tvalid_0's rmse: 70.7347\tvalid_0's l2: 5003.4\n",
      "[487]\tvalid_0's rmse: 70.7163\tvalid_0's l2: 5000.8\n",
      "[488]\tvalid_0's rmse: 70.6953\tvalid_0's l2: 4997.82\n",
      "[489]\tvalid_0's rmse: 70.6753\tvalid_0's l2: 4995\n",
      "[490]\tvalid_0's rmse: 70.6543\tvalid_0's l2: 4992.03\n",
      "[491]\tvalid_0's rmse: 70.6445\tvalid_0's l2: 4990.65\n",
      "[492]\tvalid_0's rmse: 70.6262\tvalid_0's l2: 4988.06\n",
      "[493]\tvalid_0's rmse: 70.6063\tvalid_0's l2: 4985.25\n",
      "[494]\tvalid_0's rmse: 70.5854\tvalid_0's l2: 4982.29\n",
      "[495]\tvalid_0's rmse: 70.5671\tvalid_0's l2: 4979.71\n",
      "[496]\tvalid_0's rmse: 70.5573\tvalid_0's l2: 4978.34\n",
      "[497]\tvalid_0's rmse: 70.5476\tvalid_0's l2: 4976.97\n",
      "[498]\tvalid_0's rmse: 70.5294\tvalid_0's l2: 4974.39\n",
      "[499]\tvalid_0's rmse: 70.5112\tvalid_0's l2: 4971.83\n",
      "[500]\tvalid_0's rmse: 70.4903\tvalid_0's l2: 4968.89\n",
      "[501]\tvalid_0's rmse: 70.4721\tvalid_0's l2: 4966.32\n",
      "[502]\tvalid_0's rmse: 70.454\tvalid_0's l2: 4963.77\n",
      "[503]\tvalid_0's rmse: 70.4342\tvalid_0's l2: 4960.98\n",
      "[504]\tvalid_0's rmse: 70.4135\tvalid_0's l2: 4958.05\n",
      "[505]\tvalid_0's rmse: 70.3954\tvalid_0's l2: 4955.51\n",
      "[506]\tvalid_0's rmse: 70.3857\tvalid_0's l2: 4954.15\n",
      "[507]\tvalid_0's rmse: 70.3677\tvalid_0's l2: 4951.61\n",
      "[508]\tvalid_0's rmse: 70.3469\tvalid_0's l2: 4948.69\n",
      "[509]\tvalid_0's rmse: 70.3289\tvalid_0's l2: 4946.16\n",
      "[510]\tvalid_0's rmse: 70.3193\tvalid_0's l2: 4944.81\n",
      "[511]\tvalid_0's rmse: 70.2997\tvalid_0's l2: 4942.04\n",
      "[512]\tvalid_0's rmse: 70.279\tvalid_0's l2: 4939.14\n",
      "[513]\tvalid_0's rmse: 70.2594\tvalid_0's l2: 4936.38\n",
      "[514]\tvalid_0's rmse: 70.2388\tvalid_0's l2: 4933.49\n",
      "[515]\tvalid_0's rmse: 70.2193\tvalid_0's l2: 4930.74\n",
      "[516]\tvalid_0's rmse: 70.1987\tvalid_0's l2: 4927.86\n",
      "[517]\tvalid_0's rmse: 70.1792\tvalid_0's l2: 4925.12\n",
      "[518]\tvalid_0's rmse: 70.1697\tvalid_0's l2: 4923.78\n",
      "[519]\tvalid_0's rmse: 70.1492\tvalid_0's l2: 4920.91\n",
      "[520]\tvalid_0's rmse: 70.1297\tvalid_0's l2: 4918.18\n",
      "[521]\tvalid_0's rmse: 70.1202\tvalid_0's l2: 4916.85\n",
      "[522]\tvalid_0's rmse: 70.0998\tvalid_0's l2: 4913.99\n",
      "[523]\tvalid_0's rmse: 70.0804\tvalid_0's l2: 4911.27\n",
      "[524]\tvalid_0's rmse: 70.0601\tvalid_0's l2: 4908.41\n",
      "[525]\tvalid_0's rmse: 70.0407\tvalid_0's l2: 4905.7\n",
      "[526]\tvalid_0's rmse: 70.0228\tvalid_0's l2: 4903.2\n",
      "[527]\tvalid_0's rmse: 70.0025\tvalid_0's l2: 4900.36\n",
      "[528]\tvalid_0's rmse: 69.9847\tvalid_0's l2: 4897.86\n",
      "[529]\tvalid_0's rmse: 69.9654\tvalid_0's l2: 4895.16\n",
      "[530]\tvalid_0's rmse: 69.9477\tvalid_0's l2: 4892.68\n",
      "[531]\tvalid_0's rmse: 69.9274\tvalid_0's l2: 4889.84\n",
      "[532]\tvalid_0's rmse: 69.9097\tvalid_0's l2: 4887.36\n",
      "[533]\tvalid_0's rmse: 69.8895\tvalid_0's l2: 4884.54\n",
      "[534]\tvalid_0's rmse: 69.8718\tvalid_0's l2: 4882.07\n",
      "[535]\tvalid_0's rmse: 69.8526\tvalid_0's l2: 4879.39\n",
      "[536]\tvalid_0's rmse: 69.8325\tvalid_0's l2: 4876.57\n",
      "[537]\tvalid_0's rmse: 69.8231\tvalid_0's l2: 4875.27\n",
      "[538]\tvalid_0's rmse: 69.8138\tvalid_0's l2: 4873.96\n",
      "[539]\tvalid_0's rmse: 69.8044\tvalid_0's l2: 4872.66\n",
      "[540]\tvalid_0's rmse: 69.7853\tvalid_0's l2: 4869.99\n",
      "[541]\tvalid_0's rmse: 69.7653\tvalid_0's l2: 4867.19\n",
      "[542]\tvalid_0's rmse: 69.7462\tvalid_0's l2: 4864.53\n",
      "[543]\tvalid_0's rmse: 69.7262\tvalid_0's l2: 4861.74\n",
      "[544]\tvalid_0's rmse: 69.7072\tvalid_0's l2: 4859.09\n",
      "[545]\tvalid_0's rmse: 69.6872\tvalid_0's l2: 4856.31\n",
      "[546]\tvalid_0's rmse: 69.6682\tvalid_0's l2: 4853.66\n",
      "[547]\tvalid_0's rmse: 69.6507\tvalid_0's l2: 4851.21\n",
      "[548]\tvalid_0's rmse: 69.6308\tvalid_0's l2: 4848.44\n",
      "[549]\tvalid_0's rmse: 69.6132\tvalid_0's l2: 4846\n",
      "[550]\tvalid_0's rmse: 69.5943\tvalid_0's l2: 4843.37\n",
      "[551]\tvalid_0's rmse: 69.5745\tvalid_0's l2: 4840.61\n",
      "[552]\tvalid_0's rmse: 69.5556\tvalid_0's l2: 4837.98\n",
      "[553]\tvalid_0's rmse: 69.5381\tvalid_0's l2: 4835.55\n",
      "[554]\tvalid_0's rmse: 69.5207\tvalid_0's l2: 4833.13\n",
      "[555]\tvalid_0's rmse: 69.5009\tvalid_0's l2: 4830.38\n",
      "[556]\tvalid_0's rmse: 69.4812\tvalid_0's l2: 4827.63\n",
      "[557]\tvalid_0's rmse: 69.4624\tvalid_0's l2: 4825.02\n",
      "[558]\tvalid_0's rmse: 69.445\tvalid_0's l2: 4822.61\n",
      "[559]\tvalid_0's rmse: 69.4253\tvalid_0's l2: 4819.88\n",
      "[560]\tvalid_0's rmse: 69.4162\tvalid_0's l2: 4818.6\n",
      "[561]\tvalid_0's rmse: 69.3975\tvalid_0's l2: 4816.01\n",
      "[562]\tvalid_0's rmse: 69.3778\tvalid_0's l2: 4813.28\n",
      "[563]\tvalid_0's rmse: 69.3605\tvalid_0's l2: 4810.88\n",
      "[564]\tvalid_0's rmse: 69.3432\tvalid_0's l2: 4808.48\n",
      "[565]\tvalid_0's rmse: 69.3245\tvalid_0's l2: 4805.89\n",
      "[566]\tvalid_0's rmse: 69.305\tvalid_0's l2: 4803.18\n",
      "[567]\tvalid_0's rmse: 69.2864\tvalid_0's l2: 4800.6\n",
      "[568]\tvalid_0's rmse: 69.2681\tvalid_0's l2: 4798.07\n",
      "[569]\tvalid_0's rmse: 69.2486\tvalid_0's l2: 4795.37\n",
      "[570]\tvalid_0's rmse: 69.2292\tvalid_0's l2: 4792.68\n",
      "[571]\tvalid_0's rmse: 69.2106\tvalid_0's l2: 4790.11\n",
      "[572]\tvalid_0's rmse: 69.1912\tvalid_0's l2: 4787.42\n",
      "[573]\tvalid_0's rmse: 69.174\tvalid_0's l2: 4785.04\n",
      "[574]\tvalid_0's rmse: 69.1555\tvalid_0's l2: 4782.49\n",
      "[575]\tvalid_0's rmse: 69.1362\tvalid_0's l2: 4779.81\n",
      "[576]\tvalid_0's rmse: 69.1177\tvalid_0's l2: 4777.26\n",
      "[577]\tvalid_0's rmse: 69.1087\tvalid_0's l2: 4776.02\n",
      "[578]\tvalid_0's rmse: 69.0894\tvalid_0's l2: 4773.35\n",
      "[579]\tvalid_0's rmse: 69.0711\tvalid_0's l2: 4770.81\n",
      "[580]\tvalid_0's rmse: 69.0518\tvalid_0's l2: 4768.15\n",
      "[581]\tvalid_0's rmse: 69.0335\tvalid_0's l2: 4765.62\n",
      "[582]\tvalid_0's rmse: 69.0154\tvalid_0's l2: 4763.12\n",
      "[583]\tvalid_0's rmse: 68.9983\tvalid_0's l2: 4760.76\n",
      "[584]\tvalid_0's rmse: 68.9791\tvalid_0's l2: 4758.12\n",
      "[585]\tvalid_0's rmse: 68.9611\tvalid_0's l2: 4755.63\n",
      "[586]\tvalid_0's rmse: 68.9419\tvalid_0's l2: 4752.99\n",
      "[587]\tvalid_0's rmse: 68.9237\tvalid_0's l2: 4750.47\n",
      "[588]\tvalid_0's rmse: 68.9148\tvalid_0's l2: 4749.24\n",
      "[589]\tvalid_0's rmse: 68.8978\tvalid_0's l2: 4746.9\n",
      "[590]\tvalid_0's rmse: 68.8787\tvalid_0's l2: 4744.27\n",
      "[591]\tvalid_0's rmse: 68.8607\tvalid_0's l2: 4741.8\n",
      "[592]\tvalid_0's rmse: 68.8438\tvalid_0's l2: 4739.47\n",
      "[593]\tvalid_0's rmse: 68.8257\tvalid_0's l2: 4736.97\n",
      "[594]\tvalid_0's rmse: 68.8066\tvalid_0's l2: 4734.35\n",
      "[595]\tvalid_0's rmse: 68.7885\tvalid_0's l2: 4731.86\n",
      "[596]\tvalid_0's rmse: 68.7696\tvalid_0's l2: 4729.25\n",
      "[597]\tvalid_0's rmse: 68.7515\tvalid_0's l2: 4726.77\n",
      "[598]\tvalid_0's rmse: 68.7326\tvalid_0's l2: 4724.17\n",
      "[599]\tvalid_0's rmse: 68.7147\tvalid_0's l2: 4721.71\n",
      "[600]\tvalid_0's rmse: 68.6967\tvalid_0's l2: 4719.24\n",
      "[601]\tvalid_0's rmse: 68.6799\tvalid_0's l2: 4716.93\n",
      "[602]\tvalid_0's rmse: 68.6611\tvalid_0's l2: 4714.34\n",
      "[603]\tvalid_0's rmse: 68.6422\tvalid_0's l2: 4711.76\n",
      "[604]\tvalid_0's rmse: 68.6243\tvalid_0's l2: 4709.29\n",
      "[605]\tvalid_0's rmse: 68.6055\tvalid_0's l2: 4706.72\n",
      "[606]\tvalid_0's rmse: 68.5876\tvalid_0's l2: 4704.26\n",
      "[607]\tvalid_0's rmse: 68.5689\tvalid_0's l2: 4701.69\n",
      "[608]\tvalid_0's rmse: 68.551\tvalid_0's l2: 4699.24\n",
      "[609]\tvalid_0's rmse: 68.5324\tvalid_0's l2: 4696.68\n",
      "[610]\tvalid_0's rmse: 68.5145\tvalid_0's l2: 4694.24\n",
      "[611]\tvalid_0's rmse: 68.4968\tvalid_0's l2: 4691.82\n",
      "[612]\tvalid_0's rmse: 68.4881\tvalid_0's l2: 4690.62\n",
      "[613]\tvalid_0's rmse: 68.4714\tvalid_0's l2: 4688.34\n",
      "[614]\tvalid_0's rmse: 68.4538\tvalid_0's l2: 4685.92\n",
      "[615]\tvalid_0's rmse: 68.4352\tvalid_0's l2: 4683.38\n",
      "[616]\tvalid_0's rmse: 68.4175\tvalid_0's l2: 4680.95\n",
      "[617]\tvalid_0's rmse: 68.4009\tvalid_0's l2: 4678.68\n",
      "[618]\tvalid_0's rmse: 68.3823\tvalid_0's l2: 4676.14\n",
      "[619]\tvalid_0's rmse: 68.3648\tvalid_0's l2: 4673.74\n",
      "[620]\tvalid_0's rmse: 68.3482\tvalid_0's l2: 4671.48\n",
      "[621]\tvalid_0's rmse: 68.3297\tvalid_0's l2: 4668.95\n",
      "[622]\tvalid_0's rmse: 68.3121\tvalid_0's l2: 4666.54\n",
      "[623]\tvalid_0's rmse: 68.2936\tvalid_0's l2: 4664.02\n",
      "[624]\tvalid_0's rmse: 68.276\tvalid_0's l2: 4661.62\n",
      "[625]\tvalid_0's rmse: 68.2586\tvalid_0's l2: 4659.23\n",
      "[626]\tvalid_0's rmse: 68.2402\tvalid_0's l2: 4656.72\n",
      "[627]\tvalid_0's rmse: 68.2226\tvalid_0's l2: 4654.33\n",
      "[628]\tvalid_0's rmse: 68.2043\tvalid_0's l2: 4651.82\n",
      "[629]\tvalid_0's rmse: 68.1868\tvalid_0's l2: 4649.44\n",
      "[630]\tvalid_0's rmse: 68.1704\tvalid_0's l2: 4647.2\n",
      "[631]\tvalid_0's rmse: 68.16\tvalid_0's l2: 4645.78\n",
      "[632]\tvalid_0's rmse: 68.1417\tvalid_0's l2: 4643.29\n",
      "[633]\tvalid_0's rmse: 68.1331\tvalid_0's l2: 4642.12\n",
      "[634]\tvalid_0's rmse: 68.1157\tvalid_0's l2: 4639.75\n",
      "[635]\tvalid_0's rmse: 68.0975\tvalid_0's l2: 4637.27\n",
      "[636]\tvalid_0's rmse: 68.0801\tvalid_0's l2: 4634.9\n",
      "[637]\tvalid_0's rmse: 68.0619\tvalid_0's l2: 4632.42\n",
      "[638]\tvalid_0's rmse: 68.0456\tvalid_0's l2: 4630.2\n",
      "[639]\tvalid_0's rmse: 68.0283\tvalid_0's l2: 4627.85\n",
      "[640]\tvalid_0's rmse: 68.011\tvalid_0's l2: 4625.49\n",
      "[641]\tvalid_0's rmse: 67.9928\tvalid_0's l2: 4623.03\n",
      "[642]\tvalid_0's rmse: 67.9755\tvalid_0's l2: 4620.67\n",
      "[643]\tvalid_0's rmse: 67.9574\tvalid_0's l2: 4618.21\n",
      "[644]\tvalid_0's rmse: 67.9402\tvalid_0's l2: 4615.87\n",
      "[645]\tvalid_0's rmse: 67.924\tvalid_0's l2: 4613.66\n",
      "[646]\tvalid_0's rmse: 67.9059\tvalid_0's l2: 4611.22\n",
      "[647]\tvalid_0's rmse: 67.8887\tvalid_0's l2: 4608.88\n",
      "[648]\tvalid_0's rmse: 67.8707\tvalid_0's l2: 4606.44\n",
      "[649]\tvalid_0's rmse: 67.8536\tvalid_0's l2: 4604.11\n",
      "[650]\tvalid_0's rmse: 67.8356\tvalid_0's l2: 4601.68\n",
      "[651]\tvalid_0's rmse: 67.8272\tvalid_0's l2: 4600.53\n",
      "[652]\tvalid_0's rmse: 67.8101\tvalid_0's l2: 4598.21\n",
      "[653]\tvalid_0's rmse: 67.7922\tvalid_0's l2: 4595.78\n",
      "[654]\tvalid_0's rmse: 67.7751\tvalid_0's l2: 4593.47\n",
      "[655]\tvalid_0's rmse: 67.7573\tvalid_0's l2: 4591.05\n",
      "[656]\tvalid_0's rmse: 67.7402\tvalid_0's l2: 4588.73\n",
      "[657]\tvalid_0's rmse: 67.7232\tvalid_0's l2: 4586.43\n",
      "[658]\tvalid_0's rmse: 67.7054\tvalid_0's l2: 4584.02\n",
      "[659]\tvalid_0's rmse: 67.6884\tvalid_0's l2: 4581.72\n",
      "[660]\tvalid_0's rmse: 67.6707\tvalid_0's l2: 4579.32\n",
      "[661]\tvalid_0's rmse: 67.6623\tvalid_0's l2: 4578.19\n",
      "[662]\tvalid_0's rmse: 67.6454\tvalid_0's l2: 4575.9\n",
      "[663]\tvalid_0's rmse: 67.6284\tvalid_0's l2: 4573.6\n",
      "[664]\tvalid_0's rmse: 67.6123\tvalid_0's l2: 4571.43\n",
      "[665]\tvalid_0's rmse: 67.5947\tvalid_0's l2: 4569.04\n",
      "[666]\tvalid_0's rmse: 67.577\tvalid_0's l2: 4566.66\n",
      "[667]\tvalid_0's rmse: 67.5602\tvalid_0's l2: 4564.38\n",
      "[668]\tvalid_0's rmse: 67.5426\tvalid_0's l2: 4562\n",
      "[669]\tvalid_0's rmse: 67.5258\tvalid_0's l2: 4559.73\n",
      "[670]\tvalid_0's rmse: 67.5089\tvalid_0's l2: 4557.45\n",
      "[671]\tvalid_0's rmse: 67.4913\tvalid_0's l2: 4555.08\n",
      "[672]\tvalid_0's rmse: 67.4746\tvalid_0's l2: 4552.82\n",
      "[673]\tvalid_0's rmse: 67.4571\tvalid_0's l2: 4550.46\n",
      "[674]\tvalid_0's rmse: 67.4404\tvalid_0's l2: 4548.2\n",
      "[675]\tvalid_0's rmse: 67.4229\tvalid_0's l2: 4545.85\n",
      "[676]\tvalid_0's rmse: 67.407\tvalid_0's l2: 4543.71\n",
      "[677]\tvalid_0's rmse: 67.3988\tvalid_0's l2: 4542.6\n",
      "[678]\tvalid_0's rmse: 67.3821\tvalid_0's l2: 4540.35\n",
      "[679]\tvalid_0's rmse: 67.3653\tvalid_0's l2: 4538.08\n",
      "[680]\tvalid_0's rmse: 67.3495\tvalid_0's l2: 4535.95\n",
      "[681]\tvalid_0's rmse: 67.3327\tvalid_0's l2: 4533.69\n",
      "[682]\tvalid_0's rmse: 67.3154\tvalid_0's l2: 4531.36\n",
      "[683]\tvalid_0's rmse: 67.298\tvalid_0's l2: 4529.02\n",
      "[684]\tvalid_0's rmse: 67.2815\tvalid_0's l2: 4526.79\n",
      "[685]\tvalid_0's rmse: 67.2642\tvalid_0's l2: 4524.47\n",
      "[686]\tvalid_0's rmse: 67.256\tvalid_0's l2: 4523.37\n",
      "[687]\tvalid_0's rmse: 67.2395\tvalid_0's l2: 4521.15\n",
      "[688]\tvalid_0's rmse: 67.2237\tvalid_0's l2: 4519.03\n",
      "[689]\tvalid_0's rmse: 67.2065\tvalid_0's l2: 4516.72\n",
      "[690]\tvalid_0's rmse: 67.1899\tvalid_0's l2: 4514.48\n",
      "[691]\tvalid_0's rmse: 67.1734\tvalid_0's l2: 4512.26\n",
      "[692]\tvalid_0's rmse: 67.1577\tvalid_0's l2: 4510.16\n",
      "[693]\tvalid_0's rmse: 67.1411\tvalid_0's l2: 4507.93\n",
      "[694]\tvalid_0's rmse: 67.124\tvalid_0's l2: 4505.63\n",
      "[695]\tvalid_0's rmse: 67.1068\tvalid_0's l2: 4503.33\n",
      "[696]\tvalid_0's rmse: 67.0905\tvalid_0's l2: 4501.13\n",
      "[697]\tvalid_0's rmse: 67.0824\tvalid_0's l2: 4500.04\n",
      "[698]\tvalid_0's rmse: 67.0653\tvalid_0's l2: 4497.75\n",
      "[699]\tvalid_0's rmse: 67.0489\tvalid_0's l2: 4495.56\n",
      "[700]\tvalid_0's rmse: 67.0319\tvalid_0's l2: 4493.28\n",
      "[701]\tvalid_0's rmse: 67.0156\tvalid_0's l2: 4491.09\n",
      "[702]\tvalid_0's rmse: 67.0001\tvalid_0's l2: 4489.01\n",
      "[703]\tvalid_0's rmse: 66.9831\tvalid_0's l2: 4486.73\n",
      "[704]\tvalid_0's rmse: 66.9668\tvalid_0's l2: 4484.56\n",
      "[705]\tvalid_0's rmse: 66.9499\tvalid_0's l2: 4482.29\n",
      "[706]\tvalid_0's rmse: 66.94\tvalid_0's l2: 4480.96\n",
      "[707]\tvalid_0's rmse: 66.9235\tvalid_0's l2: 4478.76\n",
      "[708]\tvalid_0's rmse: 66.9073\tvalid_0's l2: 4476.59\n",
      "[709]\tvalid_0's rmse: 66.8905\tvalid_0's l2: 4474.33\n",
      "[710]\tvalid_0's rmse: 66.8743\tvalid_0's l2: 4472.17\n",
      "[711]\tvalid_0's rmse: 66.8575\tvalid_0's l2: 4469.92\n",
      "[712]\tvalid_0's rmse: 66.842\tvalid_0's l2: 4467.86\n",
      "[713]\tvalid_0's rmse: 66.8259\tvalid_0's l2: 4465.71\n",
      "[714]\tvalid_0's rmse: 66.8092\tvalid_0's l2: 4463.46\n",
      "[715]\tvalid_0's rmse: 66.7931\tvalid_0's l2: 4461.32\n",
      "[716]\tvalid_0's rmse: 66.7768\tvalid_0's l2: 4459.13\n",
      "[717]\tvalid_0's rmse: 66.7614\tvalid_0's l2: 4457.08\n",
      "[718]\tvalid_0's rmse: 66.7447\tvalid_0's l2: 4454.85\n",
      "[719]\tvalid_0's rmse: 66.7284\tvalid_0's l2: 4452.68\n",
      "[720]\tvalid_0's rmse: 66.7131\tvalid_0's l2: 4450.64\n",
      "[721]\tvalid_0's rmse: 66.6964\tvalid_0's l2: 4448.41\n",
      "[722]\tvalid_0's rmse: 66.6885\tvalid_0's l2: 4447.35\n",
      "[723]\tvalid_0's rmse: 66.6725\tvalid_0's l2: 4445.22\n",
      "[724]\tvalid_0's rmse: 66.6559\tvalid_0's l2: 4443.01\n",
      "[725]\tvalid_0's rmse: 66.64\tvalid_0's l2: 4440.88\n",
      "[726]\tvalid_0's rmse: 66.6234\tvalid_0's l2: 4438.67\n",
      "[727]\tvalid_0's rmse: 66.6072\tvalid_0's l2: 4436.52\n",
      "[728]\tvalid_0's rmse: 66.5913\tvalid_0's l2: 4434.4\n",
      "[729]\tvalid_0's rmse: 66.5834\tvalid_0's l2: 4433.35\n",
      "[730]\tvalid_0's rmse: 66.5669\tvalid_0's l2: 4431.15\n",
      "[731]\tvalid_0's rmse: 66.5517\tvalid_0's l2: 4429.13\n",
      "[732]\tvalid_0's rmse: 66.5352\tvalid_0's l2: 4426.94\n",
      "[733]\tvalid_0's rmse: 66.5194\tvalid_0's l2: 4424.83\n",
      "[734]\tvalid_0's rmse: 66.503\tvalid_0's l2: 4422.65\n",
      "[735]\tvalid_0's rmse: 66.4872\tvalid_0's l2: 4420.55\n",
      "[736]\tvalid_0's rmse: 66.4708\tvalid_0's l2: 4418.37\n",
      "[737]\tvalid_0's rmse: 66.4551\tvalid_0's l2: 4416.28\n",
      "[738]\tvalid_0's rmse: 66.4387\tvalid_0's l2: 4414.1\n",
      "[739]\tvalid_0's rmse: 66.429\tvalid_0's l2: 4412.82\n",
      "[740]\tvalid_0's rmse: 66.4133\tvalid_0's l2: 4410.73\n",
      "[741]\tvalid_0's rmse: 66.397\tvalid_0's l2: 4408.57\n",
      "[742]\tvalid_0's rmse: 66.3814\tvalid_0's l2: 4406.49\n",
      "[743]\tvalid_0's rmse: 66.3736\tvalid_0's l2: 4405.46\n",
      "[744]\tvalid_0's rmse: 66.3574\tvalid_0's l2: 4403.3\n",
      "[745]\tvalid_0's rmse: 66.3413\tvalid_0's l2: 4401.17\n",
      "[746]\tvalid_0's rmse: 66.3263\tvalid_0's l2: 4399.18\n",
      "[747]\tvalid_0's rmse: 66.3107\tvalid_0's l2: 4397.11\n",
      "[748]\tvalid_0's rmse: 66.2948\tvalid_0's l2: 4395\n",
      "[749]\tvalid_0's rmse: 66.2786\tvalid_0's l2: 4392.85\n",
      "[750]\tvalid_0's rmse: 66.263\tvalid_0's l2: 4390.79\n",
      "[751]\tvalid_0's rmse: 66.2481\tvalid_0's l2: 4388.81\n",
      "[752]\tvalid_0's rmse: 66.2319\tvalid_0's l2: 4386.67\n",
      "[753]\tvalid_0's rmse: 66.216\tvalid_0's l2: 4384.56\n",
      "[754]\tvalid_0's rmse: 66.1999\tvalid_0's l2: 4382.43\n",
      "[755]\tvalid_0's rmse: 66.1845\tvalid_0's l2: 4380.38\n",
      "[756]\tvalid_0's rmse: 66.1684\tvalid_0's l2: 4378.26\n",
      "[757]\tvalid_0's rmse: 66.1535\tvalid_0's l2: 4376.29\n",
      "[758]\tvalid_0's rmse: 66.1458\tvalid_0's l2: 4375.27\n",
      "[759]\tvalid_0's rmse: 66.1304\tvalid_0's l2: 4373.23\n",
      "[760]\tvalid_0's rmse: 66.1146\tvalid_0's l2: 4371.15\n",
      "[761]\tvalid_0's rmse: 66.0998\tvalid_0's l2: 4369.18\n",
      "[762]\tvalid_0's rmse: 66.0838\tvalid_0's l2: 4367.07\n",
      "[763]\tvalid_0's rmse: 66.0685\tvalid_0's l2: 4365.04\n",
      "[764]\tvalid_0's rmse: 66.0589\tvalid_0's l2: 4363.78\n",
      "[765]\tvalid_0's rmse: 66.0432\tvalid_0's l2: 4361.71\n",
      "[766]\tvalid_0's rmse: 66.0285\tvalid_0's l2: 4359.76\n",
      "[767]\tvalid_0's rmse: 66.0125\tvalid_0's l2: 4357.65\n",
      "[768]\tvalid_0's rmse: 65.9968\tvalid_0's l2: 4355.58\n",
      "[769]\tvalid_0's rmse: 65.9809\tvalid_0's l2: 4353.48\n",
      "[770]\tvalid_0's rmse: 65.9657\tvalid_0's l2: 4351.47\n",
      "[771]\tvalid_0's rmse: 65.9498\tvalid_0's l2: 4349.38\n",
      "[772]\tvalid_0's rmse: 65.9351\tvalid_0's l2: 4347.44\n",
      "[773]\tvalid_0's rmse: 65.9199\tvalid_0's l2: 4345.44\n",
      "[774]\tvalid_0's rmse: 65.9041\tvalid_0's l2: 4343.35\n",
      "[775]\tvalid_0's rmse: 65.8889\tvalid_0's l2: 4341.35\n",
      "[776]\tvalid_0's rmse: 65.8734\tvalid_0's l2: 4339.3\n",
      "[777]\tvalid_0's rmse: 65.8588\tvalid_0's l2: 4337.38\n",
      "[778]\tvalid_0's rmse: 65.8432\tvalid_0's l2: 4335.33\n",
      "[779]\tvalid_0's rmse: 65.8275\tvalid_0's l2: 4333.26\n",
      "[780]\tvalid_0's rmse: 65.82\tvalid_0's l2: 4332.27\n",
      "[781]\tvalid_0's rmse: 65.8042\tvalid_0's l2: 4330.2\n",
      "[782]\tvalid_0's rmse: 65.7892\tvalid_0's l2: 4328.21\n",
      "[783]\tvalid_0's rmse: 65.7816\tvalid_0's l2: 4327.23\n",
      "[784]\tvalid_0's rmse: 65.766\tvalid_0's l2: 4325.16\n",
      "[785]\tvalid_0's rmse: 65.7509\tvalid_0's l2: 4323.19\n",
      "[786]\tvalid_0's rmse: 65.7353\tvalid_0's l2: 4321.13\n",
      "[787]\tvalid_0's rmse: 65.7208\tvalid_0's l2: 4319.22\n",
      "[788]\tvalid_0's rmse: 65.7058\tvalid_0's l2: 4317.25\n",
      "[789]\tvalid_0's rmse: 65.6904\tvalid_0's l2: 4315.23\n",
      "[790]\tvalid_0's rmse: 65.6748\tvalid_0's l2: 4313.18\n",
      "[791]\tvalid_0's rmse: 65.6604\tvalid_0's l2: 4311.29\n",
      "[792]\tvalid_0's rmse: 65.6451\tvalid_0's l2: 4309.27\n",
      "[793]\tvalid_0's rmse: 65.6295\tvalid_0's l2: 4307.23\n",
      "[794]\tvalid_0's rmse: 65.6151\tvalid_0's l2: 4305.35\n",
      "[795]\tvalid_0's rmse: 65.5999\tvalid_0's l2: 4303.34\n",
      "[796]\tvalid_0's rmse: 65.5849\tvalid_0's l2: 4301.38\n",
      "[797]\tvalid_0's rmse: 65.5706\tvalid_0's l2: 4299.51\n",
      "[798]\tvalid_0's rmse: 65.5554\tvalid_0's l2: 4297.51\n",
      "[799]\tvalid_0's rmse: 65.5411\tvalid_0's l2: 4295.64\n",
      "[800]\tvalid_0's rmse: 65.5257\tvalid_0's l2: 4293.61\n",
      "[801]\tvalid_0's rmse: 65.5105\tvalid_0's l2: 4291.62\n",
      "[802]\tvalid_0's rmse: 65.4951\tvalid_0's l2: 4289.6\n",
      "[803]\tvalid_0's rmse: 65.4802\tvalid_0's l2: 4287.66\n",
      "[804]\tvalid_0's rmse: 65.4729\tvalid_0's l2: 4286.7\n",
      "[805]\tvalid_0's rmse: 65.4587\tvalid_0's l2: 4284.84\n",
      "[806]\tvalid_0's rmse: 65.4433\tvalid_0's l2: 4282.82\n",
      "[807]\tvalid_0's rmse: 65.4359\tvalid_0's l2: 4281.86\n",
      "[808]\tvalid_0's rmse: 65.4212\tvalid_0's l2: 4279.93\n",
      "[809]\tvalid_0's rmse: 65.4059\tvalid_0's l2: 4277.93\n",
      "[810]\tvalid_0's rmse: 65.3908\tvalid_0's l2: 4275.95\n",
      "[811]\tvalid_0's rmse: 65.3755\tvalid_0's l2: 4273.96\n",
      "[812]\tvalid_0's rmse: 65.3608\tvalid_0's l2: 4272.03\n",
      "[813]\tvalid_0's rmse: 65.3456\tvalid_0's l2: 4270.04\n",
      "[814]\tvalid_0's rmse: 65.3309\tvalid_0's l2: 4268.13\n",
      "[815]\tvalid_0's rmse: 65.3157\tvalid_0's l2: 4266.14\n",
      "[816]\tvalid_0's rmse: 65.3011\tvalid_0's l2: 4264.23\n",
      "[817]\tvalid_0's rmse: 65.2859\tvalid_0's l2: 4262.25\n",
      "[818]\tvalid_0's rmse: 65.2713\tvalid_0's l2: 4260.34\n",
      "[819]\tvalid_0's rmse: 65.2572\tvalid_0's l2: 4258.51\n",
      "[820]\tvalid_0's rmse: 65.2421\tvalid_0's l2: 4256.53\n",
      "[821]\tvalid_0's rmse: 65.2276\tvalid_0's l2: 4254.64\n",
      "[822]\tvalid_0's rmse: 65.2125\tvalid_0's l2: 4252.67\n",
      "[823]\tvalid_0's rmse: 65.1976\tvalid_0's l2: 4250.72\n",
      "[824]\tvalid_0's rmse: 65.1831\tvalid_0's l2: 4248.83\n",
      "[825]\tvalid_0's rmse: 65.168\tvalid_0's l2: 4246.87\n",
      "[826]\tvalid_0's rmse: 65.1608\tvalid_0's l2: 4245.93\n",
      "[827]\tvalid_0's rmse: 65.1464\tvalid_0's l2: 4244.05\n",
      "[828]\tvalid_0's rmse: 65.1324\tvalid_0's l2: 4242.23\n",
      "[829]\tvalid_0's rmse: 65.1174\tvalid_0's l2: 4240.28\n",
      "[830]\tvalid_0's rmse: 65.1025\tvalid_0's l2: 4238.34\n",
      "[831]\tvalid_0's rmse: 65.0954\tvalid_0's l2: 4237.4\n",
      "[832]\tvalid_0's rmse: 65.081\tvalid_0's l2: 4235.53\n",
      "[833]\tvalid_0's rmse: 65.066\tvalid_0's l2: 4233.59\n",
      "[834]\tvalid_0's rmse: 65.0521\tvalid_0's l2: 4231.78\n",
      "[835]\tvalid_0's rmse: 65.0373\tvalid_0's l2: 4229.86\n",
      "[836]\tvalid_0's rmse: 65.0225\tvalid_0's l2: 4227.92\n",
      "[837]\tvalid_0's rmse: 65.0086\tvalid_0's l2: 4226.12\n",
      "[838]\tvalid_0's rmse: 64.9939\tvalid_0's l2: 4224.2\n",
      "[839]\tvalid_0's rmse: 64.9801\tvalid_0's l2: 4222.41\n",
      "[840]\tvalid_0's rmse: 64.9652\tvalid_0's l2: 4220.48\n",
      "[841]\tvalid_0's rmse: 64.9581\tvalid_0's l2: 4219.56\n",
      "[842]\tvalid_0's rmse: 64.951\tvalid_0's l2: 4218.63\n",
      "[843]\tvalid_0's rmse: 64.9367\tvalid_0's l2: 4216.78\n",
      "[844]\tvalid_0's rmse: 64.9221\tvalid_0's l2: 4214.87\n",
      "[845]\tvalid_0's rmse: 64.9073\tvalid_0's l2: 4212.95\n",
      "[846]\tvalid_0's rmse: 64.893\tvalid_0's l2: 4211.11\n",
      "[847]\tvalid_0's rmse: 64.8783\tvalid_0's l2: 4209.2\n",
      "[848]\tvalid_0's rmse: 64.8641\tvalid_0's l2: 4207.35\n",
      "[849]\tvalid_0's rmse: 64.8504\tvalid_0's l2: 4205.58\n",
      "[850]\tvalid_0's rmse: 64.8357\tvalid_0's l2: 4203.67\n",
      "[851]\tvalid_0's rmse: 64.8216\tvalid_0's l2: 4201.84\n",
      "[852]\tvalid_0's rmse: 64.8069\tvalid_0's l2: 4199.94\n",
      "[853]\tvalid_0's rmse: 64.7999\tvalid_0's l2: 4199.03\n",
      "[854]\tvalid_0's rmse: 64.7858\tvalid_0's l2: 4197.2\n",
      "[855]\tvalid_0's rmse: 64.7712\tvalid_0's l2: 4195.31\n",
      "[856]\tvalid_0's rmse: 64.7571\tvalid_0's l2: 4193.48\n",
      "[857]\tvalid_0's rmse: 64.7425\tvalid_0's l2: 4191.6\n",
      "[858]\tvalid_0's rmse: 64.728\tvalid_0's l2: 4189.72\n",
      "[859]\tvalid_0's rmse: 64.714\tvalid_0's l2: 4187.9\n",
      "[860]\tvalid_0's rmse: 64.6995\tvalid_0's l2: 4186.02\n",
      "[861]\tvalid_0's rmse: 64.6855\tvalid_0's l2: 4184.21\n",
      "[862]\tvalid_0's rmse: 64.671\tvalid_0's l2: 4182.34\n",
      "[863]\tvalid_0's rmse: 64.657\tvalid_0's l2: 4180.53\n",
      "[864]\tvalid_0's rmse: 64.6426\tvalid_0's l2: 4178.67\n",
      "[865]\tvalid_0's rmse: 64.6281\tvalid_0's l2: 4176.8\n",
      "[866]\tvalid_0's rmse: 64.6146\tvalid_0's l2: 4175.05\n",
      "[867]\tvalid_0's rmse: 64.6002\tvalid_0's l2: 4173.18\n",
      "[868]\tvalid_0's rmse: 64.5858\tvalid_0's l2: 4171.32\n",
      "[869]\tvalid_0's rmse: 64.5723\tvalid_0's l2: 4169.58\n",
      "[870]\tvalid_0's rmse: 64.5584\tvalid_0's l2: 4167.79\n",
      "[871]\tvalid_0's rmse: 64.5441\tvalid_0's l2: 4165.94\n",
      "[872]\tvalid_0's rmse: 64.5297\tvalid_0's l2: 4164.08\n",
      "[873]\tvalid_0's rmse: 64.5159\tvalid_0's l2: 4162.3\n",
      "[874]\tvalid_0's rmse: 64.507\tvalid_0's l2: 4161.15\n",
      "[875]\tvalid_0's rmse: 64.4927\tvalid_0's l2: 4159.31\n",
      "[876]\tvalid_0's rmse: 64.4793\tvalid_0's l2: 4157.58\n",
      "[877]\tvalid_0's rmse: 64.465\tvalid_0's l2: 4155.74\n",
      "[878]\tvalid_0's rmse: 64.4581\tvalid_0's l2: 4154.85\n",
      "[879]\tvalid_0's rmse: 64.4439\tvalid_0's l2: 4153.01\n",
      "[880]\tvalid_0's rmse: 64.4301\tvalid_0's l2: 4151.24\n",
      "[881]\tvalid_0's rmse: 64.4232\tvalid_0's l2: 4150.35\n",
      "[882]\tvalid_0's rmse: 64.409\tvalid_0's l2: 4148.52\n",
      "[883]\tvalid_0's rmse: 64.4022\tvalid_0's l2: 4147.64\n",
      "[884]\tvalid_0's rmse: 64.3889\tvalid_0's l2: 4145.93\n",
      "[885]\tvalid_0's rmse: 64.3752\tvalid_0's l2: 4144.16\n",
      "[886]\tvalid_0's rmse: 64.361\tvalid_0's l2: 4142.33\n",
      "[887]\tvalid_0's rmse: 64.3477\tvalid_0's l2: 4140.63\n",
      "[888]\tvalid_0's rmse: 64.3389\tvalid_0's l2: 4139.49\n",
      "[889]\tvalid_0's rmse: 64.3248\tvalid_0's l2: 4137.67\n",
      "[890]\tvalid_0's rmse: 64.3106\tvalid_0's l2: 4135.86\n",
      "[891]\tvalid_0's rmse: 64.2965\tvalid_0's l2: 4134.04\n",
      "[892]\tvalid_0's rmse: 64.2829\tvalid_0's l2: 4132.29\n",
      "[893]\tvalid_0's rmse: 64.2741\tvalid_0's l2: 4131.16\n",
      "[894]\tvalid_0's rmse: 64.2601\tvalid_0's l2: 4129.35\n",
      "[895]\tvalid_0's rmse: 64.2465\tvalid_0's l2: 4127.61\n",
      "[896]\tvalid_0's rmse: 64.2333\tvalid_0's l2: 4125.91\n",
      "[897]\tvalid_0's rmse: 64.2193\tvalid_0's l2: 4124.11\n",
      "[898]\tvalid_0's rmse: 64.2057\tvalid_0's l2: 4122.37\n",
      "[899]\tvalid_0's rmse: 64.1917\tvalid_0's l2: 4120.58\n",
      "[900]\tvalid_0's rmse: 64.1782\tvalid_0's l2: 4118.85\n",
      "[901]\tvalid_0's rmse: 64.1643\tvalid_0's l2: 4117.05\n",
      "[902]\tvalid_0's rmse: 64.1556\tvalid_0's l2: 4115.94\n",
      "[903]\tvalid_0's rmse: 64.1416\tvalid_0's l2: 4114.14\n",
      "[904]\tvalid_0's rmse: 64.1281\tvalid_0's l2: 4112.41\n",
      "[905]\tvalid_0's rmse: 64.1142\tvalid_0's l2: 4110.63\n",
      "[906]\tvalid_0's rmse: 64.1008\tvalid_0's l2: 4108.91\n",
      "[907]\tvalid_0's rmse: 64.0869\tvalid_0's l2: 4107.13\n",
      "[908]\tvalid_0's rmse: 64.0735\tvalid_0's l2: 4105.42\n",
      "[909]\tvalid_0's rmse: 64.0597\tvalid_0's l2: 4103.65\n",
      "[910]\tvalid_0's rmse: 64.0464\tvalid_0's l2: 4101.94\n",
      "[911]\tvalid_0's rmse: 64.0326\tvalid_0's l2: 4100.17\n",
      "[912]\tvalid_0's rmse: 64.0195\tvalid_0's l2: 4098.5\n",
      "[913]\tvalid_0's rmse: 64.0058\tvalid_0's l2: 4096.74\n",
      "[914]\tvalid_0's rmse: 63.9925\tvalid_0's l2: 4095.04\n",
      "[915]\tvalid_0's rmse: 63.9858\tvalid_0's l2: 4094.18\n",
      "[916]\tvalid_0's rmse: 63.9792\tvalid_0's l2: 4093.34\n",
      "[917]\tvalid_0's rmse: 63.9655\tvalid_0's l2: 4091.58\n",
      "[918]\tvalid_0's rmse: 63.9522\tvalid_0's l2: 4089.89\n",
      "[919]\tvalid_0's rmse: 63.9386\tvalid_0's l2: 4088.14\n",
      "[920]\tvalid_0's rmse: 63.9253\tvalid_0's l2: 4086.45\n",
      "[921]\tvalid_0's rmse: 63.9115\tvalid_0's l2: 4084.68\n",
      "[922]\tvalid_0's rmse: 63.8985\tvalid_0's l2: 4083.02\n",
      "[923]\tvalid_0's rmse: 63.8847\tvalid_0's l2: 4081.26\n",
      "[924]\tvalid_0's rmse: 63.8711\tvalid_0's l2: 4079.52\n",
      "[925]\tvalid_0's rmse: 63.8582\tvalid_0's l2: 4077.87\n",
      "[926]\tvalid_0's rmse: 63.8516\tvalid_0's l2: 4077.03\n",
      "[927]\tvalid_0's rmse: 63.8379\tvalid_0's l2: 4075.27\n",
      "[928]\tvalid_0's rmse: 63.8243\tvalid_0's l2: 4073.54\n",
      "[929]\tvalid_0's rmse: 63.8112\tvalid_0's l2: 4071.86\n",
      "[930]\tvalid_0's rmse: 63.7976\tvalid_0's l2: 4070.14\n",
      "[931]\tvalid_0's rmse: 63.7845\tvalid_0's l2: 4068.47\n",
      "[932]\tvalid_0's rmse: 63.771\tvalid_0's l2: 4066.75\n",
      "[933]\tvalid_0's rmse: 63.758\tvalid_0's l2: 4065.08\n",
      "[934]\tvalid_0's rmse: 63.7445\tvalid_0's l2: 4063.36\n",
      "[935]\tvalid_0's rmse: 63.7317\tvalid_0's l2: 4061.73\n",
      "[936]\tvalid_0's rmse: 63.7187\tvalid_0's l2: 4060.07\n",
      "[937]\tvalid_0's rmse: 63.7053\tvalid_0's l2: 4058.36\n",
      "[938]\tvalid_0's rmse: 63.6923\tvalid_0's l2: 4056.71\n",
      "[939]\tvalid_0's rmse: 63.6789\tvalid_0's l2: 4055\n",
      "[940]\tvalid_0's rmse: 63.6653\tvalid_0's l2: 4053.27\n",
      "[941]\tvalid_0's rmse: 63.6523\tvalid_0's l2: 4051.62\n",
      "[942]\tvalid_0's rmse: 63.6396\tvalid_0's l2: 4050\n",
      "[943]\tvalid_0's rmse: 63.6263\tvalid_0's l2: 4048.3\n",
      "[944]\tvalid_0's rmse: 63.6127\tvalid_0's l2: 4046.58\n",
      "[945]\tvalid_0's rmse: 63.6\tvalid_0's l2: 4044.96\n",
      "[946]\tvalid_0's rmse: 63.5867\tvalid_0's l2: 4043.27\n",
      "[947]\tvalid_0's rmse: 63.5732\tvalid_0's l2: 4041.55\n",
      "[948]\tvalid_0's rmse: 63.5606\tvalid_0's l2: 4039.94\n",
      "[949]\tvalid_0's rmse: 63.5477\tvalid_0's l2: 4038.31\n",
      "[950]\tvalid_0's rmse: 63.5413\tvalid_0's l2: 4037.49\n",
      "[951]\tvalid_0's rmse: 63.5278\tvalid_0's l2: 4035.78\n",
      "[952]\tvalid_0's rmse: 63.5146\tvalid_0's l2: 4034.1\n",
      "[953]\tvalid_0's rmse: 63.502\tvalid_0's l2: 4032.5\n",
      "[954]\tvalid_0's rmse: 63.4888\tvalid_0's l2: 4030.82\n",
      "[955]\tvalid_0's rmse: 63.476\tvalid_0's l2: 4029.2\n",
      "[956]\tvalid_0's rmse: 63.4628\tvalid_0's l2: 4027.53\n",
      "[957]\tvalid_0's rmse: 63.4501\tvalid_0's l2: 4025.91\n",
      "[958]\tvalid_0's rmse: 63.4369\tvalid_0's l2: 4024.24\n",
      "[959]\tvalid_0's rmse: 63.4235\tvalid_0's l2: 4022.54\n",
      "[960]\tvalid_0's rmse: 63.411\tvalid_0's l2: 4020.96\n",
      "[961]\tvalid_0's rmse: 63.3983\tvalid_0's l2: 4019.35\n",
      "[962]\tvalid_0's rmse: 63.385\tvalid_0's l2: 4017.66\n",
      "[963]\tvalid_0's rmse: 63.3719\tvalid_0's l2: 4016\n",
      "[964]\tvalid_0's rmse: 63.3595\tvalid_0's l2: 4014.42\n",
      "[965]\tvalid_0's rmse: 63.3468\tvalid_0's l2: 4012.82\n",
      "[966]\tvalid_0's rmse: 63.3338\tvalid_0's l2: 4011.17\n",
      "[967]\tvalid_0's rmse: 63.3205\tvalid_0's l2: 4009.49\n",
      "[968]\tvalid_0's rmse: 63.3075\tvalid_0's l2: 4007.84\n",
      "[969]\tvalid_0's rmse: 63.2949\tvalid_0's l2: 4006.24\n",
      "[970]\tvalid_0's rmse: 63.2825\tvalid_0's l2: 4004.68\n",
      "[971]\tvalid_0's rmse: 63.2693\tvalid_0's l2: 4003\n",
      "[972]\tvalid_0's rmse: 63.257\tvalid_0's l2: 4001.44\n",
      "[973]\tvalid_0's rmse: 63.244\tvalid_0's l2: 3999.8\n",
      "[974]\tvalid_0's rmse: 63.2315\tvalid_0's l2: 3998.22\n",
      "[975]\tvalid_0's rmse: 63.2183\tvalid_0's l2: 3996.55\n",
      "[976]\tvalid_0's rmse: 63.2054\tvalid_0's l2: 3994.92\n",
      "[977]\tvalid_0's rmse: 63.1931\tvalid_0's l2: 3993.37\n",
      "[978]\tvalid_0's rmse: 63.1802\tvalid_0's l2: 3991.74\n",
      "[979]\tvalid_0's rmse: 63.1671\tvalid_0's l2: 3990.09\n",
      "[980]\tvalid_0's rmse: 63.1546\tvalid_0's l2: 3988.51\n",
      "[981]\tvalid_0's rmse: 63.1418\tvalid_0's l2: 3986.89\n",
      "[982]\tvalid_0's rmse: 63.1293\tvalid_0's l2: 3985.31\n",
      "[983]\tvalid_0's rmse: 63.1211\tvalid_0's l2: 3984.27\n",
      "[984]\tvalid_0's rmse: 63.1083\tvalid_0's l2: 3982.65\n",
      "[985]\tvalid_0's rmse: 63.0958\tvalid_0's l2: 3981.09\n",
      "[986]\tvalid_0's rmse: 63.0831\tvalid_0's l2: 3979.47\n",
      "[987]\tvalid_0's rmse: 63.0709\tvalid_0's l2: 3977.94\n",
      "[988]\tvalid_0's rmse: 63.0579\tvalid_0's l2: 3976.3\n",
      "[989]\tvalid_0's rmse: 63.0451\tvalid_0's l2: 3974.69\n",
      "[990]\tvalid_0's rmse: 63.0369\tvalid_0's l2: 3973.65\n",
      "[991]\tvalid_0's rmse: 63.0239\tvalid_0's l2: 3972.02\n",
      "[992]\tvalid_0's rmse: 63.0116\tvalid_0's l2: 3970.46\n"
     ]
    },
    {
     "name": "stdout",
     "output_type": "stream",
     "text": [
      "[993]\tvalid_0's rmse: 62.9995\tvalid_0's l2: 3968.94\n",
      "[994]\tvalid_0's rmse: 62.9866\tvalid_0's l2: 3967.31\n",
      "[995]\tvalid_0's rmse: 62.9745\tvalid_0's l2: 3965.79\n",
      "[996]\tvalid_0's rmse: 62.9619\tvalid_0's l2: 3964.19\n",
      "[997]\tvalid_0's rmse: 62.949\tvalid_0's l2: 3962.57\n",
      "[998]\tvalid_0's rmse: 62.9363\tvalid_0's l2: 3960.98\n",
      "[999]\tvalid_0's rmse: 62.9243\tvalid_0's l2: 3959.47\n",
      "[1000]\tvalid_0's rmse: 62.9115\tvalid_0's l2: 3957.86\n",
      "Did not meet early stopping. Best iteration is:\n",
      "[1000]\tvalid_0's rmse: 62.9115\tvalid_0's l2: 3957.86\n",
      "MSE : 3957.857 , RMSE : 62.912\n",
      "Variance score = R제곱 -> 1에 가까울 수록 좋다 (0과 1사이)\n",
      "Variance score : 0.405\n"
     ]
    }
   ],
   "source": [
    "max_params = BO_lgb.max['params']\n",
    "\n",
    "max_params['num_leaves'] = int(round(max_params['num_leaves']))\n",
    "max_params['max_depth'] = int(round(max_params['max_depth']))\n",
    "\n",
    "lgbm_clf_bayes_best = LGBMRegressor(n_estimators=1000, learning_rate=0.001, **max_params)\n",
    "\n",
    "evals = [(X_test, y_test)]\n",
    "lightgbmregressor.fit(X_train, y_train, early_stopping_rounds=100, eval_metric=\"rmse\", eval_set=evals,\n",
    "                verbose=True)\n",
    "\n",
    "# accuracy score가 아니라 mse 와 rmse 로 확인 0에 가까울 수록 좋다.\n",
    "\n",
    "y_preds = lightgbmregressor.predict(X_test)\n",
    "mse = mean_squared_error(y_test, y_preds)\n",
    "rmse = np.sqrt(mse)\n",
    "\n",
    "print('MSE : {0:.3f} , RMSE : {1:.3F}'.format(mse , rmse))\n",
    "print('Variance score = R제곱 -> 1에 가까울 수록 좋다 (0과 1사이)')\n",
    "print('Variance score : {0:.3f}'.format(r2_score(y_test, y_preds)))"
   ]
  },
  {
   "cell_type": "code",
   "execution_count": 193,
   "metadata": {
    "scrolled": true
   },
   "outputs": [
    {
     "data": {
      "text/plain": [
       "LGBMRegressor(colsample_bytree=0.5322052324313045, learning_rate=0.001,\n",
       "              max_depth=98, min_child_weight=8.808455925130891,\n",
       "              min_split_gain=0.08980080006795221, n_estimators=1000,\n",
       "              num_leaves=32, reg_alpha=0.33167300365673624,\n",
       "              reg_lambda=0.09795425629285077, subsample=0.9427604735124657)"
      ]
     },
     "execution_count": 193,
     "metadata": {},
     "output_type": "execute_result"
    }
   ],
   "source": [
    "lgbm_clf_bayes_best"
   ]
  },
  {
   "cell_type": "code",
   "execution_count": 194,
   "metadata": {},
   "outputs": [
    {
     "name": "stdout",
     "output_type": "stream",
     "text": [
      "Score: 0.48988\n",
      "RSME: 58.65211\n",
      "RSME_std: 5.00459\n"
     ]
    }
   ],
   "source": [
    "acc_lgbm_clf_bayes_best = test_model(lgbm_clf_bayes_best, X_train, y_train)\n",
    "lgbm_clf_bayes_best_rsme = rsme(lgbm_clf_bayes_best, X_train, y_train)\n",
    "\n",
    "print('Score: {:.5f}'.format((acc_lgbm_clf_bayes_best[0])))\n",
    "print('RSME: {:.5f}'.format(lgbm_clf_bayes_best_rsme.mean()))\n",
    "print('RSME_std: {:.5f}'.format(lgbm_clf_bayes_best_rsme.std()))"
   ]
  },
  {
   "cell_type": "code",
   "execution_count": null,
   "metadata": {},
   "outputs": [],
   "source": []
  },
  {
   "cell_type": "code",
   "execution_count": null,
   "metadata": {},
   "outputs": [],
   "source": []
  },
  {
   "cell_type": "code",
   "execution_count": null,
   "metadata": {},
   "outputs": [],
   "source": []
  },
  {
   "cell_type": "code",
   "execution_count": null,
   "metadata": {},
   "outputs": [],
   "source": []
  },
  {
   "cell_type": "code",
   "execution_count": null,
   "metadata": {},
   "outputs": [],
   "source": []
  },
  {
   "cell_type": "code",
   "execution_count": null,
   "metadata": {},
   "outputs": [],
   "source": []
  }
 ],
 "metadata": {
  "kernelspec": {
   "display_name": "Python 3",
   "language": "python",
   "name": "python3"
  },
  "language_info": {
   "codemirror_mode": {
    "name": "ipython",
    "version": 3
   },
   "file_extension": ".py",
   "mimetype": "text/x-python",
   "name": "python",
   "nbconvert_exporter": "python",
   "pygments_lexer": "ipython3",
   "version": "3.7.7"
  }
 },
 "nbformat": 4,
 "nbformat_minor": 2
}
